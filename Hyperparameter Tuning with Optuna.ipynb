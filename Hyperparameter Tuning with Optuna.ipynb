{
 "cells": [
  {
   "cell_type": "markdown",
   "id": "bbf281a7",
   "metadata": {},
   "source": [
    "# Hyperparameter Tuning with Optuna"
   ]
  },
  {
   "cell_type": "code",
   "execution_count": 37,
   "id": "73d17f0f",
   "metadata": {},
   "outputs": [],
   "source": [
    "import pandas as pd\n",
    "import seaborn as sns\n",
    "\n",
    "from sklearn import metrics\n",
    "from sklearn.model_selection import train_test_split, RandomizedSearchCV\n",
    "from sklearn.linear_model import LinearRegression\n",
    "from sklearn.metrics import mean_absolute_error, mean_squared_error, r2_score\n",
    "from sklearn.ensemble import RandomForestRegressor, GradientBoostingRegressor, StackingRegressor, VotingRegressor\n",
    "from sklearn.linear_model import Ridge\n",
    "from sklearn.model_selection import GridSearchCV, cross_val_score\n",
    "from sklearn.svm import SVR\n",
    "\n",
    "import optuna"
   ]
  },
  {
   "cell_type": "code",
   "execution_count": 38,
   "id": "28216a91",
   "metadata": {},
   "outputs": [],
   "source": [
    "df = sns.load_dataset('healthexp')"
   ]
  },
  {
   "cell_type": "markdown",
   "id": "e69f7ca1",
   "metadata": {},
   "source": [
    "## Data Exploration"
   ]
  },
  {
   "cell_type": "code",
   "execution_count": 39,
   "id": "202e5d7e",
   "metadata": {},
   "outputs": [
    {
     "data": {
      "text/html": [
       "<div>\n",
       "<style scoped>\n",
       "    .dataframe tbody tr th:only-of-type {\n",
       "        vertical-align: middle;\n",
       "    }\n",
       "\n",
       "    .dataframe tbody tr th {\n",
       "        vertical-align: top;\n",
       "    }\n",
       "\n",
       "    .dataframe thead th {\n",
       "        text-align: right;\n",
       "    }\n",
       "</style>\n",
       "<table border=\"1\" class=\"dataframe\">\n",
       "  <thead>\n",
       "    <tr style=\"text-align: right;\">\n",
       "      <th></th>\n",
       "      <th>Year</th>\n",
       "      <th>Country</th>\n",
       "      <th>Spending_USD</th>\n",
       "      <th>Life_Expectancy</th>\n",
       "    </tr>\n",
       "  </thead>\n",
       "  <tbody>\n",
       "    <tr>\n",
       "      <th>0</th>\n",
       "      <td>1970</td>\n",
       "      <td>Germany</td>\n",
       "      <td>252.311</td>\n",
       "      <td>70.6</td>\n",
       "    </tr>\n",
       "    <tr>\n",
       "      <th>1</th>\n",
       "      <td>1970</td>\n",
       "      <td>France</td>\n",
       "      <td>192.143</td>\n",
       "      <td>72.2</td>\n",
       "    </tr>\n",
       "    <tr>\n",
       "      <th>2</th>\n",
       "      <td>1970</td>\n",
       "      <td>Great Britain</td>\n",
       "      <td>123.993</td>\n",
       "      <td>71.9</td>\n",
       "    </tr>\n",
       "    <tr>\n",
       "      <th>3</th>\n",
       "      <td>1970</td>\n",
       "      <td>Japan</td>\n",
       "      <td>150.437</td>\n",
       "      <td>72.0</td>\n",
       "    </tr>\n",
       "    <tr>\n",
       "      <th>4</th>\n",
       "      <td>1970</td>\n",
       "      <td>USA</td>\n",
       "      <td>326.961</td>\n",
       "      <td>70.9</td>\n",
       "    </tr>\n",
       "  </tbody>\n",
       "</table>\n",
       "</div>"
      ],
      "text/plain": [
       "   Year        Country  Spending_USD  Life_Expectancy\n",
       "0  1970        Germany       252.311             70.6\n",
       "1  1970         France       192.143             72.2\n",
       "2  1970  Great Britain       123.993             71.9\n",
       "3  1970          Japan       150.437             72.0\n",
       "4  1970            USA       326.961             70.9"
      ]
     },
     "execution_count": 39,
     "metadata": {},
     "output_type": "execute_result"
    }
   ],
   "source": [
    "df.head()"
   ]
  },
  {
   "cell_type": "code",
   "execution_count": 40,
   "id": "ac185801",
   "metadata": {},
   "outputs": [
    {
     "data": {
      "text/plain": [
       "(274, 4)"
      ]
     },
     "execution_count": 40,
     "metadata": {},
     "output_type": "execute_result"
    }
   ],
   "source": [
    "df.shape"
   ]
  },
  {
   "cell_type": "code",
   "execution_count": 41,
   "id": "edee5bad",
   "metadata": {},
   "outputs": [
    {
     "data": {
      "text/html": [
       "<div>\n",
       "<style scoped>\n",
       "    .dataframe tbody tr th:only-of-type {\n",
       "        vertical-align: middle;\n",
       "    }\n",
       "\n",
       "    .dataframe tbody tr th {\n",
       "        vertical-align: top;\n",
       "    }\n",
       "\n",
       "    .dataframe thead th {\n",
       "        text-align: right;\n",
       "    }\n",
       "</style>\n",
       "<table border=\"1\" class=\"dataframe\">\n",
       "  <thead>\n",
       "    <tr style=\"text-align: right;\">\n",
       "      <th></th>\n",
       "      <th>Year</th>\n",
       "      <th>Spending_USD</th>\n",
       "      <th>Life_Expectancy</th>\n",
       "    </tr>\n",
       "  </thead>\n",
       "  <tbody>\n",
       "    <tr>\n",
       "      <th>count</th>\n",
       "      <td>274.000000</td>\n",
       "      <td>274.000000</td>\n",
       "      <td>274.000000</td>\n",
       "    </tr>\n",
       "    <tr>\n",
       "      <th>mean</th>\n",
       "      <td>1996.992701</td>\n",
       "      <td>2789.338905</td>\n",
       "      <td>77.909489</td>\n",
       "    </tr>\n",
       "    <tr>\n",
       "      <th>std</th>\n",
       "      <td>14.180933</td>\n",
       "      <td>2194.939785</td>\n",
       "      <td>3.276263</td>\n",
       "    </tr>\n",
       "    <tr>\n",
       "      <th>min</th>\n",
       "      <td>1970.000000</td>\n",
       "      <td>123.993000</td>\n",
       "      <td>70.600000</td>\n",
       "    </tr>\n",
       "    <tr>\n",
       "      <th>25%</th>\n",
       "      <td>1985.250000</td>\n",
       "      <td>1038.357000</td>\n",
       "      <td>75.525000</td>\n",
       "    </tr>\n",
       "    <tr>\n",
       "      <th>50%</th>\n",
       "      <td>1998.000000</td>\n",
       "      <td>2295.578000</td>\n",
       "      <td>78.100000</td>\n",
       "    </tr>\n",
       "    <tr>\n",
       "      <th>75%</th>\n",
       "      <td>2009.000000</td>\n",
       "      <td>4055.610000</td>\n",
       "      <td>80.575000</td>\n",
       "    </tr>\n",
       "    <tr>\n",
       "      <th>max</th>\n",
       "      <td>2020.000000</td>\n",
       "      <td>11859.179000</td>\n",
       "      <td>84.700000</td>\n",
       "    </tr>\n",
       "  </tbody>\n",
       "</table>\n",
       "</div>"
      ],
      "text/plain": [
       "              Year  Spending_USD  Life_Expectancy\n",
       "count   274.000000    274.000000       274.000000\n",
       "mean   1996.992701   2789.338905        77.909489\n",
       "std      14.180933   2194.939785         3.276263\n",
       "min    1970.000000    123.993000        70.600000\n",
       "25%    1985.250000   1038.357000        75.525000\n",
       "50%    1998.000000   2295.578000        78.100000\n",
       "75%    2009.000000   4055.610000        80.575000\n",
       "max    2020.000000  11859.179000        84.700000"
      ]
     },
     "execution_count": 41,
     "metadata": {},
     "output_type": "execute_result"
    }
   ],
   "source": [
    "df.describe()"
   ]
  },
  {
   "cell_type": "markdown",
   "id": "4e76b67c",
   "metadata": {},
   "source": [
    "## Model Preparation"
   ]
  },
  {
   "cell_type": "markdown",
   "id": "1241048b",
   "metadata": {},
   "source": [
    "### Create Binary Numbers for Catagorical Column"
   ]
  },
  {
   "cell_type": "code",
   "execution_count": 42,
   "id": "f430f715",
   "metadata": {},
   "outputs": [],
   "source": [
    "df = pd.get_dummies(df)"
   ]
  },
  {
   "cell_type": "code",
   "execution_count": 43,
   "id": "9277c3d2",
   "metadata": {},
   "outputs": [
    {
     "data": {
      "text/html": [
       "<div>\n",
       "<style scoped>\n",
       "    .dataframe tbody tr th:only-of-type {\n",
       "        vertical-align: middle;\n",
       "    }\n",
       "\n",
       "    .dataframe tbody tr th {\n",
       "        vertical-align: top;\n",
       "    }\n",
       "\n",
       "    .dataframe thead th {\n",
       "        text-align: right;\n",
       "    }\n",
       "</style>\n",
       "<table border=\"1\" class=\"dataframe\">\n",
       "  <thead>\n",
       "    <tr style=\"text-align: right;\">\n",
       "      <th></th>\n",
       "      <th>Year</th>\n",
       "      <th>Spending_USD</th>\n",
       "      <th>Life_Expectancy</th>\n",
       "      <th>Country_Canada</th>\n",
       "      <th>Country_France</th>\n",
       "      <th>Country_Germany</th>\n",
       "      <th>Country_Great Britain</th>\n",
       "      <th>Country_Japan</th>\n",
       "      <th>Country_USA</th>\n",
       "    </tr>\n",
       "  </thead>\n",
       "  <tbody>\n",
       "    <tr>\n",
       "      <th>0</th>\n",
       "      <td>1970</td>\n",
       "      <td>252.311</td>\n",
       "      <td>70.6</td>\n",
       "      <td>0</td>\n",
       "      <td>0</td>\n",
       "      <td>1</td>\n",
       "      <td>0</td>\n",
       "      <td>0</td>\n",
       "      <td>0</td>\n",
       "    </tr>\n",
       "    <tr>\n",
       "      <th>1</th>\n",
       "      <td>1970</td>\n",
       "      <td>192.143</td>\n",
       "      <td>72.2</td>\n",
       "      <td>0</td>\n",
       "      <td>1</td>\n",
       "      <td>0</td>\n",
       "      <td>0</td>\n",
       "      <td>0</td>\n",
       "      <td>0</td>\n",
       "    </tr>\n",
       "    <tr>\n",
       "      <th>2</th>\n",
       "      <td>1970</td>\n",
       "      <td>123.993</td>\n",
       "      <td>71.9</td>\n",
       "      <td>0</td>\n",
       "      <td>0</td>\n",
       "      <td>0</td>\n",
       "      <td>1</td>\n",
       "      <td>0</td>\n",
       "      <td>0</td>\n",
       "    </tr>\n",
       "    <tr>\n",
       "      <th>3</th>\n",
       "      <td>1970</td>\n",
       "      <td>150.437</td>\n",
       "      <td>72.0</td>\n",
       "      <td>0</td>\n",
       "      <td>0</td>\n",
       "      <td>0</td>\n",
       "      <td>0</td>\n",
       "      <td>1</td>\n",
       "      <td>0</td>\n",
       "    </tr>\n",
       "    <tr>\n",
       "      <th>4</th>\n",
       "      <td>1970</td>\n",
       "      <td>326.961</td>\n",
       "      <td>70.9</td>\n",
       "      <td>0</td>\n",
       "      <td>0</td>\n",
       "      <td>0</td>\n",
       "      <td>0</td>\n",
       "      <td>0</td>\n",
       "      <td>1</td>\n",
       "    </tr>\n",
       "    <tr>\n",
       "      <th>...</th>\n",
       "      <td>...</td>\n",
       "      <td>...</td>\n",
       "      <td>...</td>\n",
       "      <td>...</td>\n",
       "      <td>...</td>\n",
       "      <td>...</td>\n",
       "      <td>...</td>\n",
       "      <td>...</td>\n",
       "      <td>...</td>\n",
       "    </tr>\n",
       "    <tr>\n",
       "      <th>269</th>\n",
       "      <td>2020</td>\n",
       "      <td>6938.983</td>\n",
       "      <td>81.1</td>\n",
       "      <td>0</td>\n",
       "      <td>0</td>\n",
       "      <td>1</td>\n",
       "      <td>0</td>\n",
       "      <td>0</td>\n",
       "      <td>0</td>\n",
       "    </tr>\n",
       "    <tr>\n",
       "      <th>270</th>\n",
       "      <td>2020</td>\n",
       "      <td>5468.418</td>\n",
       "      <td>82.3</td>\n",
       "      <td>0</td>\n",
       "      <td>1</td>\n",
       "      <td>0</td>\n",
       "      <td>0</td>\n",
       "      <td>0</td>\n",
       "      <td>0</td>\n",
       "    </tr>\n",
       "    <tr>\n",
       "      <th>271</th>\n",
       "      <td>2020</td>\n",
       "      <td>5018.700</td>\n",
       "      <td>80.4</td>\n",
       "      <td>0</td>\n",
       "      <td>0</td>\n",
       "      <td>0</td>\n",
       "      <td>1</td>\n",
       "      <td>0</td>\n",
       "      <td>0</td>\n",
       "    </tr>\n",
       "    <tr>\n",
       "      <th>272</th>\n",
       "      <td>2020</td>\n",
       "      <td>4665.641</td>\n",
       "      <td>84.7</td>\n",
       "      <td>0</td>\n",
       "      <td>0</td>\n",
       "      <td>0</td>\n",
       "      <td>0</td>\n",
       "      <td>1</td>\n",
       "      <td>0</td>\n",
       "    </tr>\n",
       "    <tr>\n",
       "      <th>273</th>\n",
       "      <td>2020</td>\n",
       "      <td>11859.179</td>\n",
       "      <td>77.0</td>\n",
       "      <td>0</td>\n",
       "      <td>0</td>\n",
       "      <td>0</td>\n",
       "      <td>0</td>\n",
       "      <td>0</td>\n",
       "      <td>1</td>\n",
       "    </tr>\n",
       "  </tbody>\n",
       "</table>\n",
       "<p>274 rows × 9 columns</p>\n",
       "</div>"
      ],
      "text/plain": [
       "     Year  Spending_USD  Life_Expectancy  Country_Canada  Country_France  \\\n",
       "0    1970       252.311             70.6               0               0   \n",
       "1    1970       192.143             72.2               0               1   \n",
       "2    1970       123.993             71.9               0               0   \n",
       "3    1970       150.437             72.0               0               0   \n",
       "4    1970       326.961             70.9               0               0   \n",
       "..    ...           ...              ...             ...             ...   \n",
       "269  2020      6938.983             81.1               0               0   \n",
       "270  2020      5468.418             82.3               0               1   \n",
       "271  2020      5018.700             80.4               0               0   \n",
       "272  2020      4665.641             84.7               0               0   \n",
       "273  2020     11859.179             77.0               0               0   \n",
       "\n",
       "     Country_Germany  Country_Great Britain  Country_Japan  Country_USA  \n",
       "0                  1                      0              0            0  \n",
       "1                  0                      0              0            0  \n",
       "2                  0                      1              0            0  \n",
       "3                  0                      0              1            0  \n",
       "4                  0                      0              0            1  \n",
       "..               ...                    ...            ...          ...  \n",
       "269                1                      0              0            0  \n",
       "270                0                      0              0            0  \n",
       "271                0                      1              0            0  \n",
       "272                0                      0              1            0  \n",
       "273                0                      0              0            1  \n",
       "\n",
       "[274 rows x 9 columns]"
      ]
     },
     "execution_count": 43,
     "metadata": {},
     "output_type": "execute_result"
    }
   ],
   "source": [
    "df"
   ]
  },
  {
   "cell_type": "markdown",
   "id": "e1bc1373",
   "metadata": {},
   "source": [
    "### Assign the Features into A Set 'X' and Assign the Target Value to 'Y'"
   ]
  },
  {
   "cell_type": "code",
   "execution_count": 44,
   "id": "2307a675",
   "metadata": {},
   "outputs": [],
   "source": [
    "X = df.drop(['Life_Expectancy'], axis =1)"
   ]
  },
  {
   "cell_type": "code",
   "execution_count": 45,
   "id": "a77af3fc",
   "metadata": {},
   "outputs": [],
   "source": [
    "y = df['Life_Expectancy']"
   ]
  },
  {
   "cell_type": "markdown",
   "id": "be2c0906",
   "metadata": {},
   "source": [
    "### Split the Data Between Training & Set"
   ]
  },
  {
   "cell_type": "code",
   "execution_count": 80,
   "id": "a3a1e69e",
   "metadata": {},
   "outputs": [],
   "source": [
    "X_train, X_test, y_train, y_test = train_test_split(X,y, test_size = 0.2 , random_state = 54)"
   ]
  },
  {
   "cell_type": "markdown",
   "id": "fc53d562",
   "metadata": {},
   "source": [
    "### Model Results Predection"
   ]
  },
  {
   "cell_type": "code",
   "execution_count": 81,
   "id": "10036c24",
   "metadata": {},
   "outputs": [],
   "source": [
    "def modelresults(predictions):\n",
    "    mae = mean_absolute_error(y_test, predictions)\n",
    "    mse = mean_squared_error(y_test, predictions)\n",
    "    r2 = r2_score(y_test, predictions)\n",
    "    \n",
    "    print('Mean absolute error on model is {:.4f}'.format(mae))\n",
    "    print('')\n",
    "    print('Mean squared error on model is {:.4f}'.format(mse))\n",
    "    print('')\n",
    "    print('The r2 score on model is {:.4f}'.format(r2))"
   ]
  },
  {
   "cell_type": "markdown",
   "id": "ff9364b4",
   "metadata": {},
   "source": [
    "### Random Forest Regressor Model"
   ]
  },
  {
   "cell_type": "code",
   "execution_count": 82,
   "id": "3ffbbacb",
   "metadata": {},
   "outputs": [],
   "source": [
    "rfr = RandomForestRegressor(random_state = 34)"
   ]
  },
  {
   "cell_type": "code",
   "execution_count": 83,
   "id": "12228c0e",
   "metadata": {},
   "outputs": [
    {
     "data": {
      "text/plain": [
       "RandomForestRegressor(random_state=34)"
      ]
     },
     "execution_count": 83,
     "metadata": {},
     "output_type": "execute_result"
    }
   ],
   "source": [
    "rfr.fit(X_train, y_train)"
   ]
  },
  {
   "cell_type": "code",
   "execution_count": 84,
   "id": "d412523a",
   "metadata": {},
   "outputs": [],
   "source": [
    "y_pred = rfr.predict(X_test)"
   ]
  },
  {
   "cell_type": "code",
   "execution_count": 85,
   "id": "c15e46ef",
   "metadata": {},
   "outputs": [
    {
     "name": "stdout",
     "output_type": "stream",
     "text": [
      "Mean absolute error on model is 0.3114\n",
      "\n",
      "Mean squared error on model is 0.1553\n",
      "\n",
      "The r2 score on model is 0.9836\n"
     ]
    }
   ],
   "source": [
    "modelresults(y_pred)"
   ]
  },
  {
   "cell_type": "markdown",
   "id": "75a75868",
   "metadata": {},
   "source": [
    "The results for this model is great. but for practice purposes, we will adapt the **Optuna model** in order to imporve the results by modifying the hyper parameters."
   ]
  },
  {
   "cell_type": "markdown",
   "id": "b672113f",
   "metadata": {},
   "source": [
    "## Optuna Model"
   ]
  },
  {
   "cell_type": "code",
   "execution_count": 133,
   "id": "4d5701a2",
   "metadata": {},
   "outputs": [],
   "source": [
    "def objective(trial):\n",
    "    n_estimators = trial.suggest_int('n_estimators', 100, 1000)\n",
    "    max_depth = trial.suggest_int('max_depth', 10, 50)\n",
    "    min_samples_split = trial.suggest_int('min_samples_split', 2, 32)\n",
    "    min_samples_leaf = trial.suggest_int('min_samples_leaf', 1, 32)\n",
    "    max_features = trial.suggest_categorical('max_features', ['auto', 'sqrt', 'log2'])\n",
    "    criterion = trial.suggest_categorical('criterion', ['mse', 'mae'])\n",
    "    \n",
    "    model = RandomForestRegressor(\n",
    "        n_estimators=n_estimators,\n",
    "        max_depth=max_depth,\n",
    "        min_samples_split=min_samples_split,\n",
    "        min_samples_leaf=min_samples_leaf,\n",
    "        max_features=max_features,\n",
    "        criterion=criterion\n",
    "    )\n",
    "\n",
    "    score = cross_val_score(model, X_train, y_train, cv=5, scoring='neg_mean_squared_error', n_jobs= -1)\n",
    "    score = score.mean()  # Return the mean of the neg_mean_squared_error values as a single float\n",
    "    \n",
    "    return score\n",
    "    \n",
    "    "
   ]
  },
  {
   "cell_type": "code",
   "execution_count": 134,
   "id": "666db642",
   "metadata": {},
   "outputs": [
    {
     "name": "stderr",
     "output_type": "stream",
     "text": [
      "[I 2023-11-06 20:03:14,547] A new study created in memory with name: no-name-24e0009f-9442-4135-99ac-ecf66fcba9dd\n"
     ]
    }
   ],
   "source": [
    "study = optuna.create_study(direction = 'maximize',\n",
    "                           sampler = optuna.samplers.RandomSampler(seed=42)\n",
    ")"
   ]
  },
  {
   "cell_type": "code",
   "execution_count": 135,
   "id": "dc8923d7",
   "metadata": {},
   "outputs": [
    {
     "name": "stderr",
     "output_type": "stream",
     "text": [
      "[I 2023-11-06 20:03:16,347] Trial 0 finished with value: -2.3082287521521803 and parameters: {'n_estimators': 437, 'max_depth': 48, 'min_samples_split': 24, 'min_samples_leaf': 20, 'max_features': 'auto', 'criterion': 'mse'}. Best is trial 0 with value: -2.3082287521521803.\n",
      "[I 2023-11-06 20:03:17,987] Trial 1 finished with value: -2.758021048664968 and parameters: {'n_estimators': 737, 'max_depth': 10, 'min_samples_split': 32, 'min_samples_leaf': 27, 'max_features': 'auto', 'criterion': 'mae'}. Best is trial 0 with value: -2.3082287521521803.\n",
      "[I 2023-11-06 20:03:18,955] Trial 2 finished with value: -0.9776709996975494 and parameters: {'n_estimators': 489, 'max_depth': 21, 'min_samples_split': 20, 'min_samples_leaf': 5, 'max_features': 'log2', 'criterion': 'mse'}. Best is trial 2 with value: -0.9776709996975494.\n",
      "[I 2023-11-06 20:03:20,033] Trial 3 finished with value: -2.992133019586524 and parameters: {'n_estimators': 563, 'max_depth': 34, 'min_samples_split': 3, 'min_samples_leaf': 20, 'max_features': 'log2', 'criterion': 'mse'}. Best is trial 2 with value: -0.9776709996975494.\n",
      "[I 2023-11-06 20:03:20,800] Trial 4 finished with value: -2.9729744162701364 and parameters: {'n_estimators': 374, 'max_depth': 14, 'min_samples_split': 23, 'min_samples_leaf': 15, 'max_features': 'sqrt', 'criterion': 'mse'}. Best is trial 2 with value: -0.9776709996975494.\n",
      "[I 2023-11-06 20:03:22,274] Trial 5 finished with value: -3.571121149988587 and parameters: {'n_estimators': 696, 'max_depth': 22, 'min_samples_split': 18, 'min_samples_leaf': 18, 'max_features': 'sqrt', 'criterion': 'mse'}. Best is trial 2 with value: -0.9776709996975494.\n",
      "[I 2023-11-06 20:03:23,913] Trial 6 finished with value: -1.0149117576436941 and parameters: {'n_estimators': 638, 'max_depth': 47, 'min_samples_split': 4, 'min_samples_leaf': 7, 'max_features': 'log2', 'criterion': 'mae'}. Best is trial 2 with value: -0.9776709996975494.\n",
      "[I 2023-11-06 20:03:24,747] Trial 7 finished with value: -0.9038589045214731 and parameters: {'n_estimators': 421, 'max_depth': 21, 'min_samples_split': 18, 'min_samples_leaf': 5, 'max_features': 'log2', 'criterion': 'mse'}. Best is trial 7 with value: -0.9038589045214731.\n",
      "[I 2023-11-06 20:03:25,005] Trial 8 finished with value: -2.4772331547275166 and parameters: {'n_estimators': 104, 'max_depth': 43, 'min_samples_split': 23, 'min_samples_leaf': 24, 'max_features': 'auto', 'criterion': 'mae'}. Best is trial 7 with value: -0.9038589045214731.\n",
      "[I 2023-11-06 20:03:26,311] Trial 9 finished with value: -1.8308852594125953 and parameters: {'n_estimators': 661, 'max_depth': 23, 'min_samples_split': 3, 'min_samples_leaf': 10, 'max_features': 'sqrt', 'criterion': 'mse'}. Best is trial 7 with value: -0.9038589045214731.\n",
      "[I 2023-11-06 20:03:26,748] Trial 10 finished with value: -2.237828976561041 and parameters: {'n_estimators': 207, 'max_depth': 39, 'min_samples_split': 25, 'min_samples_leaf': 18, 'max_features': 'auto', 'criterion': 'mse'}. Best is trial 7 with value: -0.9038589045214731.\n",
      "[I 2023-11-06 20:03:27,221] Trial 11 finished with value: -2.170703831067944 and parameters: {'n_estimators': 197, 'max_depth': 11, 'min_samples_split': 21, 'min_samples_leaf': 11, 'max_features': 'sqrt', 'criterion': 'mae'}. Best is trial 7 with value: -0.9038589045214731.\n",
      "[I 2023-11-06 20:03:27,853] Trial 12 finished with value: -1.019004140458663 and parameters: {'n_estimators': 306, 'max_depth': 13, 'min_samples_split': 10, 'min_samples_leaf': 6, 'max_features': 'auto', 'criterion': 'mse'}. Best is trial 7 with value: -0.9038589045214731.\n",
      "[I 2023-11-06 20:03:28,466] Trial 13 finished with value: -2.6361637148279597 and parameters: {'n_estimators': 268, 'max_depth': 46, 'min_samples_split': 18, 'min_samples_leaf': 26, 'max_features': 'auto', 'criterion': 'mae'}. Best is trial 7 with value: -0.9038589045214731.\n",
      "[I 2023-11-06 20:03:30,552] Trial 14 finished with value: -2.1754313335950113 and parameters: {'n_estimators': 837, 'max_depth': 45, 'min_samples_split': 2, 'min_samples_leaf': 17, 'max_features': 'auto', 'criterion': 'mae'}. Best is trial 7 with value: -0.9038589045214731.\n",
      "[I 2023-11-06 20:03:31,337] Trial 15 finished with value: -1.8146189127043955 and parameters: {'n_estimators': 391, 'max_depth': 31, 'min_samples_split': 23, 'min_samples_leaf': 12, 'max_features': 'auto', 'criterion': 'mse'}. Best is trial 7 with value: -0.9038589045214731.\n",
      "[I 2023-11-06 20:03:32,042] Trial 16 finished with value: -2.504037158954837 and parameters: {'n_estimators': 356, 'max_depth': 11, 'min_samples_split': 20, 'min_samples_leaf': 17, 'max_features': 'log2', 'criterion': 'mse'}. Best is trial 7 with value: -0.9038589045214731.\n",
      "[I 2023-11-06 20:03:33,296] Trial 17 finished with value: -2.3681631232536366 and parameters: {'n_estimators': 540, 'max_depth': 50, 'min_samples_split': 9, 'min_samples_leaf': 22, 'max_features': 'auto', 'criterion': 'mae'}. Best is trial 7 with value: -0.9038589045214731.\n",
      "[I 2023-11-06 20:03:34,775] Trial 18 finished with value: -2.7408719339287417 and parameters: {'n_estimators': 670, 'max_depth': 31, 'min_samples_split': 4, 'min_samples_leaf': 27, 'max_features': 'auto', 'criterion': 'mae'}. Best is trial 7 with value: -0.9038589045214731.\n",
      "[I 2023-11-06 20:03:35,008] Trial 19 finished with value: -4.791459144490581 and parameters: {'n_estimators': 114, 'max_depth': 30, 'min_samples_split': 9, 'min_samples_leaf': 21, 'max_features': 'sqrt', 'criterion': 'mse'}. Best is trial 7 with value: -0.9038589045214731.\n",
      "[I 2023-11-06 20:03:35,821] Trial 20 finished with value: -4.814698907653348 and parameters: {'n_estimators': 407, 'max_depth': 14, 'min_samples_split': 30, 'min_samples_leaf': 29, 'max_features': 'log2', 'criterion': 'mse'}. Best is trial 7 with value: -0.9038589045214731.\n",
      "[I 2023-11-06 20:03:36,571] Trial 21 finished with value: -2.99861766814137 and parameters: {'n_estimators': 317, 'max_depth': 13, 'min_samples_split': 29, 'min_samples_leaf': 29, 'max_features': 'auto', 'criterion': 'mae'}. Best is trial 7 with value: -0.9038589045214731.\n",
      "[I 2023-11-06 20:03:38,806] Trial 22 finished with value: -1.3341140555263398 and parameters: {'n_estimators': 899, 'max_depth': 41, 'min_samples_split': 21, 'min_samples_leaf': 3, 'max_features': 'sqrt', 'criterion': 'mae'}. Best is trial 7 with value: -0.9038589045214731.\n",
      "[I 2023-11-06 20:03:40,314] Trial 23 finished with value: -2.2315884842389444 and parameters: {'n_estimators': 697, 'max_depth': 10, 'min_samples_split': 6, 'min_samples_leaf': 18, 'max_features': 'auto', 'criterion': 'mse'}. Best is trial 7 with value: -0.9038589045214731.\n",
      "[I 2023-11-06 20:03:41,091] Trial 24 finished with value: -2.916607354388135 and parameters: {'n_estimators': 393, 'max_depth': 40, 'min_samples_split': 22, 'min_samples_leaf': 28, 'max_features': 'auto', 'criterion': 'mse'}. Best is trial 7 with value: -0.9038589045214731.\n",
      "[I 2023-11-06 20:03:41,703] Trial 25 finished with value: -6.421283741299211 and parameters: {'n_estimators': 319, 'max_depth': 49, 'min_samples_split': 14, 'min_samples_leaf': 29, 'max_features': 'sqrt', 'criterion': 'mse'}. Best is trial 7 with value: -0.9038589045214731.\n",
      "[I 2023-11-06 20:03:42,273] Trial 26 finished with value: -0.3896128260330344 and parameters: {'n_estimators': 275, 'max_depth': 39, 'min_samples_split': 10, 'min_samples_leaf': 1, 'max_features': 'log2', 'criterion': 'mse'}. Best is trial 26 with value: -0.3896128260330344.\n",
      "[I 2023-11-06 20:03:43,494] Trial 27 finished with value: -2.0230315202550933 and parameters: {'n_estimators': 433, 'max_depth': 10, 'min_samples_split': 30, 'min_samples_leaf': 14, 'max_features': 'auto', 'criterion': 'mae'}. Best is trial 26 with value: -0.3896128260330344.\n",
      "[I 2023-11-06 20:03:45,711] Trial 28 finished with value: -2.212034181372854 and parameters: {'n_estimators': 866, 'max_depth': 22, 'min_samples_split': 7, 'min_samples_leaf': 18, 'max_features': 'auto', 'criterion': 'mae'}. Best is trial 26 with value: -0.3896128260330344.\n",
      "[I 2023-11-06 20:03:47,697] Trial 29 finished with value: -3.0132859677149475 and parameters: {'n_estimators': 992, 'max_depth': 15, 'min_samples_split': 18, 'min_samples_leaf': 29, 'max_features': 'auto', 'criterion': 'mse'}. Best is trial 26 with value: -0.3896128260330344.\n"
     ]
    },
    {
     "name": "stderr",
     "output_type": "stream",
     "text": [
      "[I 2023-11-06 20:03:49,384] Trial 30 finished with value: -5.025141198101897 and parameters: {'n_estimators': 829, 'max_depth': 43, 'min_samples_split': 28, 'min_samples_leaf': 30, 'max_features': 'log2', 'criterion': 'mae'}. Best is trial 26 with value: -0.3896128260330344.\n",
      "[I 2023-11-06 20:03:51,223] Trial 31 finished with value: -2.5731346367242622 and parameters: {'n_estimators': 817, 'max_depth': 46, 'min_samples_split': 12, 'min_samples_leaf': 13, 'max_features': 'sqrt', 'criterion': 'mae'}. Best is trial 26 with value: -0.3896128260330344.\n",
      "[I 2023-11-06 20:03:52,667] Trial 32 finished with value: -0.2813504827848248 and parameters: {'n_estimators': 358, 'max_depth': 34, 'min_samples_split': 2, 'min_samples_leaf': 2, 'max_features': 'auto', 'criterion': 'mae'}. Best is trial 32 with value: -0.2813504827848248.\n",
      "[I 2023-11-06 20:03:53,554] Trial 33 finished with value: -0.29798421198328606 and parameters: {'n_estimators': 294, 'max_depth': 35, 'min_samples_split': 4, 'min_samples_leaf': 2, 'max_features': 'log2', 'criterion': 'mae'}. Best is trial 32 with value: -0.2813504827848248.\n",
      "[I 2023-11-06 20:03:54,705] Trial 34 finished with value: -1.5840205516158414 and parameters: {'n_estimators': 565, 'max_depth': 23, 'min_samples_split': 26, 'min_samples_leaf': 9, 'max_features': 'auto', 'criterion': 'mse'}. Best is trial 32 with value: -0.2813504827848248.\n",
      "[I 2023-11-06 20:03:56,152] Trial 35 finished with value: -0.8085336424385707 and parameters: {'n_estimators': 727, 'max_depth': 26, 'min_samples_split': 7, 'min_samples_leaf': 6, 'max_features': 'log2', 'criterion': 'mse'}. Best is trial 32 with value: -0.2813504827848248.\n",
      "[I 2023-11-06 20:03:58,029] Trial 36 finished with value: -2.3047371448461105 and parameters: {'n_estimators': 960, 'max_depth': 40, 'min_samples_split': 19, 'min_samples_leaf': 20, 'max_features': 'auto', 'criterion': 'mse'}. Best is trial 32 with value: -0.2813504827848248.\n",
      "[I 2023-11-06 20:03:58,438] Trial 37 finished with value: -2.9000811437395293 and parameters: {'n_estimators': 204, 'max_depth': 11, 'min_samples_split': 3, 'min_samples_leaf': 28, 'max_features': 'auto', 'criterion': 'mse'}. Best is trial 32 with value: -0.2813504827848248.\n",
      "[I 2023-11-06 20:03:58,948] Trial 38 finished with value: -2.310009477841595 and parameters: {'n_estimators': 256, 'max_depth': 27, 'min_samples_split': 14, 'min_samples_leaf': 20, 'max_features': 'auto', 'criterion': 'mse'}. Best is trial 32 with value: -0.2813504827848248.\n",
      "[I 2023-11-06 20:04:00,793] Trial 39 finished with value: -0.4134561277018632 and parameters: {'n_estimators': 871, 'max_depth': 37, 'min_samples_split': 7, 'min_samples_leaf': 3, 'max_features': 'auto', 'criterion': 'mse'}. Best is trial 32 with value: -0.2813504827848248.\n",
      "[I 2023-11-06 20:04:01,658] Trial 40 finished with value: -2.6291319893516607 and parameters: {'n_estimators': 449, 'max_depth': 36, 'min_samples_split': 16, 'min_samples_leaf': 18, 'max_features': 'log2', 'criterion': 'mse'}. Best is trial 32 with value: -0.2813504827848248.\n",
      "[I 2023-11-06 20:04:02,023] Trial 41 finished with value: -0.5737881892694576 and parameters: {'n_estimators': 162, 'max_depth': 14, 'min_samples_split': 2, 'min_samples_leaf': 4, 'max_features': 'auto', 'criterion': 'mse'}. Best is trial 32 with value: -0.2813504827848248.\n",
      "[I 2023-11-06 20:04:03,595] Trial 42 finished with value: -5.185027163891752 and parameters: {'n_estimators': 833, 'max_depth': 21, 'min_samples_split': 5, 'min_samples_leaf': 23, 'max_features': 'sqrt', 'criterion': 'mse'}. Best is trial 32 with value: -0.2813504827848248.\n",
      "[I 2023-11-06 20:04:04,115] Trial 43 finished with value: -5.261884440828483 and parameters: {'n_estimators': 259, 'max_depth': 40, 'min_samples_split': 27, 'min_samples_leaf': 32, 'max_features': 'log2', 'criterion': 'mae'}. Best is trial 32 with value: -0.2813504827848248.\n",
      "[I 2023-11-06 20:04:05,758] Trial 44 finished with value: -5.68855821609474 and parameters: {'n_estimators': 873, 'max_depth': 27, 'min_samples_split': 25, 'min_samples_leaf': 25, 'max_features': 'sqrt', 'criterion': 'mse'}. Best is trial 32 with value: -0.2813504827848248.\n",
      "[I 2023-11-06 20:04:07,470] Trial 45 finished with value: -4.916241527685402 and parameters: {'n_estimators': 906, 'max_depth': 25, 'min_samples_split': 2, 'min_samples_leaf': 29, 'max_features': 'log2', 'criterion': 'mse'}. Best is trial 32 with value: -0.2813504827848248.\n",
      "[I 2023-11-06 20:04:08,780] Trial 46 finished with value: -1.6707194306775102 and parameters: {'n_estimators': 669, 'max_depth': 28, 'min_samples_split': 11, 'min_samples_leaf': 11, 'max_features': 'log2', 'criterion': 'mse'}. Best is trial 32 with value: -0.2813504827848248.\n",
      "[I 2023-11-06 20:04:10,184] Trial 47 finished with value: -2.0773161400573303 and parameters: {'n_estimators': 545, 'max_depth': 12, 'min_samples_split': 19, 'min_samples_leaf': 15, 'max_features': 'auto', 'criterion': 'mae'}. Best is trial 32 with value: -0.2813504827848248.\n",
      "[I 2023-11-06 20:04:11,518] Trial 48 finished with value: -5.274036308547837 and parameters: {'n_estimators': 657, 'max_depth': 14, 'min_samples_split': 4, 'min_samples_leaf': 23, 'max_features': 'sqrt', 'criterion': 'mae'}. Best is trial 32 with value: -0.2813504827848248.\n",
      "[I 2023-11-06 20:04:13,379] Trial 49 finished with value: -6.187356403874742 and parameters: {'n_estimators': 988, 'max_depth': 25, 'min_samples_split': 13, 'min_samples_leaf': 27, 'max_features': 'sqrt', 'criterion': 'mse'}. Best is trial 32 with value: -0.2813504827848248.\n",
      "[I 2023-11-06 20:04:14,884] Trial 50 finished with value: -6.300657844083475 and parameters: {'n_estimators': 800, 'max_depth': 32, 'min_samples_split': 15, 'min_samples_leaf': 30, 'max_features': 'sqrt', 'criterion': 'mse'}. Best is trial 32 with value: -0.2813504827848248.\n",
      "[I 2023-11-06 20:04:15,309] Trial 51 finished with value: -5.607428566997683 and parameters: {'n_estimators': 207, 'max_depth': 14, 'min_samples_split': 22, 'min_samples_leaf': 24, 'max_features': 'sqrt', 'criterion': 'mae'}. Best is trial 32 with value: -0.2813504827848248.\n",
      "[I 2023-11-06 20:04:15,898] Trial 52 finished with value: -6.42062941151274 and parameters: {'n_estimators': 301, 'max_depth': 49, 'min_samples_split': 2, 'min_samples_leaf': 32, 'max_features': 'sqrt', 'criterion': 'mse'}. Best is trial 32 with value: -0.2813504827848248.\n",
      "[I 2023-11-06 20:04:17,294] Trial 53 finished with value: -2.3245976494119733 and parameters: {'n_estimators': 599, 'max_depth': 49, 'min_samples_split': 18, 'min_samples_leaf': 21, 'max_features': 'auto', 'criterion': 'mae'}. Best is trial 32 with value: -0.2813504827848248.\n",
      "[I 2023-11-06 20:04:17,585] Trial 54 finished with value: -6.343822700211952 and parameters: {'n_estimators': 140, 'max_depth': 21, 'min_samples_split': 31, 'min_samples_leaf': 29, 'max_features': 'sqrt', 'criterion': 'mae'}. Best is trial 32 with value: -0.2813504827848248.\n",
      "[I 2023-11-06 20:04:18,494] Trial 55 finished with value: -3.3238824328310344 and parameters: {'n_estimators': 418, 'max_depth': 33, 'min_samples_split': 4, 'min_samples_leaf': 32, 'max_features': 'auto', 'criterion': 'mae'}. Best is trial 32 with value: -0.2813504827848248.\n",
      "[I 2023-11-06 20:04:20,082] Trial 56 finished with value: -2.747939105607322 and parameters: {'n_estimators': 716, 'max_depth': 16, 'min_samples_split': 30, 'min_samples_leaf': 27, 'max_features': 'auto', 'criterion': 'mae'}. Best is trial 32 with value: -0.2813504827848248.\n",
      "[I 2023-11-06 20:04:21,760] Trial 57 finished with value: -2.55139762991033 and parameters: {'n_estimators': 880, 'max_depth': 11, 'min_samples_split': 2, 'min_samples_leaf': 13, 'max_features': 'sqrt', 'criterion': 'mse'}. Best is trial 32 with value: -0.2813504827848248.\n",
      "[I 2023-11-06 20:04:23,661] Trial 58 finished with value: -2.0942113382584635 and parameters: {'n_estimators': 973, 'max_depth': 44, 'min_samples_split': 27, 'min_samples_leaf': 15, 'max_features': 'auto', 'criterion': 'mse'}. Best is trial 32 with value: -0.2813504827848248.\n",
      "[I 2023-11-06 20:04:25,594] Trial 59 finished with value: -2.578602659500707 and parameters: {'n_estimators': 1000, 'max_depth': 50, 'min_samples_split': 19, 'min_samples_leaf': 25, 'max_features': 'auto', 'criterion': 'mse'}. Best is trial 32 with value: -0.2813504827848248.\n"
     ]
    },
    {
     "name": "stderr",
     "output_type": "stream",
     "text": [
      "[I 2023-11-06 20:04:27,454] Trial 60 finished with value: -2.4000627397102177 and parameters: {'n_estimators': 959, 'max_depth': 34, 'min_samples_split': 9, 'min_samples_leaf': 22, 'max_features': 'auto', 'criterion': 'mse'}. Best is trial 32 with value: -0.2813504827848248.\n",
      "[I 2023-11-06 20:04:28,957] Trial 61 finished with value: -3.504419819343667 and parameters: {'n_estimators': 795, 'max_depth': 31, 'min_samples_split': 28, 'min_samples_leaf': 18, 'max_features': 'sqrt', 'criterion': 'mse'}. Best is trial 32 with value: -0.2813504827848248.\n",
      "[I 2023-11-06 20:04:30,474] Trial 62 finished with value: -1.2248642139307016 and parameters: {'n_estimators': 780, 'max_depth': 35, 'min_samples_split': 23, 'min_samples_leaf': 7, 'max_features': 'log2', 'criterion': 'mse'}. Best is trial 32 with value: -0.2813504827848248.\n",
      "[I 2023-11-06 20:04:31,725] Trial 63 finished with value: -2.1692761147622597 and parameters: {'n_estimators': 494, 'max_depth': 47, 'min_samples_split': 12, 'min_samples_leaf': 17, 'max_features': 'auto', 'criterion': 'mae'}. Best is trial 32 with value: -0.2813504827848248.\n",
      "[I 2023-11-06 20:04:32,270] Trial 64 finished with value: -1.628569170490967 and parameters: {'n_estimators': 232, 'max_depth': 47, 'min_samples_split': 17, 'min_samples_leaf': 9, 'max_features': 'sqrt', 'criterion': 'mae'}. Best is trial 32 with value: -0.2813504827848248.\n",
      "[I 2023-11-06 20:04:33,120] Trial 65 finished with value: -0.7126174111042266 and parameters: {'n_estimators': 316, 'max_depth': 13, 'min_samples_split': 5, 'min_samples_leaf': 5, 'max_features': 'log2', 'criterion': 'mae'}. Best is trial 32 with value: -0.2813504827848248.\n",
      "[I 2023-11-06 20:04:34,938] Trial 66 finished with value: -1.1599234763899289 and parameters: {'n_estimators': 908, 'max_depth': 29, 'min_samples_split': 22, 'min_samples_leaf': 6, 'max_features': 'auto', 'criterion': 'mse'}. Best is trial 32 with value: -0.2813504827848248.\n",
      "[I 2023-11-06 20:04:35,412] Trial 67 finished with value: -1.0739045852934956 and parameters: {'n_estimators': 179, 'max_depth': 14, 'min_samples_split': 16, 'min_samples_leaf': 7, 'max_features': 'log2', 'criterion': 'mae'}. Best is trial 32 with value: -0.2813504827848248.\n",
      "[I 2023-11-06 20:04:36,675] Trial 68 finished with value: -5.029280504643872 and parameters: {'n_estimators': 665, 'max_depth': 13, 'min_samples_split': 29, 'min_samples_leaf': 30, 'max_features': 'log2', 'criterion': 'mse'}. Best is trial 32 with value: -0.2813504827848248.\n",
      "[I 2023-11-06 20:04:37,349] Trial 69 finished with value: -2.981528578287327 and parameters: {'n_estimators': 288, 'max_depth': 25, 'min_samples_split': 17, 'min_samples_leaf': 20, 'max_features': 'log2', 'criterion': 'mae'}. Best is trial 32 with value: -0.2813504827848248.\n",
      "[I 2023-11-06 20:04:38,968] Trial 70 finished with value: -2.6420572498206516 and parameters: {'n_estimators': 742, 'max_depth': 46, 'min_samples_split': 17, 'min_samples_leaf': 18, 'max_features': 'log2', 'criterion': 'mae'}. Best is trial 32 with value: -0.2813504827848248.\n",
      "[I 2023-11-06 20:04:40,142] Trial 71 finished with value: -1.0314102693220046 and parameters: {'n_estimators': 439, 'max_depth': 10, 'min_samples_split': 11, 'min_samples_leaf': 7, 'max_features': 'log2', 'criterion': 'mae'}. Best is trial 32 with value: -0.2813504827848248.\n",
      "[I 2023-11-06 20:04:41,871] Trial 72 finished with value: -3.6292069467675154 and parameters: {'n_estimators': 811, 'max_depth': 30, 'min_samples_split': 4, 'min_samples_leaf': 18, 'max_features': 'sqrt', 'criterion': 'mae'}. Best is trial 32 with value: -0.2813504827848248.\n",
      "[I 2023-11-06 20:04:43,034] Trial 73 finished with value: -1.8126287152074496 and parameters: {'n_estimators': 427, 'max_depth': 36, 'min_samples_split': 19, 'min_samples_leaf': 12, 'max_features': 'auto', 'criterion': 'mae'}. Best is trial 32 with value: -0.2813504827848248.\n",
      "[I 2023-11-06 20:04:43,670] Trial 74 finished with value: -1.8611033965350863 and parameters: {'n_estimators': 321, 'max_depth': 16, 'min_samples_split': 7, 'min_samples_leaf': 10, 'max_features': 'sqrt', 'criterion': 'mse'}. Best is trial 32 with value: -0.2813504827848248.\n",
      "[I 2023-11-06 20:04:45,757] Trial 75 finished with value: -3.367162501294729 and parameters: {'n_estimators': 985, 'max_depth': 14, 'min_samples_split': 14, 'min_samples_leaf': 32, 'max_features': 'auto', 'criterion': 'mae'}. Best is trial 32 with value: -0.2813504827848248.\n",
      "[I 2023-11-06 20:04:48,566] Trial 76 finished with value: -1.4733547230095492 and parameters: {'n_estimators': 937, 'max_depth': 32, 'min_samples_split': 19, 'min_samples_leaf': 9, 'max_features': 'auto', 'criterion': 'mae'}. Best is trial 32 with value: -0.2813504827848248.\n",
      "[I 2023-11-06 20:04:49,238] Trial 77 finished with value: -1.5857037719562892 and parameters: {'n_estimators': 318, 'max_depth': 14, 'min_samples_split': 20, 'min_samples_leaf': 10, 'max_features': 'auto', 'criterion': 'mse'}. Best is trial 32 with value: -0.2813504827848248.\n",
      "[I 2023-11-06 20:04:50,053] Trial 78 finished with value: -6.5240203969337305 and parameters: {'n_estimators': 403, 'max_depth': 15, 'min_samples_split': 3, 'min_samples_leaf': 32, 'max_features': 'sqrt', 'criterion': 'mae'}. Best is trial 32 with value: -0.2813504827848248.\n",
      "[I 2023-11-06 20:04:51,629] Trial 79 finished with value: -1.8258986986188752 and parameters: {'n_estimators': 636, 'max_depth': 29, 'min_samples_split': 14, 'min_samples_leaf': 12, 'max_features': 'log2', 'criterion': 'mae'}. Best is trial 32 with value: -0.2813504827848248.\n",
      "[I 2023-11-06 20:04:53,476] Trial 80 finished with value: -5.404661704787673 and parameters: {'n_estimators': 945, 'max_depth': 17, 'min_samples_split': 4, 'min_samples_leaf': 24, 'max_features': 'sqrt', 'criterion': 'mse'}. Best is trial 32 with value: -0.2813504827848248.\n",
      "[I 2023-11-06 20:04:54,013] Trial 81 finished with value: -3.415729585927918 and parameters: {'n_estimators': 247, 'max_depth': 16, 'min_samples_split': 27, 'min_samples_leaf': 22, 'max_features': 'log2', 'criterion': 'mae'}. Best is trial 32 with value: -0.2813504827848248.\n",
      "[I 2023-11-06 20:04:55,031] Trial 82 finished with value: -1.5600343822910925 and parameters: {'n_estimators': 495, 'max_depth': 25, 'min_samples_split': 16, 'min_samples_leaf': 10, 'max_features': 'auto', 'criterion': 'mse'}. Best is trial 32 with value: -0.2813504827848248.\n",
      "[I 2023-11-06 20:04:56,976] Trial 83 finished with value: -0.9188905670992339 and parameters: {'n_estimators': 589, 'max_depth': 47, 'min_samples_split': 21, 'min_samples_leaf': 4, 'max_features': 'auto', 'criterion': 'mae'}. Best is trial 32 with value: -0.2813504827848248.\n",
      "[I 2023-11-06 20:04:58,215] Trial 84 finished with value: -5.9398174082673725 and parameters: {'n_estimators': 658, 'max_depth': 31, 'min_samples_split': 29, 'min_samples_leaf': 26, 'max_features': 'sqrt', 'criterion': 'mse'}. Best is trial 32 with value: -0.2813504827848248.\n",
      "[I 2023-11-06 20:04:59,655] Trial 85 finished with value: -1.7959257171123646 and parameters: {'n_estimators': 613, 'max_depth': 41, 'min_samples_split': 29, 'min_samples_leaf': 11, 'max_features': 'log2', 'criterion': 'mae'}. Best is trial 32 with value: -0.2813504827848248.\n",
      "[I 2023-11-06 20:05:01,261] Trial 86 finished with value: -2.511041070637339 and parameters: {'n_estimators': 818, 'max_depth': 16, 'min_samples_split': 9, 'min_samples_leaf': 24, 'max_features': 'auto', 'criterion': 'mse'}. Best is trial 32 with value: -0.2813504827848248.\n",
      "[I 2023-11-06 20:05:02,158] Trial 87 finished with value: -2.7879617944459563 and parameters: {'n_estimators': 411, 'max_depth': 17, 'min_samples_split': 30, 'min_samples_leaf': 19, 'max_features': 'log2', 'criterion': 'mae'}. Best is trial 32 with value: -0.2813504827848248.\n",
      "[I 2023-11-06 20:05:03,230] Trial 88 finished with value: -2.9072823912127 and parameters: {'n_estimators': 555, 'max_depth': 35, 'min_samples_split': 2, 'min_samples_leaf': 28, 'max_features': 'auto', 'criterion': 'mse'}. Best is trial 32 with value: -0.2813504827848248.\n",
      "[I 2023-11-06 20:05:03,704] Trial 89 finished with value: -2.7938516775317432 and parameters: {'n_estimators': 237, 'max_depth': 33, 'min_samples_split': 20, 'min_samples_leaf': 14, 'max_features': 'sqrt', 'criterion': 'mse'}. Best is trial 32 with value: -0.2813504827848248.\n"
     ]
    },
    {
     "name": "stderr",
     "output_type": "stream",
     "text": [
      "[I 2023-11-06 20:05:05,609] Trial 90 finished with value: -3.1347505361927697 and parameters: {'n_estimators': 987, 'max_depth': 44, 'min_samples_split': 5, 'min_samples_leaf': 30, 'max_features': 'auto', 'criterion': 'mse'}. Best is trial 32 with value: -0.2813504827848248.\n",
      "[I 2023-11-06 20:05:06,572] Trial 91 finished with value: -1.6753567897803023 and parameters: {'n_estimators': 402, 'max_depth': 42, 'min_samples_split': 2, 'min_samples_leaf': 11, 'max_features': 'log2', 'criterion': 'mae'}. Best is trial 32 with value: -0.2813504827848248.\n",
      "[I 2023-11-06 20:05:08,321] Trial 92 finished with value: -2.208102453584775 and parameters: {'n_estimators': 764, 'max_depth': 28, 'min_samples_split': 8, 'min_samples_leaf': 15, 'max_features': 'log2', 'criterion': 'mae'}. Best is trial 32 with value: -0.2813504827848248.\n",
      "[I 2023-11-06 20:05:09,429] Trial 93 finished with value: -0.9105755589650741 and parameters: {'n_estimators': 426, 'max_depth': 33, 'min_samples_split': 21, 'min_samples_leaf': 1, 'max_features': 'log2', 'criterion': 'mae'}. Best is trial 32 with value: -0.2813504827848248.\n",
      "[I 2023-11-06 20:05:09,780] Trial 94 finished with value: -4.184222454767267 and parameters: {'n_estimators': 176, 'max_depth': 50, 'min_samples_split': 17, 'min_samples_leaf': 20, 'max_features': 'sqrt', 'criterion': 'mse'}. Best is trial 32 with value: -0.2813504827848248.\n",
      "[I 2023-11-06 20:05:10,302] Trial 95 finished with value: -3.990205358461263 and parameters: {'n_estimators': 271, 'max_depth': 11, 'min_samples_split': 16, 'min_samples_leaf': 19, 'max_features': 'sqrt', 'criterion': 'mse'}. Best is trial 32 with value: -0.2813504827848248.\n",
      "[I 2023-11-06 20:05:11,429] Trial 96 finished with value: -0.9719511585526153 and parameters: {'n_estimators': 461, 'max_depth': 32, 'min_samples_split': 6, 'min_samples_leaf': 6, 'max_features': 'sqrt', 'criterion': 'mae'}. Best is trial 32 with value: -0.2813504827848248.\n",
      "[I 2023-11-06 20:05:12,500] Trial 97 finished with value: -2.4174913967900302 and parameters: {'n_estimators': 468, 'max_depth': 11, 'min_samples_split': 6, 'min_samples_leaf': 23, 'max_features': 'auto', 'criterion': 'mae'}. Best is trial 32 with value: -0.2813504827848248.\n",
      "[I 2023-11-06 20:05:12,880] Trial 98 finished with value: -1.2627528602385587 and parameters: {'n_estimators': 117, 'max_depth': 14, 'min_samples_split': 26, 'min_samples_leaf': 6, 'max_features': 'auto', 'criterion': 'mae'}. Best is trial 32 with value: -0.2813504827848248.\n",
      "[I 2023-11-06 20:05:14,684] Trial 99 finished with value: -3.4279351846933075 and parameters: {'n_estimators': 870, 'max_depth': 44, 'min_samples_split': 14, 'min_samples_leaf': 22, 'max_features': 'log2', 'criterion': 'mae'}. Best is trial 32 with value: -0.2813504827848248.\n",
      "[I 2023-11-06 20:05:15,252] Trial 100 finished with value: -3.8805087847048854 and parameters: {'n_estimators': 287, 'max_depth': 11, 'min_samples_split': 7, 'min_samples_leaf': 19, 'max_features': 'sqrt', 'criterion': 'mse'}. Best is trial 32 with value: -0.2813504827848248.\n",
      "[I 2023-11-06 20:05:16,177] Trial 101 finished with value: -4.219950400440811 and parameters: {'n_estimators': 442, 'max_depth': 34, 'min_samples_split': 10, 'min_samples_leaf': 20, 'max_features': 'sqrt', 'criterion': 'mae'}. Best is trial 32 with value: -0.2813504827848248.\n",
      "[I 2023-11-06 20:05:18,156] Trial 102 finished with value: -2.1263912709117996 and parameters: {'n_estimators': 788, 'max_depth': 15, 'min_samples_split': 28, 'min_samples_leaf': 16, 'max_features': 'auto', 'criterion': 'mae'}. Best is trial 32 with value: -0.2813504827848248.\n",
      "[I 2023-11-06 20:05:19,610] Trial 103 finished with value: -0.7331605897083454 and parameters: {'n_estimators': 588, 'max_depth': 35, 'min_samples_split': 9, 'min_samples_leaf': 5, 'max_features': 'sqrt', 'criterion': 'mae'}. Best is trial 32 with value: -0.2813504827848248.\n",
      "[I 2023-11-06 20:05:19,857] Trial 104 finished with value: -2.852833131250856 and parameters: {'n_estimators': 116, 'max_depth': 47, 'min_samples_split': 5, 'min_samples_leaf': 19, 'max_features': 'log2', 'criterion': 'mse'}. Best is trial 32 with value: -0.2813504827848248.\n",
      "[I 2023-11-06 20:05:20,092] Trial 105 finished with value: -4.647890066983858 and parameters: {'n_estimators': 109, 'max_depth': 15, 'min_samples_split': 29, 'min_samples_leaf': 28, 'max_features': 'log2', 'criterion': 'mae'}. Best is trial 32 with value: -0.2813504827848248.\n",
      "[I 2023-11-06 20:05:21,028] Trial 106 finished with value: -1.0274335474554317 and parameters: {'n_estimators': 477, 'max_depth': 25, 'min_samples_split': 18, 'min_samples_leaf': 2, 'max_features': 'sqrt', 'criterion': 'mse'}. Best is trial 32 with value: -0.2813504827848248.\n",
      "[I 2023-11-06 20:05:21,946] Trial 107 finished with value: -5.381416037026588 and parameters: {'n_estimators': 450, 'max_depth': 21, 'min_samples_split': 13, 'min_samples_leaf': 24, 'max_features': 'sqrt', 'criterion': 'mae'}. Best is trial 32 with value: -0.2813504827848248.\n",
      "[I 2023-11-06 20:05:23,480] Trial 108 finished with value: -1.4561011111269082 and parameters: {'n_estimators': 760, 'max_depth': 18, 'min_samples_split': 2, 'min_samples_leaf': 9, 'max_features': 'auto', 'criterion': 'mse'}. Best is trial 32 with value: -0.2813504827848248.\n",
      "[I 2023-11-06 20:05:25,075] Trial 109 finished with value: -5.417279192011546 and parameters: {'n_estimators': 794, 'max_depth': 14, 'min_samples_split': 4, 'min_samples_leaf': 24, 'max_features': 'sqrt', 'criterion': 'mae'}. Best is trial 32 with value: -0.2813504827848248.\n",
      "[I 2023-11-06 20:05:26,849] Trial 110 finished with value: -2.778455702819449 and parameters: {'n_estimators': 820, 'max_depth': 38, 'min_samples_split': 10, 'min_samples_leaf': 19, 'max_features': 'log2', 'criterion': 'mae'}. Best is trial 32 with value: -0.2813504827848248.\n",
      "[I 2023-11-06 20:05:27,859] Trial 111 finished with value: -6.181185789449938 and parameters: {'n_estimators': 501, 'max_depth': 17, 'min_samples_split': 18, 'min_samples_leaf': 28, 'max_features': 'sqrt', 'criterion': 'mae'}. Best is trial 32 with value: -0.2813504827848248.\n",
      "[I 2023-11-06 20:05:28,485] Trial 112 finished with value: -3.3515915912134466 and parameters: {'n_estimators': 324, 'max_depth': 30, 'min_samples_split': 8, 'min_samples_leaf': 32, 'max_features': 'auto', 'criterion': 'mse'}. Best is trial 32 with value: -0.2813504827848248.\n",
      "[I 2023-11-06 20:05:29,649] Trial 113 finished with value: -3.710083641566208 and parameters: {'n_estimators': 611, 'max_depth': 47, 'min_samples_split': 3, 'min_samples_leaf': 23, 'max_features': 'log2', 'criterion': 'mse'}. Best is trial 32 with value: -0.2813504827848248.\n",
      "[I 2023-11-06 20:05:31,300] Trial 114 finished with value: -5.975950155441114 and parameters: {'n_estimators': 876, 'max_depth': 44, 'min_samples_split': 11, 'min_samples_leaf': 27, 'max_features': 'sqrt', 'criterion': 'mse'}. Best is trial 32 with value: -0.2813504827848248.\n",
      "[I 2023-11-06 20:05:33,185] Trial 115 finished with value: -1.0613826798001469 and parameters: {'n_estimators': 727, 'max_depth': 23, 'min_samples_split': 24, 'min_samples_leaf': 3, 'max_features': 'log2', 'criterion': 'mae'}. Best is trial 32 with value: -0.2813504827848248.\n",
      "[I 2023-11-06 20:05:35,694] Trial 116 finished with value: -0.3922595317706647 and parameters: {'n_estimators': 898, 'max_depth': 35, 'min_samples_split': 9, 'min_samples_leaf': 1, 'max_features': 'log2', 'criterion': 'mae'}. Best is trial 32 with value: -0.2813504827848248.\n",
      "[I 2023-11-06 20:05:37,365] Trial 117 finished with value: -4.078123062456419 and parameters: {'n_estimators': 819, 'max_depth': 50, 'min_samples_split': 12, 'min_samples_leaf': 25, 'max_features': 'log2', 'criterion': 'mae'}. Best is trial 32 with value: -0.2813504827848248.\n",
      "[I 2023-11-06 20:05:38,989] Trial 118 finished with value: -4.037348540946314 and parameters: {'n_estimators': 792, 'max_depth': 27, 'min_samples_split': 15, 'min_samples_leaf': 24, 'max_features': 'log2', 'criterion': 'mae'}. Best is trial 32 with value: -0.2813504827848248.\n",
      "[I 2023-11-06 20:05:39,621] Trial 119 finished with value: -5.179585866912106 and parameters: {'n_estimators': 310, 'max_depth': 11, 'min_samples_split': 2, 'min_samples_leaf': 32, 'max_features': 'log2', 'criterion': 'mae'}. Best is trial 32 with value: -0.2813504827848248.\n"
     ]
    },
    {
     "name": "stderr",
     "output_type": "stream",
     "text": [
      "[I 2023-11-06 20:05:41,371] Trial 120 finished with value: -3.008119554680834 and parameters: {'n_estimators': 808, 'max_depth': 13, 'min_samples_split': 14, 'min_samples_leaf': 29, 'max_features': 'auto', 'criterion': 'mae'}. Best is trial 32 with value: -0.2813504827848248.\n",
      "[I 2023-11-06 20:05:41,974] Trial 121 finished with value: -2.2961196247872016 and parameters: {'n_estimators': 308, 'max_depth': 48, 'min_samples_split': 22, 'min_samples_leaf': 20, 'max_features': 'auto', 'criterion': 'mse'}. Best is trial 32 with value: -0.2813504827848248.\n",
      "[I 2023-11-06 20:05:43,590] Trial 122 finished with value: -5.209303801844797 and parameters: {'n_estimators': 802, 'max_depth': 24, 'min_samples_split': 3, 'min_samples_leaf': 32, 'max_features': 'log2', 'criterion': 'mae'}. Best is trial 32 with value: -0.2813504827848248.\n",
      "[I 2023-11-06 20:05:45,066] Trial 123 finished with value: -4.6138590452807815 and parameters: {'n_estimators': 783, 'max_depth': 38, 'min_samples_split': 6, 'min_samples_leaf': 27, 'max_features': 'log2', 'criterion': 'mse'}. Best is trial 32 with value: -0.2813504827848248.\n",
      "[I 2023-11-06 20:05:45,440] Trial 124 finished with value: -0.7173637012234492 and parameters: {'n_estimators': 182, 'max_depth': 45, 'min_samples_split': 10, 'min_samples_leaf': 5, 'max_features': 'sqrt', 'criterion': 'mse'}. Best is trial 32 with value: -0.2813504827848248.\n",
      "[I 2023-11-06 20:05:46,776] Trial 125 finished with value: -2.416364593849085 and parameters: {'n_estimators': 596, 'max_depth': 13, 'min_samples_split': 14, 'min_samples_leaf': 12, 'max_features': 'sqrt', 'criterion': 'mae'}. Best is trial 32 with value: -0.2813504827848248.\n",
      "[I 2023-11-06 20:05:48,392] Trial 126 finished with value: -2.3772681243141913 and parameters: {'n_estimators': 715, 'max_depth': 13, 'min_samples_split': 28, 'min_samples_leaf': 16, 'max_features': 'log2', 'criterion': 'mae'}. Best is trial 32 with value: -0.2813504827848248.\n",
      "[I 2023-11-06 20:05:49,633] Trial 127 finished with value: -4.489896895179581 and parameters: {'n_estimators': 609, 'max_depth': 20, 'min_samples_split': 29, 'min_samples_leaf': 26, 'max_features': 'log2', 'criterion': 'mae'}. Best is trial 32 with value: -0.2813504827848248.\n",
      "[I 2023-11-06 20:05:51,086] Trial 128 finished with value: -5.691868632122054 and parameters: {'n_estimators': 728, 'max_depth': 37, 'min_samples_split': 21, 'min_samples_leaf': 25, 'max_features': 'sqrt', 'criterion': 'mae'}. Best is trial 32 with value: -0.2813504827848248.\n",
      "[I 2023-11-06 20:05:51,615] Trial 129 finished with value: -1.6751209250463908 and parameters: {'n_estimators': 216, 'max_depth': 23, 'min_samples_split': 25, 'min_samples_leaf': 6, 'max_features': 'sqrt', 'criterion': 'mae'}. Best is trial 32 with value: -0.2813504827848248.\n",
      "[I 2023-11-06 20:05:53,196] Trial 130 finished with value: -1.4264592761451989 and parameters: {'n_estimators': 655, 'max_depth': 50, 'min_samples_split': 21, 'min_samples_leaf': 9, 'max_features': 'log2', 'criterion': 'mae'}. Best is trial 32 with value: -0.2813504827848248.\n",
      "[I 2023-11-06 20:05:54,326] Trial 131 finished with value: -3.1982151671780583 and parameters: {'n_estimators': 587, 'max_depth': 49, 'min_samples_split': 12, 'min_samples_leaf': 21, 'max_features': 'log2', 'criterion': 'mse'}. Best is trial 32 with value: -0.2813504827848248.\n",
      "[I 2023-11-06 20:05:55,115] Trial 132 finished with value: -3.942169512806976 and parameters: {'n_estimators': 371, 'max_depth': 39, 'min_samples_split': 4, 'min_samples_leaf': 19, 'max_features': 'sqrt', 'criterion': 'mae'}. Best is trial 32 with value: -0.2813504827848248.\n",
      "[I 2023-11-06 20:05:57,118] Trial 133 finished with value: -4.170816912162904 and parameters: {'n_estimators': 972, 'max_depth': 40, 'min_samples_split': 6, 'min_samples_leaf': 25, 'max_features': 'log2', 'criterion': 'mae'}. Best is trial 32 with value: -0.2813504827848248.\n",
      "[I 2023-11-06 20:05:58,512] Trial 134 finished with value: -6.430149040201208 and parameters: {'n_estimators': 715, 'max_depth': 28, 'min_samples_split': 10, 'min_samples_leaf': 32, 'max_features': 'sqrt', 'criterion': 'mse'}. Best is trial 32 with value: -0.2813504827848248.\n",
      "[I 2023-11-06 20:05:59,142] Trial 135 finished with value: -4.500077833052151 and parameters: {'n_estimators': 298, 'max_depth': 13, 'min_samples_split': 23, 'min_samples_leaf': 21, 'max_features': 'sqrt', 'criterion': 'mae'}. Best is trial 32 with value: -0.2813504827848248.\n",
      "[I 2023-11-06 20:06:00,136] Trial 136 finished with value: -1.4648893428749648 and parameters: {'n_estimators': 478, 'max_depth': 36, 'min_samples_split': 14, 'min_samples_leaf': 9, 'max_features': 'auto', 'criterion': 'mse'}. Best is trial 32 with value: -0.2813504827848248.\n",
      "[I 2023-11-06 20:06:00,402] Trial 137 finished with value: -6.471122778764564 and parameters: {'n_estimators': 128, 'max_depth': 36, 'min_samples_split': 13, 'min_samples_leaf': 28, 'max_features': 'sqrt', 'criterion': 'mse'}. Best is trial 32 with value: -0.2813504827848248.\n",
      "[I 2023-11-06 20:06:02,090] Trial 138 finished with value: -3.1579210248267784 and parameters: {'n_estimators': 794, 'max_depth': 44, 'min_samples_split': 25, 'min_samples_leaf': 21, 'max_features': 'log2', 'criterion': 'mae'}. Best is trial 32 with value: -0.2813504827848248.\n",
      "[I 2023-11-06 20:06:03,212] Trial 139 finished with value: -3.5106870632012956 and parameters: {'n_estimators': 533, 'max_depth': 14, 'min_samples_split': 5, 'min_samples_leaf': 22, 'max_features': 'log2', 'criterion': 'mae'}. Best is trial 32 with value: -0.2813504827848248.\n",
      "[I 2023-11-06 20:06:04,000] Trial 140 finished with value: -2.2478646981366692 and parameters: {'n_estimators': 342, 'max_depth': 42, 'min_samples_split': 11, 'min_samples_leaf': 15, 'max_features': 'log2', 'criterion': 'mae'}. Best is trial 32 with value: -0.2813504827848248.\n",
      "[I 2023-11-06 20:06:04,738] Trial 141 finished with value: -5.745767841402307 and parameters: {'n_estimators': 362, 'max_depth': 38, 'min_samples_split': 28, 'min_samples_leaf': 25, 'max_features': 'sqrt', 'criterion': 'mae'}. Best is trial 32 with value: -0.2813504827848248.\n",
      "[I 2023-11-06 20:06:05,189] Trial 142 finished with value: -2.438721427148093 and parameters: {'n_estimators': 228, 'max_depth': 30, 'min_samples_split': 21, 'min_samples_leaf': 23, 'max_features': 'auto', 'criterion': 'mse'}. Best is trial 32 with value: -0.2813504827848248.\n",
      "[I 2023-11-06 20:06:06,001] Trial 143 finished with value: -1.9927108516601553 and parameters: {'n_estimators': 415, 'max_depth': 11, 'min_samples_split': 4, 'min_samples_leaf': 13, 'max_features': 'log2', 'criterion': 'mse'}. Best is trial 32 with value: -0.2813504827848248.\n",
      "[I 2023-11-06 20:06:06,521] Trial 144 finished with value: -5.142255612490548 and parameters: {'n_estimators': 250, 'max_depth': 14, 'min_samples_split': 21, 'min_samples_leaf': 23, 'max_features': 'sqrt', 'criterion': 'mae'}. Best is trial 32 with value: -0.2813504827848248.\n",
      "[I 2023-11-06 20:06:08,601] Trial 145 finished with value: -1.7599263424676965 and parameters: {'n_estimators': 884, 'max_depth': 39, 'min_samples_split': 26, 'min_samples_leaf': 11, 'max_features': 'log2', 'criterion': 'mae'}. Best is trial 32 with value: -0.2813504827848248.\n",
      "[I 2023-11-06 20:06:09,650] Trial 146 finished with value: -3.907666184858506 and parameters: {'n_estimators': 507, 'max_depth': 36, 'min_samples_split': 18, 'min_samples_leaf': 24, 'max_features': 'log2', 'criterion': 'mae'}. Best is trial 32 with value: -0.2813504827848248.\n",
      "[I 2023-11-06 20:06:10,644] Trial 147 finished with value: -1.0251154105470248 and parameters: {'n_estimators': 297, 'max_depth': 50, 'min_samples_split': 12, 'min_samples_leaf': 6, 'max_features': 'auto', 'criterion': 'mae'}. Best is trial 32 with value: -0.2813504827848248.\n",
      "[I 2023-11-06 20:06:11,281] Trial 148 finished with value: -4.56033368724341 and parameters: {'n_estimators': 305, 'max_depth': 50, 'min_samples_split': 32, 'min_samples_leaf': 21, 'max_features': 'sqrt', 'criterion': 'mae'}. Best is trial 32 with value: -0.2813504827848248.\n",
      "[I 2023-11-06 20:06:12,289] Trial 149 finished with value: -2.53732359617479 and parameters: {'n_estimators': 516, 'max_depth': 45, 'min_samples_split': 24, 'min_samples_leaf': 24, 'max_features': 'auto', 'criterion': 'mse'}. Best is trial 32 with value: -0.2813504827848248.\n"
     ]
    },
    {
     "name": "stderr",
     "output_type": "stream",
     "text": [
      "[I 2023-11-06 20:06:13,944] Trial 150 finished with value: -3.9432081242224384 and parameters: {'n_estimators': 881, 'max_depth': 33, 'min_samples_split': 15, 'min_samples_leaf': 24, 'max_features': 'log2', 'criterion': 'mse'}. Best is trial 32 with value: -0.2813504827848248.\n",
      "[I 2023-11-06 20:06:15,268] Trial 151 finished with value: -4.221370772304575 and parameters: {'n_estimators': 633, 'max_depth': 47, 'min_samples_split': 8, 'min_samples_leaf': 20, 'max_features': 'sqrt', 'criterion': 'mae'}. Best is trial 32 with value: -0.2813504827848248.\n",
      "[I 2023-11-06 20:06:15,789] Trial 152 finished with value: -1.4983678913745255 and parameters: {'n_estimators': 261, 'max_depth': 19, 'min_samples_split': 32, 'min_samples_leaf': 6, 'max_features': 'auto', 'criterion': 'mse'}. Best is trial 32 with value: -0.2813504827848248.\n",
      "[I 2023-11-06 20:06:16,885] Trial 153 finished with value: -1.3860204767687865 and parameters: {'n_estimators': 563, 'max_depth': 24, 'min_samples_split': 20, 'min_samples_leaf': 6, 'max_features': 'sqrt', 'criterion': 'mse'}. Best is trial 32 with value: -0.2813504827848248.\n",
      "[I 2023-11-06 20:06:18,454] Trial 154 finished with value: -2.0975154902048017 and parameters: {'n_estimators': 796, 'max_depth': 15, 'min_samples_split': 32, 'min_samples_leaf': 15, 'max_features': 'auto', 'criterion': 'mse'}. Best is trial 32 with value: -0.2813504827848248.\n",
      "[I 2023-11-06 20:06:20,458] Trial 155 finished with value: -2.2877677921037605 and parameters: {'n_estimators': 846, 'max_depth': 27, 'min_samples_split': 9, 'min_samples_leaf': 20, 'max_features': 'auto', 'criterion': 'mae'}. Best is trial 32 with value: -0.2813504827848248.\n",
      "[I 2023-11-06 20:06:21,850] Trial 156 finished with value: -5.985372537701516 and parameters: {'n_estimators': 698, 'max_depth': 29, 'min_samples_split': 28, 'min_samples_leaf': 26, 'max_features': 'sqrt', 'criterion': 'mae'}. Best is trial 32 with value: -0.2813504827848248.\n",
      "[I 2023-11-06 20:06:22,233] Trial 157 finished with value: -1.3479389110214848 and parameters: {'n_estimators': 151, 'max_depth': 31, 'min_samples_split': 31, 'min_samples_leaf': 2, 'max_features': 'log2', 'criterion': 'mae'}. Best is trial 32 with value: -0.2813504827848248.\n",
      "[I 2023-11-06 20:06:22,508] Trial 158 finished with value: -6.464632329655821 and parameters: {'n_estimators': 137, 'max_depth': 16, 'min_samples_split': 32, 'min_samples_leaf': 31, 'max_features': 'sqrt', 'criterion': 'mse'}. Best is trial 32 with value: -0.2813504827848248.\n",
      "[I 2023-11-06 20:06:23,932] Trial 159 finished with value: -1.071908565055454 and parameters: {'n_estimators': 564, 'max_depth': 30, 'min_samples_split': 22, 'min_samples_leaf': 5, 'max_features': 'log2', 'criterion': 'mae'}. Best is trial 32 with value: -0.2813504827848248.\n",
      "[I 2023-11-06 20:06:26,423] Trial 160 finished with value: -2.0747555830304547 and parameters: {'n_estimators': 973, 'max_depth': 13, 'min_samples_split': 22, 'min_samples_leaf': 15, 'max_features': 'auto', 'criterion': 'mae'}. Best is trial 32 with value: -0.2813504827848248.\n",
      "[I 2023-11-06 20:06:27,787] Trial 161 finished with value: -4.676364153564176 and parameters: {'n_estimators': 715, 'max_depth': 30, 'min_samples_split': 21, 'min_samples_leaf': 28, 'max_features': 'log2', 'criterion': 'mse'}. Best is trial 32 with value: -0.2813504827848248.\n",
      "[I 2023-11-06 20:06:28,435] Trial 162 finished with value: -3.315170793579052 and parameters: {'n_estimators': 294, 'max_depth': 37, 'min_samples_split': 14, 'min_samples_leaf': 21, 'max_features': 'log2', 'criterion': 'mae'}. Best is trial 32 with value: -0.2813504827848248.\n",
      "[I 2023-11-06 20:06:29,424] Trial 163 finished with value: -3.9611971175781293 and parameters: {'n_estimators': 466, 'max_depth': 45, 'min_samples_split': 26, 'min_samples_leaf': 19, 'max_features': 'sqrt', 'criterion': 'mae'}. Best is trial 32 with value: -0.2813504827848248.\n",
      "[I 2023-11-06 20:06:31,672] Trial 164 finished with value: -2.017983807185444 and parameters: {'n_estimators': 827, 'max_depth': 41, 'min_samples_split': 26, 'min_samples_leaf': 14, 'max_features': 'auto', 'criterion': 'mae'}. Best is trial 32 with value: -0.2813504827848248.\n",
      "[I 2023-11-06 20:06:32,621] Trial 165 finished with value: -1.910848516398061 and parameters: {'n_estimators': 430, 'max_depth': 26, 'min_samples_split': 23, 'min_samples_leaf': 13, 'max_features': 'auto', 'criterion': 'mse'}. Best is trial 32 with value: -0.2813504827848248.\n",
      "[I 2023-11-06 20:06:33,867] Trial 166 finished with value: -2.9828167474219494 and parameters: {'n_estimators': 643, 'max_depth': 37, 'min_samples_split': 21, 'min_samples_leaf': 15, 'max_features': 'sqrt', 'criterion': 'mse'}. Best is trial 32 with value: -0.2813504827848248.\n",
      "[I 2023-11-06 20:06:34,676] Trial 167 finished with value: -2.7495340640581434 and parameters: {'n_estimators': 407, 'max_depth': 25, 'min_samples_split': 14, 'min_samples_leaf': 19, 'max_features': 'log2', 'criterion': 'mse'}. Best is trial 32 with value: -0.2813504827848248.\n",
      "[I 2023-11-06 20:06:36,569] Trial 168 finished with value: -0.369722075055892 and parameters: {'n_estimators': 960, 'max_depth': 10, 'min_samples_split': 8, 'min_samples_leaf': 1, 'max_features': 'sqrt', 'criterion': 'mse'}. Best is trial 32 with value: -0.2813504827848248.\n",
      "[I 2023-11-06 20:06:38,538] Trial 169 finished with value: -2.4164722315958986 and parameters: {'n_estimators': 941, 'max_depth': 24, 'min_samples_split': 5, 'min_samples_leaf': 16, 'max_features': 'log2', 'criterion': 'mse'}. Best is trial 32 with value: -0.2813504827848248.\n",
      "[I 2023-11-06 20:06:39,319] Trial 170 finished with value: -1.5562686507538774 and parameters: {'n_estimators': 380, 'max_depth': 35, 'min_samples_split': 24, 'min_samples_leaf': 9, 'max_features': 'auto', 'criterion': 'mse'}. Best is trial 32 with value: -0.2813504827848248.\n",
      "[I 2023-11-06 20:06:40,429] Trial 171 finished with value: -3.8128285595779814 and parameters: {'n_estimators': 573, 'max_depth': 39, 'min_samples_split': 5, 'min_samples_leaf': 19, 'max_features': 'sqrt', 'criterion': 'mse'}. Best is trial 32 with value: -0.2813504827848248.\n",
      "[I 2023-11-06 20:06:40,760] Trial 172 finished with value: -4.303030964347412 and parameters: {'n_estimators': 139, 'max_depth': 35, 'min_samples_split': 31, 'min_samples_leaf': 20, 'max_features': 'sqrt', 'criterion': 'mae'}. Best is trial 32 with value: -0.2813504827848248.\n",
      "[I 2023-11-06 20:06:41,672] Trial 173 finished with value: -2.5073338141516297 and parameters: {'n_estimators': 470, 'max_depth': 44, 'min_samples_split': 29, 'min_samples_leaf': 12, 'max_features': 'sqrt', 'criterion': 'mse'}. Best is trial 32 with value: -0.2813504827848248.\n",
      "[I 2023-11-06 20:06:43,023] Trial 174 finished with value: -2.2699722899958386 and parameters: {'n_estimators': 701, 'max_depth': 13, 'min_samples_split': 21, 'min_samples_leaf': 15, 'max_features': 'log2', 'criterion': 'mse'}. Best is trial 32 with value: -0.2813504827848248.\n",
      "[I 2023-11-06 20:06:43,423] Trial 175 finished with value: -2.3280821089855808 and parameters: {'n_estimators': 186, 'max_depth': 10, 'min_samples_split': 21, 'min_samples_leaf': 20, 'max_features': 'auto', 'criterion': 'mse'}. Best is trial 32 with value: -0.2813504827848248.\n",
      "[I 2023-11-06 20:06:45,292] Trial 176 finished with value: -2.5928808319006658 and parameters: {'n_estimators': 989, 'max_depth': 15, 'min_samples_split': 23, 'min_samples_leaf': 13, 'max_features': 'sqrt', 'criterion': 'mse'}. Best is trial 32 with value: -0.2813504827848248.\n",
      "[I 2023-11-06 20:06:45,783] Trial 177 finished with value: -1.416940262830121 and parameters: {'n_estimators': 193, 'max_depth': 39, 'min_samples_split': 19, 'min_samples_leaf': 9, 'max_features': 'log2', 'criterion': 'mae'}. Best is trial 32 with value: -0.2813504827848248.\n",
      "[I 2023-11-06 20:06:46,440] Trial 178 finished with value: -3.3840554622822525 and parameters: {'n_estimators': 304, 'max_depth': 24, 'min_samples_split': 4, 'min_samples_leaf': 17, 'max_features': 'sqrt', 'criterion': 'mae'}. Best is trial 32 with value: -0.2813504827848248.\n",
      "[I 2023-11-06 20:06:47,998] Trial 179 finished with value: -2.136340015662731 and parameters: {'n_estimators': 686, 'max_depth': 31, 'min_samples_split': 12, 'min_samples_leaf': 11, 'max_features': 'sqrt', 'criterion': 'mae'}. Best is trial 32 with value: -0.2813504827848248.\n"
     ]
    },
    {
     "name": "stderr",
     "output_type": "stream",
     "text": [
      "[I 2023-11-06 20:06:48,986] Trial 180 finished with value: -6.3438495916334166 and parameters: {'n_estimators': 519, 'max_depth': 12, 'min_samples_split': 19, 'min_samples_leaf': 31, 'max_features': 'sqrt', 'criterion': 'mse'}. Best is trial 32 with value: -0.2813504827848248.\n",
      "[I 2023-11-06 20:06:49,937] Trial 181 finished with value: -4.88323290634343 and parameters: {'n_estimators': 505, 'max_depth': 41, 'min_samples_split': 12, 'min_samples_leaf': 22, 'max_features': 'sqrt', 'criterion': 'mse'}. Best is trial 32 with value: -0.2813504827848248.\n",
      "[I 2023-11-06 20:06:51,810] Trial 182 finished with value: -5.902734708567559 and parameters: {'n_estimators': 994, 'max_depth': 48, 'min_samples_split': 18, 'min_samples_leaf': 27, 'max_features': 'sqrt', 'criterion': 'mse'}. Best is trial 32 with value: -0.2813504827848248.\n",
      "[I 2023-11-06 20:06:53,960] Trial 183 finished with value: -1.0056676442958232 and parameters: {'n_estimators': 844, 'max_depth': 42, 'min_samples_split': 23, 'min_samples_leaf': 2, 'max_features': 'log2', 'criterion': 'mae'}. Best is trial 32 with value: -0.2813504827848248.\n",
      "[I 2023-11-06 20:06:55,314] Trial 184 finished with value: -2.258379316466329 and parameters: {'n_estimators': 598, 'max_depth': 22, 'min_samples_split': 14, 'min_samples_leaf': 15, 'max_features': 'log2', 'criterion': 'mae'}. Best is trial 32 with value: -0.2813504827848248.\n",
      "[I 2023-11-06 20:06:56,991] Trial 185 finished with value: -1.371544038812889 and parameters: {'n_estimators': 867, 'max_depth': 18, 'min_samples_split': 30, 'min_samples_leaf': 4, 'max_features': 'log2', 'criterion': 'mse'}. Best is trial 32 with value: -0.2813504827848248.\n",
      "[I 2023-11-06 20:06:58,537] Trial 186 finished with value: -2.6039466458735205 and parameters: {'n_estimators': 811, 'max_depth': 22, 'min_samples_split': 4, 'min_samples_leaf': 13, 'max_features': 'sqrt', 'criterion': 'mse'}. Best is trial 32 with value: -0.2813504827848248.\n",
      "[I 2023-11-06 20:07:00,241] Trial 187 finished with value: -5.0122297908327305 and parameters: {'n_estimators': 841, 'max_depth': 15, 'min_samples_split': 28, 'min_samples_leaf': 30, 'max_features': 'log2', 'criterion': 'mae'}. Best is trial 32 with value: -0.2813504827848248.\n",
      "[I 2023-11-06 20:07:01,489] Trial 188 finished with value: -0.5714332912125552 and parameters: {'n_estimators': 459, 'max_depth': 16, 'min_samples_split': 13, 'min_samples_leaf': 3, 'max_features': 'log2', 'criterion': 'mae'}. Best is trial 32 with value: -0.2813504827848248.\n",
      "[I 2023-11-06 20:07:02,551] Trial 189 finished with value: -2.9667963245327718 and parameters: {'n_estimators': 489, 'max_depth': 22, 'min_samples_split': 17, 'min_samples_leaf': 15, 'max_features': 'sqrt', 'criterion': 'mae'}. Best is trial 32 with value: -0.2813504827848248.\n",
      "[I 2023-11-06 20:07:03,087] Trial 190 finished with value: -3.0278306585123116 and parameters: {'n_estimators': 236, 'max_depth': 12, 'min_samples_split': 26, 'min_samples_leaf': 15, 'max_features': 'sqrt', 'criterion': 'mae'}. Best is trial 32 with value: -0.2813504827848248.\n",
      "[I 2023-11-06 20:07:03,839] Trial 191 finished with value: -1.907634013544159 and parameters: {'n_estimators': 315, 'max_depth': 15, 'min_samples_split': 5, 'min_samples_leaf': 10, 'max_features': 'sqrt', 'criterion': 'mae'}. Best is trial 32 with value: -0.2813504827848248.\n",
      "[I 2023-11-06 20:07:05,556] Trial 192 finished with value: -2.3104242504925407 and parameters: {'n_estimators': 833, 'max_depth': 35, 'min_samples_split': 11, 'min_samples_leaf': 20, 'max_features': 'auto', 'criterion': 'mse'}. Best is trial 32 with value: -0.2813504827848248.\n",
      "[I 2023-11-06 20:07:06,133] Trial 193 finished with value: -6.09112838866041 and parameters: {'n_estimators': 275, 'max_depth': 25, 'min_samples_split': 14, 'min_samples_leaf': 27, 'max_features': 'sqrt', 'criterion': 'mae'}. Best is trial 32 with value: -0.2813504827848248.\n",
      "[I 2023-11-06 20:07:06,515] Trial 194 finished with value: -1.1072975258139315 and parameters: {'n_estimators': 117, 'max_depth': 20, 'min_samples_split': 25, 'min_samples_leaf': 5, 'max_features': 'auto', 'criterion': 'mae'}. Best is trial 32 with value: -0.2813504827848248.\n",
      "[I 2023-11-06 20:07:08,711] Trial 195 finished with value: -0.8034578207343477 and parameters: {'n_estimators': 822, 'max_depth': 49, 'min_samples_split': 17, 'min_samples_leaf': 4, 'max_features': 'log2', 'criterion': 'mae'}. Best is trial 32 with value: -0.2813504827848248.\n",
      "[I 2023-11-06 20:07:09,255] Trial 196 finished with value: -2.3422625591970947 and parameters: {'n_estimators': 235, 'max_depth': 23, 'min_samples_split': 24, 'min_samples_leaf': 16, 'max_features': 'log2', 'criterion': 'mae'}. Best is trial 32 with value: -0.2813504827848248.\n",
      "[I 2023-11-06 20:07:11,247] Trial 197 finished with value: -3.6886158293993594 and parameters: {'n_estimators': 960, 'max_depth': 42, 'min_samples_split': 11, 'min_samples_leaf': 23, 'max_features': 'log2', 'criterion': 'mae'}. Best is trial 32 with value: -0.2813504827848248.\n",
      "[I 2023-11-06 20:07:12,256] Trial 198 finished with value: -3.035336744322362 and parameters: {'n_estimators': 515, 'max_depth': 36, 'min_samples_split': 22, 'min_samples_leaf': 29, 'max_features': 'auto', 'criterion': 'mse'}. Best is trial 32 with value: -0.2813504827848248.\n",
      "[I 2023-11-06 20:07:13,742] Trial 199 finished with value: -1.44163587519229 and parameters: {'n_estimators': 764, 'max_depth': 31, 'min_samples_split': 23, 'min_samples_leaf': 2, 'max_features': 'sqrt', 'criterion': 'mse'}. Best is trial 32 with value: -0.2813504827848248.\n"
     ]
    },
    {
     "name": "stdout",
     "output_type": "stream",
     "text": [
      "Wall time: 3min 58s\n"
     ]
    }
   ],
   "source": [
    "%%time\n",
    "study.optimize(objective, n_trials = 200)"
   ]
  },
  {
   "cell_type": "code",
   "execution_count": 136,
   "id": "7e5cec9d",
   "metadata": {},
   "outputs": [
    {
     "data": {
      "text/plain": [
       "{'n_estimators': 358,\n",
       " 'max_depth': 34,\n",
       " 'min_samples_split': 2,\n",
       " 'min_samples_leaf': 2,\n",
       " 'max_features': 'auto',\n",
       " 'criterion': 'mae'}"
      ]
     },
     "execution_count": 136,
     "metadata": {},
     "output_type": "execute_result"
    }
   ],
   "source": [
    "study.best_params"
   ]
  },
  {
   "cell_type": "code",
   "execution_count": 137,
   "id": "3f52baad",
   "metadata": {},
   "outputs": [],
   "source": [
    "best_params = study.best_params"
   ]
  },
  {
   "cell_type": "markdown",
   "id": "6f7a0a38",
   "metadata": {},
   "source": [
    "## Optuna Visualizations"
   ]
  },
  {
   "cell_type": "markdown",
   "id": "c261b17c",
   "metadata": {},
   "source": [
    "### Optimization History Plot"
   ]
  },
  {
   "cell_type": "code",
   "execution_count": 138,
   "id": "d9286648",
   "metadata": {
    "scrolled": false
   },
   "outputs": [
    {
     "data": {
      "application/vnd.plotly.v1+json": {
       "config": {
        "plotlyServerURL": "https://plot.ly"
       },
       "data": [
        {
         "mode": "markers",
         "name": "Objective Value",
         "type": "scatter",
         "x": [
          0,
          1,
          2,
          3,
          4,
          5,
          6,
          7,
          8,
          9,
          10,
          11,
          12,
          13,
          14,
          15,
          16,
          17,
          18,
          19,
          20,
          21,
          22,
          23,
          24,
          25,
          26,
          27,
          28,
          29,
          30,
          31,
          32,
          33,
          34,
          35,
          36,
          37,
          38,
          39,
          40,
          41,
          42,
          43,
          44,
          45,
          46,
          47,
          48,
          49,
          50,
          51,
          52,
          53,
          54,
          55,
          56,
          57,
          58,
          59,
          60,
          61,
          62,
          63,
          64,
          65,
          66,
          67,
          68,
          69,
          70,
          71,
          72,
          73,
          74,
          75,
          76,
          77,
          78,
          79,
          80,
          81,
          82,
          83,
          84,
          85,
          86,
          87,
          88,
          89,
          90,
          91,
          92,
          93,
          94,
          95,
          96,
          97,
          98,
          99,
          100,
          101,
          102,
          103,
          104,
          105,
          106,
          107,
          108,
          109,
          110,
          111,
          112,
          113,
          114,
          115,
          116,
          117,
          118,
          119,
          120,
          121,
          122,
          123,
          124,
          125,
          126,
          127,
          128,
          129,
          130,
          131,
          132,
          133,
          134,
          135,
          136,
          137,
          138,
          139,
          140,
          141,
          142,
          143,
          144,
          145,
          146,
          147,
          148,
          149,
          150,
          151,
          152,
          153,
          154,
          155,
          156,
          157,
          158,
          159,
          160,
          161,
          162,
          163,
          164,
          165,
          166,
          167,
          168,
          169,
          170,
          171,
          172,
          173,
          174,
          175,
          176,
          177,
          178,
          179,
          180,
          181,
          182,
          183,
          184,
          185,
          186,
          187,
          188,
          189,
          190,
          191,
          192,
          193,
          194,
          195,
          196,
          197,
          198,
          199
         ],
         "y": [
          -2.3082287521521803,
          -2.758021048664968,
          -0.9776709996975494,
          -2.992133019586524,
          -2.9729744162701364,
          -3.571121149988587,
          -1.0149117576436941,
          -0.9038589045214731,
          -2.4772331547275166,
          -1.8308852594125953,
          -2.237828976561041,
          -2.170703831067944,
          -1.019004140458663,
          -2.6361637148279597,
          -2.1754313335950113,
          -1.8146189127043955,
          -2.504037158954837,
          -2.3681631232536366,
          -2.7408719339287417,
          -4.791459144490581,
          -4.814698907653348,
          -2.99861766814137,
          -1.3341140555263398,
          -2.2315884842389444,
          -2.916607354388135,
          -6.421283741299211,
          -0.3896128260330344,
          -2.0230315202550933,
          -2.212034181372854,
          -3.0132859677149475,
          -5.025141198101897,
          -2.5731346367242622,
          -0.2813504827848248,
          -0.29798421198328606,
          -1.5840205516158414,
          -0.8085336424385707,
          -2.3047371448461105,
          -2.9000811437395293,
          -2.310009477841595,
          -0.4134561277018632,
          -2.6291319893516607,
          -0.5737881892694576,
          -5.185027163891752,
          -5.261884440828483,
          -5.68855821609474,
          -4.916241527685402,
          -1.6707194306775102,
          -2.0773161400573303,
          -5.274036308547837,
          -6.187356403874742,
          -6.300657844083475,
          -5.607428566997683,
          -6.42062941151274,
          -2.3245976494119733,
          -6.343822700211952,
          -3.3238824328310344,
          -2.747939105607322,
          -2.55139762991033,
          -2.0942113382584635,
          -2.578602659500707,
          -2.4000627397102177,
          -3.504419819343667,
          -1.2248642139307016,
          -2.1692761147622597,
          -1.628569170490967,
          -0.7126174111042266,
          -1.1599234763899289,
          -1.0739045852934956,
          -5.029280504643872,
          -2.981528578287327,
          -2.6420572498206516,
          -1.0314102693220046,
          -3.6292069467675154,
          -1.8126287152074496,
          -1.8611033965350863,
          -3.367162501294729,
          -1.4733547230095492,
          -1.5857037719562892,
          -6.5240203969337305,
          -1.8258986986188752,
          -5.404661704787673,
          -3.415729585927918,
          -1.5600343822910925,
          -0.9188905670992339,
          -5.9398174082673725,
          -1.7959257171123646,
          -2.511041070637339,
          -2.7879617944459563,
          -2.9072823912127,
          -2.7938516775317432,
          -3.1347505361927697,
          -1.6753567897803023,
          -2.208102453584775,
          -0.9105755589650741,
          -4.184222454767267,
          -3.990205358461263,
          -0.9719511585526153,
          -2.4174913967900302,
          -1.2627528602385587,
          -3.4279351846933075,
          -3.8805087847048854,
          -4.219950400440811,
          -2.1263912709117996,
          -0.7331605897083454,
          -2.852833131250856,
          -4.647890066983858,
          -1.0274335474554317,
          -5.381416037026588,
          -1.4561011111269082,
          -5.417279192011546,
          -2.778455702819449,
          -6.181185789449938,
          -3.3515915912134466,
          -3.710083641566208,
          -5.975950155441114,
          -1.0613826798001469,
          -0.3922595317706647,
          -4.078123062456419,
          -4.037348540946314,
          -5.179585866912106,
          -3.008119554680834,
          -2.2961196247872016,
          -5.209303801844797,
          -4.6138590452807815,
          -0.7173637012234492,
          -2.416364593849085,
          -2.3772681243141913,
          -4.489896895179581,
          -5.691868632122054,
          -1.6751209250463908,
          -1.4264592761451989,
          -3.1982151671780583,
          -3.942169512806976,
          -4.170816912162904,
          -6.430149040201208,
          -4.500077833052151,
          -1.4648893428749648,
          -6.471122778764564,
          -3.1579210248267784,
          -3.5106870632012956,
          -2.2478646981366692,
          -5.745767841402307,
          -2.438721427148093,
          -1.9927108516601553,
          -5.142255612490548,
          -1.7599263424676965,
          -3.907666184858506,
          -1.0251154105470248,
          -4.56033368724341,
          -2.53732359617479,
          -3.9432081242224384,
          -4.221370772304575,
          -1.4983678913745255,
          -1.3860204767687865,
          -2.0975154902048017,
          -2.2877677921037605,
          -5.985372537701516,
          -1.3479389110214848,
          -6.464632329655821,
          -1.071908565055454,
          -2.0747555830304547,
          -4.676364153564176,
          -3.315170793579052,
          -3.9611971175781293,
          -2.017983807185444,
          -1.910848516398061,
          -2.9828167474219494,
          -2.7495340640581434,
          -0.369722075055892,
          -2.4164722315958986,
          -1.5562686507538774,
          -3.8128285595779814,
          -4.303030964347412,
          -2.5073338141516297,
          -2.2699722899958386,
          -2.3280821089855808,
          -2.5928808319006658,
          -1.416940262830121,
          -3.3840554622822525,
          -2.136340015662731,
          -6.3438495916334166,
          -4.88323290634343,
          -5.902734708567559,
          -1.0056676442958232,
          -2.258379316466329,
          -1.371544038812889,
          -2.6039466458735205,
          -5.0122297908327305,
          -0.5714332912125552,
          -2.9667963245327718,
          -3.0278306585123116,
          -1.907634013544159,
          -2.3104242504925407,
          -6.09112838866041,
          -1.1072975258139315,
          -0.8034578207343477,
          -2.3422625591970947,
          -3.6886158293993594,
          -3.035336744322362,
          -1.44163587519229
         ]
        },
        {
         "mode": "lines",
         "name": "Best Value",
         "type": "scatter",
         "x": [
          0,
          1,
          2,
          3,
          4,
          5,
          6,
          7,
          8,
          9,
          10,
          11,
          12,
          13,
          14,
          15,
          16,
          17,
          18,
          19,
          20,
          21,
          22,
          23,
          24,
          25,
          26,
          27,
          28,
          29,
          30,
          31,
          32,
          33,
          34,
          35,
          36,
          37,
          38,
          39,
          40,
          41,
          42,
          43,
          44,
          45,
          46,
          47,
          48,
          49,
          50,
          51,
          52,
          53,
          54,
          55,
          56,
          57,
          58,
          59,
          60,
          61,
          62,
          63,
          64,
          65,
          66,
          67,
          68,
          69,
          70,
          71,
          72,
          73,
          74,
          75,
          76,
          77,
          78,
          79,
          80,
          81,
          82,
          83,
          84,
          85,
          86,
          87,
          88,
          89,
          90,
          91,
          92,
          93,
          94,
          95,
          96,
          97,
          98,
          99,
          100,
          101,
          102,
          103,
          104,
          105,
          106,
          107,
          108,
          109,
          110,
          111,
          112,
          113,
          114,
          115,
          116,
          117,
          118,
          119,
          120,
          121,
          122,
          123,
          124,
          125,
          126,
          127,
          128,
          129,
          130,
          131,
          132,
          133,
          134,
          135,
          136,
          137,
          138,
          139,
          140,
          141,
          142,
          143,
          144,
          145,
          146,
          147,
          148,
          149,
          150,
          151,
          152,
          153,
          154,
          155,
          156,
          157,
          158,
          159,
          160,
          161,
          162,
          163,
          164,
          165,
          166,
          167,
          168,
          169,
          170,
          171,
          172,
          173,
          174,
          175,
          176,
          177,
          178,
          179,
          180,
          181,
          182,
          183,
          184,
          185,
          186,
          187,
          188,
          189,
          190,
          191,
          192,
          193,
          194,
          195,
          196,
          197,
          198,
          199
         ],
         "y": [
          -2.3082287521521803,
          -2.3082287521521803,
          -0.9776709996975494,
          -0.9776709996975494,
          -0.9776709996975494,
          -0.9776709996975494,
          -0.9776709996975494,
          -0.9038589045214731,
          -0.9038589045214731,
          -0.9038589045214731,
          -0.9038589045214731,
          -0.9038589045214731,
          -0.9038589045214731,
          -0.9038589045214731,
          -0.9038589045214731,
          -0.9038589045214731,
          -0.9038589045214731,
          -0.9038589045214731,
          -0.9038589045214731,
          -0.9038589045214731,
          -0.9038589045214731,
          -0.9038589045214731,
          -0.9038589045214731,
          -0.9038589045214731,
          -0.9038589045214731,
          -0.9038589045214731,
          -0.3896128260330344,
          -0.3896128260330344,
          -0.3896128260330344,
          -0.3896128260330344,
          -0.3896128260330344,
          -0.3896128260330344,
          -0.2813504827848248,
          -0.2813504827848248,
          -0.2813504827848248,
          -0.2813504827848248,
          -0.2813504827848248,
          -0.2813504827848248,
          -0.2813504827848248,
          -0.2813504827848248,
          -0.2813504827848248,
          -0.2813504827848248,
          -0.2813504827848248,
          -0.2813504827848248,
          -0.2813504827848248,
          -0.2813504827848248,
          -0.2813504827848248,
          -0.2813504827848248,
          -0.2813504827848248,
          -0.2813504827848248,
          -0.2813504827848248,
          -0.2813504827848248,
          -0.2813504827848248,
          -0.2813504827848248,
          -0.2813504827848248,
          -0.2813504827848248,
          -0.2813504827848248,
          -0.2813504827848248,
          -0.2813504827848248,
          -0.2813504827848248,
          -0.2813504827848248,
          -0.2813504827848248,
          -0.2813504827848248,
          -0.2813504827848248,
          -0.2813504827848248,
          -0.2813504827848248,
          -0.2813504827848248,
          -0.2813504827848248,
          -0.2813504827848248,
          -0.2813504827848248,
          -0.2813504827848248,
          -0.2813504827848248,
          -0.2813504827848248,
          -0.2813504827848248,
          -0.2813504827848248,
          -0.2813504827848248,
          -0.2813504827848248,
          -0.2813504827848248,
          -0.2813504827848248,
          -0.2813504827848248,
          -0.2813504827848248,
          -0.2813504827848248,
          -0.2813504827848248,
          -0.2813504827848248,
          -0.2813504827848248,
          -0.2813504827848248,
          -0.2813504827848248,
          -0.2813504827848248,
          -0.2813504827848248,
          -0.2813504827848248,
          -0.2813504827848248,
          -0.2813504827848248,
          -0.2813504827848248,
          -0.2813504827848248,
          -0.2813504827848248,
          -0.2813504827848248,
          -0.2813504827848248,
          -0.2813504827848248,
          -0.2813504827848248,
          -0.2813504827848248,
          -0.2813504827848248,
          -0.2813504827848248,
          -0.2813504827848248,
          -0.2813504827848248,
          -0.2813504827848248,
          -0.2813504827848248,
          -0.2813504827848248,
          -0.2813504827848248,
          -0.2813504827848248,
          -0.2813504827848248,
          -0.2813504827848248,
          -0.2813504827848248,
          -0.2813504827848248,
          -0.2813504827848248,
          -0.2813504827848248,
          -0.2813504827848248,
          -0.2813504827848248,
          -0.2813504827848248,
          -0.2813504827848248,
          -0.2813504827848248,
          -0.2813504827848248,
          -0.2813504827848248,
          -0.2813504827848248,
          -0.2813504827848248,
          -0.2813504827848248,
          -0.2813504827848248,
          -0.2813504827848248,
          -0.2813504827848248,
          -0.2813504827848248,
          -0.2813504827848248,
          -0.2813504827848248,
          -0.2813504827848248,
          -0.2813504827848248,
          -0.2813504827848248,
          -0.2813504827848248,
          -0.2813504827848248,
          -0.2813504827848248,
          -0.2813504827848248,
          -0.2813504827848248,
          -0.2813504827848248,
          -0.2813504827848248,
          -0.2813504827848248,
          -0.2813504827848248,
          -0.2813504827848248,
          -0.2813504827848248,
          -0.2813504827848248,
          -0.2813504827848248,
          -0.2813504827848248,
          -0.2813504827848248,
          -0.2813504827848248,
          -0.2813504827848248,
          -0.2813504827848248,
          -0.2813504827848248,
          -0.2813504827848248,
          -0.2813504827848248,
          -0.2813504827848248,
          -0.2813504827848248,
          -0.2813504827848248,
          -0.2813504827848248,
          -0.2813504827848248,
          -0.2813504827848248,
          -0.2813504827848248,
          -0.2813504827848248,
          -0.2813504827848248,
          -0.2813504827848248,
          -0.2813504827848248,
          -0.2813504827848248,
          -0.2813504827848248,
          -0.2813504827848248,
          -0.2813504827848248,
          -0.2813504827848248,
          -0.2813504827848248,
          -0.2813504827848248,
          -0.2813504827848248,
          -0.2813504827848248,
          -0.2813504827848248,
          -0.2813504827848248,
          -0.2813504827848248,
          -0.2813504827848248,
          -0.2813504827848248,
          -0.2813504827848248,
          -0.2813504827848248,
          -0.2813504827848248,
          -0.2813504827848248,
          -0.2813504827848248,
          -0.2813504827848248,
          -0.2813504827848248,
          -0.2813504827848248,
          -0.2813504827848248,
          -0.2813504827848248,
          -0.2813504827848248,
          -0.2813504827848248,
          -0.2813504827848248,
          -0.2813504827848248,
          -0.2813504827848248,
          -0.2813504827848248,
          -0.2813504827848248,
          -0.2813504827848248,
          -0.2813504827848248,
          -0.2813504827848248
         ]
        },
        {
         "marker": {
          "color": "#cccccc"
         },
         "mode": "markers",
         "name": "Infeasible Trial",
         "showlegend": false,
         "type": "scatter",
         "x": [],
         "y": []
        }
       ],
       "layout": {
        "template": {
         "data": {
          "bar": [
           {
            "error_x": {
             "color": "#2a3f5f"
            },
            "error_y": {
             "color": "#2a3f5f"
            },
            "marker": {
             "line": {
              "color": "#E5ECF6",
              "width": 0.5
             },
             "pattern": {
              "fillmode": "overlay",
              "size": 10,
              "solidity": 0.2
             }
            },
            "type": "bar"
           }
          ],
          "barpolar": [
           {
            "marker": {
             "line": {
              "color": "#E5ECF6",
              "width": 0.5
             },
             "pattern": {
              "fillmode": "overlay",
              "size": 10,
              "solidity": 0.2
             }
            },
            "type": "barpolar"
           }
          ],
          "carpet": [
           {
            "aaxis": {
             "endlinecolor": "#2a3f5f",
             "gridcolor": "white",
             "linecolor": "white",
             "minorgridcolor": "white",
             "startlinecolor": "#2a3f5f"
            },
            "baxis": {
             "endlinecolor": "#2a3f5f",
             "gridcolor": "white",
             "linecolor": "white",
             "minorgridcolor": "white",
             "startlinecolor": "#2a3f5f"
            },
            "type": "carpet"
           }
          ],
          "choropleth": [
           {
            "colorbar": {
             "outlinewidth": 0,
             "ticks": ""
            },
            "type": "choropleth"
           }
          ],
          "contour": [
           {
            "colorbar": {
             "outlinewidth": 0,
             "ticks": ""
            },
            "colorscale": [
             [
              0,
              "#0d0887"
             ],
             [
              0.1111111111111111,
              "#46039f"
             ],
             [
              0.2222222222222222,
              "#7201a8"
             ],
             [
              0.3333333333333333,
              "#9c179e"
             ],
             [
              0.4444444444444444,
              "#bd3786"
             ],
             [
              0.5555555555555556,
              "#d8576b"
             ],
             [
              0.6666666666666666,
              "#ed7953"
             ],
             [
              0.7777777777777778,
              "#fb9f3a"
             ],
             [
              0.8888888888888888,
              "#fdca26"
             ],
             [
              1,
              "#f0f921"
             ]
            ],
            "type": "contour"
           }
          ],
          "contourcarpet": [
           {
            "colorbar": {
             "outlinewidth": 0,
             "ticks": ""
            },
            "type": "contourcarpet"
           }
          ],
          "heatmap": [
           {
            "colorbar": {
             "outlinewidth": 0,
             "ticks": ""
            },
            "colorscale": [
             [
              0,
              "#0d0887"
             ],
             [
              0.1111111111111111,
              "#46039f"
             ],
             [
              0.2222222222222222,
              "#7201a8"
             ],
             [
              0.3333333333333333,
              "#9c179e"
             ],
             [
              0.4444444444444444,
              "#bd3786"
             ],
             [
              0.5555555555555556,
              "#d8576b"
             ],
             [
              0.6666666666666666,
              "#ed7953"
             ],
             [
              0.7777777777777778,
              "#fb9f3a"
             ],
             [
              0.8888888888888888,
              "#fdca26"
             ],
             [
              1,
              "#f0f921"
             ]
            ],
            "type": "heatmap"
           }
          ],
          "heatmapgl": [
           {
            "colorbar": {
             "outlinewidth": 0,
             "ticks": ""
            },
            "colorscale": [
             [
              0,
              "#0d0887"
             ],
             [
              0.1111111111111111,
              "#46039f"
             ],
             [
              0.2222222222222222,
              "#7201a8"
             ],
             [
              0.3333333333333333,
              "#9c179e"
             ],
             [
              0.4444444444444444,
              "#bd3786"
             ],
             [
              0.5555555555555556,
              "#d8576b"
             ],
             [
              0.6666666666666666,
              "#ed7953"
             ],
             [
              0.7777777777777778,
              "#fb9f3a"
             ],
             [
              0.8888888888888888,
              "#fdca26"
             ],
             [
              1,
              "#f0f921"
             ]
            ],
            "type": "heatmapgl"
           }
          ],
          "histogram": [
           {
            "marker": {
             "pattern": {
              "fillmode": "overlay",
              "size": 10,
              "solidity": 0.2
             }
            },
            "type": "histogram"
           }
          ],
          "histogram2d": [
           {
            "colorbar": {
             "outlinewidth": 0,
             "ticks": ""
            },
            "colorscale": [
             [
              0,
              "#0d0887"
             ],
             [
              0.1111111111111111,
              "#46039f"
             ],
             [
              0.2222222222222222,
              "#7201a8"
             ],
             [
              0.3333333333333333,
              "#9c179e"
             ],
             [
              0.4444444444444444,
              "#bd3786"
             ],
             [
              0.5555555555555556,
              "#d8576b"
             ],
             [
              0.6666666666666666,
              "#ed7953"
             ],
             [
              0.7777777777777778,
              "#fb9f3a"
             ],
             [
              0.8888888888888888,
              "#fdca26"
             ],
             [
              1,
              "#f0f921"
             ]
            ],
            "type": "histogram2d"
           }
          ],
          "histogram2dcontour": [
           {
            "colorbar": {
             "outlinewidth": 0,
             "ticks": ""
            },
            "colorscale": [
             [
              0,
              "#0d0887"
             ],
             [
              0.1111111111111111,
              "#46039f"
             ],
             [
              0.2222222222222222,
              "#7201a8"
             ],
             [
              0.3333333333333333,
              "#9c179e"
             ],
             [
              0.4444444444444444,
              "#bd3786"
             ],
             [
              0.5555555555555556,
              "#d8576b"
             ],
             [
              0.6666666666666666,
              "#ed7953"
             ],
             [
              0.7777777777777778,
              "#fb9f3a"
             ],
             [
              0.8888888888888888,
              "#fdca26"
             ],
             [
              1,
              "#f0f921"
             ]
            ],
            "type": "histogram2dcontour"
           }
          ],
          "mesh3d": [
           {
            "colorbar": {
             "outlinewidth": 0,
             "ticks": ""
            },
            "type": "mesh3d"
           }
          ],
          "parcoords": [
           {
            "line": {
             "colorbar": {
              "outlinewidth": 0,
              "ticks": ""
             }
            },
            "type": "parcoords"
           }
          ],
          "pie": [
           {
            "automargin": true,
            "type": "pie"
           }
          ],
          "scatter": [
           {
            "fillpattern": {
             "fillmode": "overlay",
             "size": 10,
             "solidity": 0.2
            },
            "type": "scatter"
           }
          ],
          "scatter3d": [
           {
            "line": {
             "colorbar": {
              "outlinewidth": 0,
              "ticks": ""
             }
            },
            "marker": {
             "colorbar": {
              "outlinewidth": 0,
              "ticks": ""
             }
            },
            "type": "scatter3d"
           }
          ],
          "scattercarpet": [
           {
            "marker": {
             "colorbar": {
              "outlinewidth": 0,
              "ticks": ""
             }
            },
            "type": "scattercarpet"
           }
          ],
          "scattergeo": [
           {
            "marker": {
             "colorbar": {
              "outlinewidth": 0,
              "ticks": ""
             }
            },
            "type": "scattergeo"
           }
          ],
          "scattergl": [
           {
            "marker": {
             "colorbar": {
              "outlinewidth": 0,
              "ticks": ""
             }
            },
            "type": "scattergl"
           }
          ],
          "scattermapbox": [
           {
            "marker": {
             "colorbar": {
              "outlinewidth": 0,
              "ticks": ""
             }
            },
            "type": "scattermapbox"
           }
          ],
          "scatterpolar": [
           {
            "marker": {
             "colorbar": {
              "outlinewidth": 0,
              "ticks": ""
             }
            },
            "type": "scatterpolar"
           }
          ],
          "scatterpolargl": [
           {
            "marker": {
             "colorbar": {
              "outlinewidth": 0,
              "ticks": ""
             }
            },
            "type": "scatterpolargl"
           }
          ],
          "scatterternary": [
           {
            "marker": {
             "colorbar": {
              "outlinewidth": 0,
              "ticks": ""
             }
            },
            "type": "scatterternary"
           }
          ],
          "surface": [
           {
            "colorbar": {
             "outlinewidth": 0,
             "ticks": ""
            },
            "colorscale": [
             [
              0,
              "#0d0887"
             ],
             [
              0.1111111111111111,
              "#46039f"
             ],
             [
              0.2222222222222222,
              "#7201a8"
             ],
             [
              0.3333333333333333,
              "#9c179e"
             ],
             [
              0.4444444444444444,
              "#bd3786"
             ],
             [
              0.5555555555555556,
              "#d8576b"
             ],
             [
              0.6666666666666666,
              "#ed7953"
             ],
             [
              0.7777777777777778,
              "#fb9f3a"
             ],
             [
              0.8888888888888888,
              "#fdca26"
             ],
             [
              1,
              "#f0f921"
             ]
            ],
            "type": "surface"
           }
          ],
          "table": [
           {
            "cells": {
             "fill": {
              "color": "#EBF0F8"
             },
             "line": {
              "color": "white"
             }
            },
            "header": {
             "fill": {
              "color": "#C8D4E3"
             },
             "line": {
              "color": "white"
             }
            },
            "type": "table"
           }
          ]
         },
         "layout": {
          "annotationdefaults": {
           "arrowcolor": "#2a3f5f",
           "arrowhead": 0,
           "arrowwidth": 1
          },
          "autotypenumbers": "strict",
          "coloraxis": {
           "colorbar": {
            "outlinewidth": 0,
            "ticks": ""
           }
          },
          "colorscale": {
           "diverging": [
            [
             0,
             "#8e0152"
            ],
            [
             0.1,
             "#c51b7d"
            ],
            [
             0.2,
             "#de77ae"
            ],
            [
             0.3,
             "#f1b6da"
            ],
            [
             0.4,
             "#fde0ef"
            ],
            [
             0.5,
             "#f7f7f7"
            ],
            [
             0.6,
             "#e6f5d0"
            ],
            [
             0.7,
             "#b8e186"
            ],
            [
             0.8,
             "#7fbc41"
            ],
            [
             0.9,
             "#4d9221"
            ],
            [
             1,
             "#276419"
            ]
           ],
           "sequential": [
            [
             0,
             "#0d0887"
            ],
            [
             0.1111111111111111,
             "#46039f"
            ],
            [
             0.2222222222222222,
             "#7201a8"
            ],
            [
             0.3333333333333333,
             "#9c179e"
            ],
            [
             0.4444444444444444,
             "#bd3786"
            ],
            [
             0.5555555555555556,
             "#d8576b"
            ],
            [
             0.6666666666666666,
             "#ed7953"
            ],
            [
             0.7777777777777778,
             "#fb9f3a"
            ],
            [
             0.8888888888888888,
             "#fdca26"
            ],
            [
             1,
             "#f0f921"
            ]
           ],
           "sequentialminus": [
            [
             0,
             "#0d0887"
            ],
            [
             0.1111111111111111,
             "#46039f"
            ],
            [
             0.2222222222222222,
             "#7201a8"
            ],
            [
             0.3333333333333333,
             "#9c179e"
            ],
            [
             0.4444444444444444,
             "#bd3786"
            ],
            [
             0.5555555555555556,
             "#d8576b"
            ],
            [
             0.6666666666666666,
             "#ed7953"
            ],
            [
             0.7777777777777778,
             "#fb9f3a"
            ],
            [
             0.8888888888888888,
             "#fdca26"
            ],
            [
             1,
             "#f0f921"
            ]
           ]
          },
          "colorway": [
           "#636efa",
           "#EF553B",
           "#00cc96",
           "#ab63fa",
           "#FFA15A",
           "#19d3f3",
           "#FF6692",
           "#B6E880",
           "#FF97FF",
           "#FECB52"
          ],
          "font": {
           "color": "#2a3f5f"
          },
          "geo": {
           "bgcolor": "white",
           "lakecolor": "white",
           "landcolor": "#E5ECF6",
           "showlakes": true,
           "showland": true,
           "subunitcolor": "white"
          },
          "hoverlabel": {
           "align": "left"
          },
          "hovermode": "closest",
          "mapbox": {
           "style": "light"
          },
          "paper_bgcolor": "white",
          "plot_bgcolor": "#E5ECF6",
          "polar": {
           "angularaxis": {
            "gridcolor": "white",
            "linecolor": "white",
            "ticks": ""
           },
           "bgcolor": "#E5ECF6",
           "radialaxis": {
            "gridcolor": "white",
            "linecolor": "white",
            "ticks": ""
           }
          },
          "scene": {
           "xaxis": {
            "backgroundcolor": "#E5ECF6",
            "gridcolor": "white",
            "gridwidth": 2,
            "linecolor": "white",
            "showbackground": true,
            "ticks": "",
            "zerolinecolor": "white"
           },
           "yaxis": {
            "backgroundcolor": "#E5ECF6",
            "gridcolor": "white",
            "gridwidth": 2,
            "linecolor": "white",
            "showbackground": true,
            "ticks": "",
            "zerolinecolor": "white"
           },
           "zaxis": {
            "backgroundcolor": "#E5ECF6",
            "gridcolor": "white",
            "gridwidth": 2,
            "linecolor": "white",
            "showbackground": true,
            "ticks": "",
            "zerolinecolor": "white"
           }
          },
          "shapedefaults": {
           "line": {
            "color": "#2a3f5f"
           }
          },
          "ternary": {
           "aaxis": {
            "gridcolor": "white",
            "linecolor": "white",
            "ticks": ""
           },
           "baxis": {
            "gridcolor": "white",
            "linecolor": "white",
            "ticks": ""
           },
           "bgcolor": "#E5ECF6",
           "caxis": {
            "gridcolor": "white",
            "linecolor": "white",
            "ticks": ""
           }
          },
          "title": {
           "x": 0.05
          },
          "xaxis": {
           "automargin": true,
           "gridcolor": "white",
           "linecolor": "white",
           "ticks": "",
           "title": {
            "standoff": 15
           },
           "zerolinecolor": "white",
           "zerolinewidth": 2
          },
          "yaxis": {
           "automargin": true,
           "gridcolor": "white",
           "linecolor": "white",
           "ticks": "",
           "title": {
            "standoff": 15
           },
           "zerolinecolor": "white",
           "zerolinewidth": 2
          }
         }
        },
        "title": {
         "text": "Optimization History Plot"
        },
        "xaxis": {
         "title": {
          "text": "Trial"
         }
        },
        "yaxis": {
         "title": {
          "text": "Objective Value"
         }
        }
       }
      },
      "text/html": [
       "<div>                            <div id=\"987a7672-ea13-4636-be6a-10ecc4a270d8\" class=\"plotly-graph-div\" style=\"height:525px; width:100%;\"></div>            <script type=\"text/javascript\">                require([\"plotly\"], function(Plotly) {                    window.PLOTLYENV=window.PLOTLYENV || {};                                    if (document.getElementById(\"987a7672-ea13-4636-be6a-10ecc4a270d8\")) {                    Plotly.newPlot(                        \"987a7672-ea13-4636-be6a-10ecc4a270d8\",                        [{\"mode\":\"markers\",\"name\":\"Objective Value\",\"x\":[0,1,2,3,4,5,6,7,8,9,10,11,12,13,14,15,16,17,18,19,20,21,22,23,24,25,26,27,28,29,30,31,32,33,34,35,36,37,38,39,40,41,42,43,44,45,46,47,48,49,50,51,52,53,54,55,56,57,58,59,60,61,62,63,64,65,66,67,68,69,70,71,72,73,74,75,76,77,78,79,80,81,82,83,84,85,86,87,88,89,90,91,92,93,94,95,96,97,98,99,100,101,102,103,104,105,106,107,108,109,110,111,112,113,114,115,116,117,118,119,120,121,122,123,124,125,126,127,128,129,130,131,132,133,134,135,136,137,138,139,140,141,142,143,144,145,146,147,148,149,150,151,152,153,154,155,156,157,158,159,160,161,162,163,164,165,166,167,168,169,170,171,172,173,174,175,176,177,178,179,180,181,182,183,184,185,186,187,188,189,190,191,192,193,194,195,196,197,198,199],\"y\":[-2.3082287521521803,-2.758021048664968,-0.9776709996975494,-2.992133019586524,-2.9729744162701364,-3.571121149988587,-1.0149117576436941,-0.9038589045214731,-2.4772331547275166,-1.8308852594125953,-2.237828976561041,-2.170703831067944,-1.019004140458663,-2.6361637148279597,-2.1754313335950113,-1.8146189127043955,-2.504037158954837,-2.3681631232536366,-2.7408719339287417,-4.791459144490581,-4.814698907653348,-2.99861766814137,-1.3341140555263398,-2.2315884842389444,-2.916607354388135,-6.421283741299211,-0.3896128260330344,-2.0230315202550933,-2.212034181372854,-3.0132859677149475,-5.025141198101897,-2.5731346367242622,-0.2813504827848248,-0.29798421198328606,-1.5840205516158414,-0.8085336424385707,-2.3047371448461105,-2.9000811437395293,-2.310009477841595,-0.4134561277018632,-2.6291319893516607,-0.5737881892694576,-5.185027163891752,-5.261884440828483,-5.68855821609474,-4.916241527685402,-1.6707194306775102,-2.0773161400573303,-5.274036308547837,-6.187356403874742,-6.300657844083475,-5.607428566997683,-6.42062941151274,-2.3245976494119733,-6.343822700211952,-3.3238824328310344,-2.747939105607322,-2.55139762991033,-2.0942113382584635,-2.578602659500707,-2.4000627397102177,-3.504419819343667,-1.2248642139307016,-2.1692761147622597,-1.628569170490967,-0.7126174111042266,-1.1599234763899289,-1.0739045852934956,-5.029280504643872,-2.981528578287327,-2.6420572498206516,-1.0314102693220046,-3.6292069467675154,-1.8126287152074496,-1.8611033965350863,-3.367162501294729,-1.4733547230095492,-1.5857037719562892,-6.5240203969337305,-1.8258986986188752,-5.404661704787673,-3.415729585927918,-1.5600343822910925,-0.9188905670992339,-5.9398174082673725,-1.7959257171123646,-2.511041070637339,-2.7879617944459563,-2.9072823912127,-2.7938516775317432,-3.1347505361927697,-1.6753567897803023,-2.208102453584775,-0.9105755589650741,-4.184222454767267,-3.990205358461263,-0.9719511585526153,-2.4174913967900302,-1.2627528602385587,-3.4279351846933075,-3.8805087847048854,-4.219950400440811,-2.1263912709117996,-0.7331605897083454,-2.852833131250856,-4.647890066983858,-1.0274335474554317,-5.381416037026588,-1.4561011111269082,-5.417279192011546,-2.778455702819449,-6.181185789449938,-3.3515915912134466,-3.710083641566208,-5.975950155441114,-1.0613826798001469,-0.3922595317706647,-4.078123062456419,-4.037348540946314,-5.179585866912106,-3.008119554680834,-2.2961196247872016,-5.209303801844797,-4.6138590452807815,-0.7173637012234492,-2.416364593849085,-2.3772681243141913,-4.489896895179581,-5.691868632122054,-1.6751209250463908,-1.4264592761451989,-3.1982151671780583,-3.942169512806976,-4.170816912162904,-6.430149040201208,-4.500077833052151,-1.4648893428749648,-6.471122778764564,-3.1579210248267784,-3.5106870632012956,-2.2478646981366692,-5.745767841402307,-2.438721427148093,-1.9927108516601553,-5.142255612490548,-1.7599263424676965,-3.907666184858506,-1.0251154105470248,-4.56033368724341,-2.53732359617479,-3.9432081242224384,-4.221370772304575,-1.4983678913745255,-1.3860204767687865,-2.0975154902048017,-2.2877677921037605,-5.985372537701516,-1.3479389110214848,-6.464632329655821,-1.071908565055454,-2.0747555830304547,-4.676364153564176,-3.315170793579052,-3.9611971175781293,-2.017983807185444,-1.910848516398061,-2.9828167474219494,-2.7495340640581434,-0.369722075055892,-2.4164722315958986,-1.5562686507538774,-3.8128285595779814,-4.303030964347412,-2.5073338141516297,-2.2699722899958386,-2.3280821089855808,-2.5928808319006658,-1.416940262830121,-3.3840554622822525,-2.136340015662731,-6.3438495916334166,-4.88323290634343,-5.902734708567559,-1.0056676442958232,-2.258379316466329,-1.371544038812889,-2.6039466458735205,-5.0122297908327305,-0.5714332912125552,-2.9667963245327718,-3.0278306585123116,-1.907634013544159,-2.3104242504925407,-6.09112838866041,-1.1072975258139315,-0.8034578207343477,-2.3422625591970947,-3.6886158293993594,-3.035336744322362,-1.44163587519229],\"type\":\"scatter\"},{\"mode\":\"lines\",\"name\":\"Best Value\",\"x\":[0,1,2,3,4,5,6,7,8,9,10,11,12,13,14,15,16,17,18,19,20,21,22,23,24,25,26,27,28,29,30,31,32,33,34,35,36,37,38,39,40,41,42,43,44,45,46,47,48,49,50,51,52,53,54,55,56,57,58,59,60,61,62,63,64,65,66,67,68,69,70,71,72,73,74,75,76,77,78,79,80,81,82,83,84,85,86,87,88,89,90,91,92,93,94,95,96,97,98,99,100,101,102,103,104,105,106,107,108,109,110,111,112,113,114,115,116,117,118,119,120,121,122,123,124,125,126,127,128,129,130,131,132,133,134,135,136,137,138,139,140,141,142,143,144,145,146,147,148,149,150,151,152,153,154,155,156,157,158,159,160,161,162,163,164,165,166,167,168,169,170,171,172,173,174,175,176,177,178,179,180,181,182,183,184,185,186,187,188,189,190,191,192,193,194,195,196,197,198,199],\"y\":[-2.3082287521521803,-2.3082287521521803,-0.9776709996975494,-0.9776709996975494,-0.9776709996975494,-0.9776709996975494,-0.9776709996975494,-0.9038589045214731,-0.9038589045214731,-0.9038589045214731,-0.9038589045214731,-0.9038589045214731,-0.9038589045214731,-0.9038589045214731,-0.9038589045214731,-0.9038589045214731,-0.9038589045214731,-0.9038589045214731,-0.9038589045214731,-0.9038589045214731,-0.9038589045214731,-0.9038589045214731,-0.9038589045214731,-0.9038589045214731,-0.9038589045214731,-0.9038589045214731,-0.3896128260330344,-0.3896128260330344,-0.3896128260330344,-0.3896128260330344,-0.3896128260330344,-0.3896128260330344,-0.2813504827848248,-0.2813504827848248,-0.2813504827848248,-0.2813504827848248,-0.2813504827848248,-0.2813504827848248,-0.2813504827848248,-0.2813504827848248,-0.2813504827848248,-0.2813504827848248,-0.2813504827848248,-0.2813504827848248,-0.2813504827848248,-0.2813504827848248,-0.2813504827848248,-0.2813504827848248,-0.2813504827848248,-0.2813504827848248,-0.2813504827848248,-0.2813504827848248,-0.2813504827848248,-0.2813504827848248,-0.2813504827848248,-0.2813504827848248,-0.2813504827848248,-0.2813504827848248,-0.2813504827848248,-0.2813504827848248,-0.2813504827848248,-0.2813504827848248,-0.2813504827848248,-0.2813504827848248,-0.2813504827848248,-0.2813504827848248,-0.2813504827848248,-0.2813504827848248,-0.2813504827848248,-0.2813504827848248,-0.2813504827848248,-0.2813504827848248,-0.2813504827848248,-0.2813504827848248,-0.2813504827848248,-0.2813504827848248,-0.2813504827848248,-0.2813504827848248,-0.2813504827848248,-0.2813504827848248,-0.2813504827848248,-0.2813504827848248,-0.2813504827848248,-0.2813504827848248,-0.2813504827848248,-0.2813504827848248,-0.2813504827848248,-0.2813504827848248,-0.2813504827848248,-0.2813504827848248,-0.2813504827848248,-0.2813504827848248,-0.2813504827848248,-0.2813504827848248,-0.2813504827848248,-0.2813504827848248,-0.2813504827848248,-0.2813504827848248,-0.2813504827848248,-0.2813504827848248,-0.2813504827848248,-0.2813504827848248,-0.2813504827848248,-0.2813504827848248,-0.2813504827848248,-0.2813504827848248,-0.2813504827848248,-0.2813504827848248,-0.2813504827848248,-0.2813504827848248,-0.2813504827848248,-0.2813504827848248,-0.2813504827848248,-0.2813504827848248,-0.2813504827848248,-0.2813504827848248,-0.2813504827848248,-0.2813504827848248,-0.2813504827848248,-0.2813504827848248,-0.2813504827848248,-0.2813504827848248,-0.2813504827848248,-0.2813504827848248,-0.2813504827848248,-0.2813504827848248,-0.2813504827848248,-0.2813504827848248,-0.2813504827848248,-0.2813504827848248,-0.2813504827848248,-0.2813504827848248,-0.2813504827848248,-0.2813504827848248,-0.2813504827848248,-0.2813504827848248,-0.2813504827848248,-0.2813504827848248,-0.2813504827848248,-0.2813504827848248,-0.2813504827848248,-0.2813504827848248,-0.2813504827848248,-0.2813504827848248,-0.2813504827848248,-0.2813504827848248,-0.2813504827848248,-0.2813504827848248,-0.2813504827848248,-0.2813504827848248,-0.2813504827848248,-0.2813504827848248,-0.2813504827848248,-0.2813504827848248,-0.2813504827848248,-0.2813504827848248,-0.2813504827848248,-0.2813504827848248,-0.2813504827848248,-0.2813504827848248,-0.2813504827848248,-0.2813504827848248,-0.2813504827848248,-0.2813504827848248,-0.2813504827848248,-0.2813504827848248,-0.2813504827848248,-0.2813504827848248,-0.2813504827848248,-0.2813504827848248,-0.2813504827848248,-0.2813504827848248,-0.2813504827848248,-0.2813504827848248,-0.2813504827848248,-0.2813504827848248,-0.2813504827848248,-0.2813504827848248,-0.2813504827848248,-0.2813504827848248,-0.2813504827848248,-0.2813504827848248,-0.2813504827848248,-0.2813504827848248,-0.2813504827848248,-0.2813504827848248,-0.2813504827848248,-0.2813504827848248,-0.2813504827848248,-0.2813504827848248,-0.2813504827848248,-0.2813504827848248,-0.2813504827848248,-0.2813504827848248,-0.2813504827848248,-0.2813504827848248,-0.2813504827848248,-0.2813504827848248,-0.2813504827848248,-0.2813504827848248],\"type\":\"scatter\"},{\"marker\":{\"color\":\"#cccccc\"},\"mode\":\"markers\",\"name\":\"Infeasible Trial\",\"showlegend\":false,\"x\":[],\"y\":[],\"type\":\"scatter\"}],                        {\"title\":{\"text\":\"Optimization History Plot\"},\"xaxis\":{\"title\":{\"text\":\"Trial\"}},\"yaxis\":{\"title\":{\"text\":\"Objective Value\"}},\"template\":{\"data\":{\"histogram2dcontour\":[{\"type\":\"histogram2dcontour\",\"colorbar\":{\"outlinewidth\":0,\"ticks\":\"\"},\"colorscale\":[[0.0,\"#0d0887\"],[0.1111111111111111,\"#46039f\"],[0.2222222222222222,\"#7201a8\"],[0.3333333333333333,\"#9c179e\"],[0.4444444444444444,\"#bd3786\"],[0.5555555555555556,\"#d8576b\"],[0.6666666666666666,\"#ed7953\"],[0.7777777777777778,\"#fb9f3a\"],[0.8888888888888888,\"#fdca26\"],[1.0,\"#f0f921\"]]}],\"choropleth\":[{\"type\":\"choropleth\",\"colorbar\":{\"outlinewidth\":0,\"ticks\":\"\"}}],\"histogram2d\":[{\"type\":\"histogram2d\",\"colorbar\":{\"outlinewidth\":0,\"ticks\":\"\"},\"colorscale\":[[0.0,\"#0d0887\"],[0.1111111111111111,\"#46039f\"],[0.2222222222222222,\"#7201a8\"],[0.3333333333333333,\"#9c179e\"],[0.4444444444444444,\"#bd3786\"],[0.5555555555555556,\"#d8576b\"],[0.6666666666666666,\"#ed7953\"],[0.7777777777777778,\"#fb9f3a\"],[0.8888888888888888,\"#fdca26\"],[1.0,\"#f0f921\"]]}],\"heatmap\":[{\"type\":\"heatmap\",\"colorbar\":{\"outlinewidth\":0,\"ticks\":\"\"},\"colorscale\":[[0.0,\"#0d0887\"],[0.1111111111111111,\"#46039f\"],[0.2222222222222222,\"#7201a8\"],[0.3333333333333333,\"#9c179e\"],[0.4444444444444444,\"#bd3786\"],[0.5555555555555556,\"#d8576b\"],[0.6666666666666666,\"#ed7953\"],[0.7777777777777778,\"#fb9f3a\"],[0.8888888888888888,\"#fdca26\"],[1.0,\"#f0f921\"]]}],\"heatmapgl\":[{\"type\":\"heatmapgl\",\"colorbar\":{\"outlinewidth\":0,\"ticks\":\"\"},\"colorscale\":[[0.0,\"#0d0887\"],[0.1111111111111111,\"#46039f\"],[0.2222222222222222,\"#7201a8\"],[0.3333333333333333,\"#9c179e\"],[0.4444444444444444,\"#bd3786\"],[0.5555555555555556,\"#d8576b\"],[0.6666666666666666,\"#ed7953\"],[0.7777777777777778,\"#fb9f3a\"],[0.8888888888888888,\"#fdca26\"],[1.0,\"#f0f921\"]]}],\"contourcarpet\":[{\"type\":\"contourcarpet\",\"colorbar\":{\"outlinewidth\":0,\"ticks\":\"\"}}],\"contour\":[{\"type\":\"contour\",\"colorbar\":{\"outlinewidth\":0,\"ticks\":\"\"},\"colorscale\":[[0.0,\"#0d0887\"],[0.1111111111111111,\"#46039f\"],[0.2222222222222222,\"#7201a8\"],[0.3333333333333333,\"#9c179e\"],[0.4444444444444444,\"#bd3786\"],[0.5555555555555556,\"#d8576b\"],[0.6666666666666666,\"#ed7953\"],[0.7777777777777778,\"#fb9f3a\"],[0.8888888888888888,\"#fdca26\"],[1.0,\"#f0f921\"]]}],\"surface\":[{\"type\":\"surface\",\"colorbar\":{\"outlinewidth\":0,\"ticks\":\"\"},\"colorscale\":[[0.0,\"#0d0887\"],[0.1111111111111111,\"#46039f\"],[0.2222222222222222,\"#7201a8\"],[0.3333333333333333,\"#9c179e\"],[0.4444444444444444,\"#bd3786\"],[0.5555555555555556,\"#d8576b\"],[0.6666666666666666,\"#ed7953\"],[0.7777777777777778,\"#fb9f3a\"],[0.8888888888888888,\"#fdca26\"],[1.0,\"#f0f921\"]]}],\"mesh3d\":[{\"type\":\"mesh3d\",\"colorbar\":{\"outlinewidth\":0,\"ticks\":\"\"}}],\"scatter\":[{\"fillpattern\":{\"fillmode\":\"overlay\",\"size\":10,\"solidity\":0.2},\"type\":\"scatter\"}],\"parcoords\":[{\"type\":\"parcoords\",\"line\":{\"colorbar\":{\"outlinewidth\":0,\"ticks\":\"\"}}}],\"scatterpolargl\":[{\"type\":\"scatterpolargl\",\"marker\":{\"colorbar\":{\"outlinewidth\":0,\"ticks\":\"\"}}}],\"bar\":[{\"error_x\":{\"color\":\"#2a3f5f\"},\"error_y\":{\"color\":\"#2a3f5f\"},\"marker\":{\"line\":{\"color\":\"#E5ECF6\",\"width\":0.5},\"pattern\":{\"fillmode\":\"overlay\",\"size\":10,\"solidity\":0.2}},\"type\":\"bar\"}],\"scattergeo\":[{\"type\":\"scattergeo\",\"marker\":{\"colorbar\":{\"outlinewidth\":0,\"ticks\":\"\"}}}],\"scatterpolar\":[{\"type\":\"scatterpolar\",\"marker\":{\"colorbar\":{\"outlinewidth\":0,\"ticks\":\"\"}}}],\"histogram\":[{\"marker\":{\"pattern\":{\"fillmode\":\"overlay\",\"size\":10,\"solidity\":0.2}},\"type\":\"histogram\"}],\"scattergl\":[{\"type\":\"scattergl\",\"marker\":{\"colorbar\":{\"outlinewidth\":0,\"ticks\":\"\"}}}],\"scatter3d\":[{\"type\":\"scatter3d\",\"line\":{\"colorbar\":{\"outlinewidth\":0,\"ticks\":\"\"}},\"marker\":{\"colorbar\":{\"outlinewidth\":0,\"ticks\":\"\"}}}],\"scattermapbox\":[{\"type\":\"scattermapbox\",\"marker\":{\"colorbar\":{\"outlinewidth\":0,\"ticks\":\"\"}}}],\"scatterternary\":[{\"type\":\"scatterternary\",\"marker\":{\"colorbar\":{\"outlinewidth\":0,\"ticks\":\"\"}}}],\"scattercarpet\":[{\"type\":\"scattercarpet\",\"marker\":{\"colorbar\":{\"outlinewidth\":0,\"ticks\":\"\"}}}],\"carpet\":[{\"aaxis\":{\"endlinecolor\":\"#2a3f5f\",\"gridcolor\":\"white\",\"linecolor\":\"white\",\"minorgridcolor\":\"white\",\"startlinecolor\":\"#2a3f5f\"},\"baxis\":{\"endlinecolor\":\"#2a3f5f\",\"gridcolor\":\"white\",\"linecolor\":\"white\",\"minorgridcolor\":\"white\",\"startlinecolor\":\"#2a3f5f\"},\"type\":\"carpet\"}],\"table\":[{\"cells\":{\"fill\":{\"color\":\"#EBF0F8\"},\"line\":{\"color\":\"white\"}},\"header\":{\"fill\":{\"color\":\"#C8D4E3\"},\"line\":{\"color\":\"white\"}},\"type\":\"table\"}],\"barpolar\":[{\"marker\":{\"line\":{\"color\":\"#E5ECF6\",\"width\":0.5},\"pattern\":{\"fillmode\":\"overlay\",\"size\":10,\"solidity\":0.2}},\"type\":\"barpolar\"}],\"pie\":[{\"automargin\":true,\"type\":\"pie\"}]},\"layout\":{\"autotypenumbers\":\"strict\",\"colorway\":[\"#636efa\",\"#EF553B\",\"#00cc96\",\"#ab63fa\",\"#FFA15A\",\"#19d3f3\",\"#FF6692\",\"#B6E880\",\"#FF97FF\",\"#FECB52\"],\"font\":{\"color\":\"#2a3f5f\"},\"hovermode\":\"closest\",\"hoverlabel\":{\"align\":\"left\"},\"paper_bgcolor\":\"white\",\"plot_bgcolor\":\"#E5ECF6\",\"polar\":{\"bgcolor\":\"#E5ECF6\",\"angularaxis\":{\"gridcolor\":\"white\",\"linecolor\":\"white\",\"ticks\":\"\"},\"radialaxis\":{\"gridcolor\":\"white\",\"linecolor\":\"white\",\"ticks\":\"\"}},\"ternary\":{\"bgcolor\":\"#E5ECF6\",\"aaxis\":{\"gridcolor\":\"white\",\"linecolor\":\"white\",\"ticks\":\"\"},\"baxis\":{\"gridcolor\":\"white\",\"linecolor\":\"white\",\"ticks\":\"\"},\"caxis\":{\"gridcolor\":\"white\",\"linecolor\":\"white\",\"ticks\":\"\"}},\"coloraxis\":{\"colorbar\":{\"outlinewidth\":0,\"ticks\":\"\"}},\"colorscale\":{\"sequential\":[[0.0,\"#0d0887\"],[0.1111111111111111,\"#46039f\"],[0.2222222222222222,\"#7201a8\"],[0.3333333333333333,\"#9c179e\"],[0.4444444444444444,\"#bd3786\"],[0.5555555555555556,\"#d8576b\"],[0.6666666666666666,\"#ed7953\"],[0.7777777777777778,\"#fb9f3a\"],[0.8888888888888888,\"#fdca26\"],[1.0,\"#f0f921\"]],\"sequentialminus\":[[0.0,\"#0d0887\"],[0.1111111111111111,\"#46039f\"],[0.2222222222222222,\"#7201a8\"],[0.3333333333333333,\"#9c179e\"],[0.4444444444444444,\"#bd3786\"],[0.5555555555555556,\"#d8576b\"],[0.6666666666666666,\"#ed7953\"],[0.7777777777777778,\"#fb9f3a\"],[0.8888888888888888,\"#fdca26\"],[1.0,\"#f0f921\"]],\"diverging\":[[0,\"#8e0152\"],[0.1,\"#c51b7d\"],[0.2,\"#de77ae\"],[0.3,\"#f1b6da\"],[0.4,\"#fde0ef\"],[0.5,\"#f7f7f7\"],[0.6,\"#e6f5d0\"],[0.7,\"#b8e186\"],[0.8,\"#7fbc41\"],[0.9,\"#4d9221\"],[1,\"#276419\"]]},\"xaxis\":{\"gridcolor\":\"white\",\"linecolor\":\"white\",\"ticks\":\"\",\"title\":{\"standoff\":15},\"zerolinecolor\":\"white\",\"automargin\":true,\"zerolinewidth\":2},\"yaxis\":{\"gridcolor\":\"white\",\"linecolor\":\"white\",\"ticks\":\"\",\"title\":{\"standoff\":15},\"zerolinecolor\":\"white\",\"automargin\":true,\"zerolinewidth\":2},\"scene\":{\"xaxis\":{\"backgroundcolor\":\"#E5ECF6\",\"gridcolor\":\"white\",\"linecolor\":\"white\",\"showbackground\":true,\"ticks\":\"\",\"zerolinecolor\":\"white\",\"gridwidth\":2},\"yaxis\":{\"backgroundcolor\":\"#E5ECF6\",\"gridcolor\":\"white\",\"linecolor\":\"white\",\"showbackground\":true,\"ticks\":\"\",\"zerolinecolor\":\"white\",\"gridwidth\":2},\"zaxis\":{\"backgroundcolor\":\"#E5ECF6\",\"gridcolor\":\"white\",\"linecolor\":\"white\",\"showbackground\":true,\"ticks\":\"\",\"zerolinecolor\":\"white\",\"gridwidth\":2}},\"shapedefaults\":{\"line\":{\"color\":\"#2a3f5f\"}},\"annotationdefaults\":{\"arrowcolor\":\"#2a3f5f\",\"arrowhead\":0,\"arrowwidth\":1},\"geo\":{\"bgcolor\":\"white\",\"landcolor\":\"#E5ECF6\",\"subunitcolor\":\"white\",\"showland\":true,\"showlakes\":true,\"lakecolor\":\"white\"},\"title\":{\"x\":0.05},\"mapbox\":{\"style\":\"light\"}}}},                        {\"responsive\": true}                    ).then(function(){\n",
       "                            \n",
       "var gd = document.getElementById('987a7672-ea13-4636-be6a-10ecc4a270d8');\n",
       "var x = new MutationObserver(function (mutations, observer) {{\n",
       "        var display = window.getComputedStyle(gd).display;\n",
       "        if (!display || display === 'none') {{\n",
       "            console.log([gd, 'removed!']);\n",
       "            Plotly.purge(gd);\n",
       "            observer.disconnect();\n",
       "        }}\n",
       "}});\n",
       "\n",
       "// Listen for the removal of the full notebook cells\n",
       "var notebookContainer = gd.closest('#notebook-container');\n",
       "if (notebookContainer) {{\n",
       "    x.observe(notebookContainer, {childList: true});\n",
       "}}\n",
       "\n",
       "// Listen for the clearing of the current output cell\n",
       "var outputEl = gd.closest('.output');\n",
       "if (outputEl) {{\n",
       "    x.observe(outputEl, {childList: true});\n",
       "}}\n",
       "\n",
       "                        })                };                });            </script>        </div>"
      ]
     },
     "metadata": {},
     "output_type": "display_data"
    }
   ],
   "source": [
    "optuna.visualization.plot_optimization_history(study)\n"
   ]
  },
  {
   "cell_type": "markdown",
   "id": "47667660",
   "metadata": {},
   "source": [
    "The Optimization History Plot can observe how the search for **hyperparameters evolved.** The plot helps in understanding whether the optimization process improved the objective function over time or if it converged quickly to a good solution. It can be useful for making decisions about the effectiveness of your hyperparameter optimization approach, such as whether you need to conduct more trials or if you've already reached a satisfactory result.\n",
    "\n",
    "Accoroding to our graph, our model reached its best value by the 33rd trial, where after that trail the objective values stayed the same.\n",
    "\n",
    "In summary, the plot illustrates the **progress of our hyperparameter optimization** study by showing how the objective function value changes as you conduct more trials. This can provide valuable insights into the **efficiency and effectiveness of your optimization process.**\n",
    "\n",
    "\n",
    "\n",
    "\n",
    "\n"
   ]
  },
  {
   "cell_type": "markdown",
   "id": "7e37837e",
   "metadata": {},
   "source": [
    "### Parallel Coordinate Plot"
   ]
  },
  {
   "cell_type": "markdown",
   "id": "697042a2",
   "metadata": {},
   "source": [
    "Parallel Coordinate Plot is used to generate a parallel coordinates plot, which is a type of visualization that helps to understand the **relationships between hyperparameters and their corresponding objective function values** in a hyperparameter optimization study.\n",
    "\n",
    "this is a useful tool for gaining insights into **the relationships between hyperparameters and their impact on the objective function during an optimization study.** It helps us to **identify promising hyperparameter configurations** and understand **the trade-offs and interactions between different hyperparameters.** This can aid in making decisions on which hyperparameter settings to prioritize for further optimization or model tuning."
   ]
  },
  {
   "cell_type": "code",
   "execution_count": 139,
   "id": "a5083f2b",
   "metadata": {
    "scrolled": false
   },
   "outputs": [
    {
     "data": {
      "application/vnd.plotly.v1+json": {
       "config": {
        "plotlyServerURL": "https://plot.ly"
       },
       "data": [
        {
         "dimensions": [
          {
           "label": "Objective Value",
           "range": [
            -6.5240203969337305,
            -0.2813504827848248
           ],
           "values": [
            -2.3082287521521803,
            -2.758021048664968,
            -0.9776709996975494,
            -2.992133019586524,
            -2.9729744162701364,
            -3.571121149988587,
            -1.0149117576436941,
            -0.9038589045214731,
            -2.4772331547275166,
            -1.8308852594125953,
            -2.237828976561041,
            -2.170703831067944,
            -1.019004140458663,
            -2.6361637148279597,
            -2.1754313335950113,
            -1.8146189127043955,
            -2.504037158954837,
            -2.3681631232536366,
            -2.7408719339287417,
            -4.791459144490581,
            -4.814698907653348,
            -2.99861766814137,
            -1.3341140555263398,
            -2.2315884842389444,
            -2.916607354388135,
            -6.421283741299211,
            -0.3896128260330344,
            -2.0230315202550933,
            -2.212034181372854,
            -3.0132859677149475,
            -5.025141198101897,
            -2.5731346367242622,
            -0.2813504827848248,
            -0.29798421198328606,
            -1.5840205516158414,
            -0.8085336424385707,
            -2.3047371448461105,
            -2.9000811437395293,
            -2.310009477841595,
            -0.4134561277018632,
            -2.6291319893516607,
            -0.5737881892694576,
            -5.185027163891752,
            -5.261884440828483,
            -5.68855821609474,
            -4.916241527685402,
            -1.6707194306775102,
            -2.0773161400573303,
            -5.274036308547837,
            -6.187356403874742,
            -6.300657844083475,
            -5.607428566997683,
            -6.42062941151274,
            -2.3245976494119733,
            -6.343822700211952,
            -3.3238824328310344,
            -2.747939105607322,
            -2.55139762991033,
            -2.0942113382584635,
            -2.578602659500707,
            -2.4000627397102177,
            -3.504419819343667,
            -1.2248642139307016,
            -2.1692761147622597,
            -1.628569170490967,
            -0.7126174111042266,
            -1.1599234763899289,
            -1.0739045852934956,
            -5.029280504643872,
            -2.981528578287327,
            -2.6420572498206516,
            -1.0314102693220046,
            -3.6292069467675154,
            -1.8126287152074496,
            -1.8611033965350863,
            -3.367162501294729,
            -1.4733547230095492,
            -1.5857037719562892,
            -6.5240203969337305,
            -1.8258986986188752,
            -5.404661704787673,
            -3.415729585927918,
            -1.5600343822910925,
            -0.9188905670992339,
            -5.9398174082673725,
            -1.7959257171123646,
            -2.511041070637339,
            -2.7879617944459563,
            -2.9072823912127,
            -2.7938516775317432,
            -3.1347505361927697,
            -1.6753567897803023,
            -2.208102453584775,
            -0.9105755589650741,
            -4.184222454767267,
            -3.990205358461263,
            -0.9719511585526153,
            -2.4174913967900302,
            -1.2627528602385587,
            -3.4279351846933075,
            -3.8805087847048854,
            -4.219950400440811,
            -2.1263912709117996,
            -0.7331605897083454,
            -2.852833131250856,
            -4.647890066983858,
            -1.0274335474554317,
            -5.381416037026588,
            -1.4561011111269082,
            -5.417279192011546,
            -2.778455702819449,
            -6.181185789449938,
            -3.3515915912134466,
            -3.710083641566208,
            -5.975950155441114,
            -1.0613826798001469,
            -0.3922595317706647,
            -4.078123062456419,
            -4.037348540946314,
            -5.179585866912106,
            -3.008119554680834,
            -2.2961196247872016,
            -5.209303801844797,
            -4.6138590452807815,
            -0.7173637012234492,
            -2.416364593849085,
            -2.3772681243141913,
            -4.489896895179581,
            -5.691868632122054,
            -1.6751209250463908,
            -1.4264592761451989,
            -3.1982151671780583,
            -3.942169512806976,
            -4.170816912162904,
            -6.430149040201208,
            -4.500077833052151,
            -1.4648893428749648,
            -6.471122778764564,
            -3.1579210248267784,
            -3.5106870632012956,
            -2.2478646981366692,
            -5.745767841402307,
            -2.438721427148093,
            -1.9927108516601553,
            -5.142255612490548,
            -1.7599263424676965,
            -3.907666184858506,
            -1.0251154105470248,
            -4.56033368724341,
            -2.53732359617479,
            -3.9432081242224384,
            -4.221370772304575,
            -1.4983678913745255,
            -1.3860204767687865,
            -2.0975154902048017,
            -2.2877677921037605,
            -5.985372537701516,
            -1.3479389110214848,
            -6.464632329655821,
            -1.071908565055454,
            -2.0747555830304547,
            -4.676364153564176,
            -3.315170793579052,
            -3.9611971175781293,
            -2.017983807185444,
            -1.910848516398061,
            -2.9828167474219494,
            -2.7495340640581434,
            -0.369722075055892,
            -2.4164722315958986,
            -1.5562686507538774,
            -3.8128285595779814,
            -4.303030964347412,
            -2.5073338141516297,
            -2.2699722899958386,
            -2.3280821089855808,
            -2.5928808319006658,
            -1.416940262830121,
            -3.3840554622822525,
            -2.136340015662731,
            -6.3438495916334166,
            -4.88323290634343,
            -5.902734708567559,
            -1.0056676442958232,
            -2.258379316466329,
            -1.371544038812889,
            -2.6039466458735205,
            -5.0122297908327305,
            -0.5714332912125552,
            -2.9667963245327718,
            -3.0278306585123116,
            -1.907634013544159,
            -2.3104242504925407,
            -6.09112838866041,
            -1.1072975258139315,
            -0.8034578207343477,
            -2.3422625591970947,
            -3.6886158293993594,
            -3.035336744322362,
            -1.44163587519229
           ]
          },
          {
           "label": "criterion",
           "range": [
            0,
            1
           ],
           "ticktext": [
            "mse",
            "mae"
           ],
           "tickvals": [
            0,
            1
           ],
           "values": [
            0,
            1,
            0,
            0,
            0,
            0,
            1,
            0,
            1,
            0,
            0,
            1,
            0,
            1,
            1,
            0,
            0,
            1,
            1,
            0,
            0,
            1,
            1,
            0,
            0,
            0,
            0,
            1,
            1,
            0,
            1,
            1,
            1,
            1,
            0,
            0,
            0,
            0,
            0,
            0,
            0,
            0,
            0,
            1,
            0,
            0,
            0,
            1,
            1,
            0,
            0,
            1,
            0,
            1,
            1,
            1,
            1,
            0,
            0,
            0,
            0,
            0,
            0,
            1,
            1,
            1,
            0,
            1,
            0,
            1,
            1,
            1,
            1,
            1,
            0,
            1,
            1,
            0,
            1,
            1,
            0,
            1,
            0,
            1,
            0,
            1,
            0,
            1,
            0,
            0,
            0,
            1,
            1,
            1,
            0,
            0,
            1,
            1,
            1,
            1,
            0,
            1,
            1,
            1,
            0,
            1,
            0,
            1,
            0,
            1,
            1,
            1,
            0,
            0,
            0,
            1,
            1,
            1,
            1,
            1,
            1,
            0,
            1,
            0,
            0,
            1,
            1,
            1,
            1,
            1,
            1,
            0,
            1,
            1,
            0,
            1,
            0,
            0,
            1,
            1,
            1,
            1,
            0,
            0,
            1,
            1,
            1,
            1,
            1,
            0,
            0,
            1,
            0,
            0,
            0,
            1,
            1,
            1,
            0,
            1,
            1,
            0,
            1,
            1,
            1,
            0,
            0,
            0,
            0,
            0,
            0,
            0,
            1,
            0,
            0,
            0,
            0,
            1,
            1,
            1,
            0,
            0,
            0,
            1,
            1,
            0,
            0,
            1,
            1,
            1,
            1,
            1,
            0,
            1,
            1,
            1,
            1,
            1,
            0,
            0
           ]
          },
          {
           "label": "max_depth",
           "range": [
            10,
            50
           ],
           "values": [
            48,
            10,
            21,
            34,
            14,
            22,
            47,
            21,
            43,
            23,
            39,
            11,
            13,
            46,
            45,
            31,
            11,
            50,
            31,
            30,
            14,
            13,
            41,
            10,
            40,
            49,
            39,
            10,
            22,
            15,
            43,
            46,
            34,
            35,
            23,
            26,
            40,
            11,
            27,
            37,
            36,
            14,
            21,
            40,
            27,
            25,
            28,
            12,
            14,
            25,
            32,
            14,
            49,
            49,
            21,
            33,
            16,
            11,
            44,
            50,
            34,
            31,
            35,
            47,
            47,
            13,
            29,
            14,
            13,
            25,
            46,
            10,
            30,
            36,
            16,
            14,
            32,
            14,
            15,
            29,
            17,
            16,
            25,
            47,
            31,
            41,
            16,
            17,
            35,
            33,
            44,
            42,
            28,
            33,
            50,
            11,
            32,
            11,
            14,
            44,
            11,
            34,
            15,
            35,
            47,
            15,
            25,
            21,
            18,
            14,
            38,
            17,
            30,
            47,
            44,
            23,
            35,
            50,
            27,
            11,
            13,
            48,
            24,
            38,
            45,
            13,
            13,
            20,
            37,
            23,
            50,
            49,
            39,
            40,
            28,
            13,
            36,
            36,
            44,
            14,
            42,
            38,
            30,
            11,
            14,
            39,
            36,
            50,
            50,
            45,
            33,
            47,
            19,
            24,
            15,
            27,
            29,
            31,
            16,
            30,
            13,
            30,
            37,
            45,
            41,
            26,
            37,
            25,
            10,
            24,
            35,
            39,
            35,
            44,
            13,
            10,
            15,
            39,
            24,
            31,
            12,
            41,
            48,
            42,
            22,
            18,
            22,
            15,
            16,
            22,
            12,
            15,
            35,
            25,
            20,
            49,
            23,
            42,
            36,
            31
           ]
          },
          {
           "label": "max_features",
           "range": [
            0,
            2
           ],
           "ticktext": [
            "auto",
            "log2",
            "sqrt"
           ],
           "tickvals": [
            0,
            1,
            2
           ],
           "values": [
            0,
            0,
            1,
            1,
            2,
            2,
            1,
            1,
            0,
            2,
            0,
            2,
            0,
            0,
            0,
            0,
            1,
            0,
            0,
            2,
            1,
            0,
            2,
            0,
            0,
            2,
            1,
            0,
            0,
            0,
            1,
            2,
            0,
            1,
            0,
            1,
            0,
            0,
            0,
            0,
            1,
            0,
            2,
            1,
            2,
            1,
            1,
            0,
            2,
            2,
            2,
            2,
            2,
            0,
            2,
            0,
            0,
            2,
            0,
            0,
            0,
            2,
            1,
            0,
            2,
            1,
            0,
            1,
            1,
            1,
            1,
            1,
            2,
            0,
            2,
            0,
            0,
            0,
            2,
            1,
            2,
            1,
            0,
            0,
            2,
            1,
            0,
            1,
            0,
            2,
            0,
            1,
            1,
            1,
            2,
            2,
            2,
            0,
            0,
            1,
            2,
            2,
            0,
            2,
            1,
            1,
            2,
            2,
            0,
            2,
            1,
            2,
            0,
            1,
            2,
            1,
            1,
            1,
            1,
            1,
            0,
            0,
            1,
            1,
            2,
            2,
            1,
            1,
            2,
            2,
            1,
            1,
            2,
            1,
            2,
            2,
            0,
            2,
            1,
            1,
            1,
            2,
            0,
            1,
            2,
            1,
            1,
            0,
            2,
            0,
            1,
            2,
            0,
            2,
            0,
            0,
            2,
            1,
            2,
            1,
            0,
            1,
            1,
            2,
            0,
            0,
            2,
            1,
            2,
            1,
            0,
            2,
            2,
            2,
            1,
            0,
            2,
            1,
            2,
            2,
            2,
            2,
            2,
            1,
            1,
            1,
            2,
            1,
            1,
            2,
            2,
            2,
            0,
            2,
            0,
            1,
            1,
            1,
            0,
            2
           ]
          },
          {
           "label": "min_samples_leaf",
           "range": [
            1,
            32
           ],
           "values": [
            20,
            27,
            5,
            20,
            15,
            18,
            7,
            5,
            24,
            10,
            18,
            11,
            6,
            26,
            17,
            12,
            17,
            22,
            27,
            21,
            29,
            29,
            3,
            18,
            28,
            29,
            1,
            14,
            18,
            29,
            30,
            13,
            2,
            2,
            9,
            6,
            20,
            28,
            20,
            3,
            18,
            4,
            23,
            32,
            25,
            29,
            11,
            15,
            23,
            27,
            30,
            24,
            32,
            21,
            29,
            32,
            27,
            13,
            15,
            25,
            22,
            18,
            7,
            17,
            9,
            5,
            6,
            7,
            30,
            20,
            18,
            7,
            18,
            12,
            10,
            32,
            9,
            10,
            32,
            12,
            24,
            22,
            10,
            4,
            26,
            11,
            24,
            19,
            28,
            14,
            30,
            11,
            15,
            1,
            20,
            19,
            6,
            23,
            6,
            22,
            19,
            20,
            16,
            5,
            19,
            28,
            2,
            24,
            9,
            24,
            19,
            28,
            32,
            23,
            27,
            3,
            1,
            25,
            24,
            32,
            29,
            20,
            32,
            27,
            5,
            12,
            16,
            26,
            25,
            6,
            9,
            21,
            19,
            25,
            32,
            21,
            9,
            28,
            21,
            22,
            15,
            25,
            23,
            13,
            23,
            11,
            24,
            6,
            21,
            24,
            24,
            20,
            6,
            6,
            15,
            20,
            26,
            2,
            31,
            5,
            15,
            28,
            21,
            19,
            14,
            13,
            15,
            19,
            1,
            16,
            9,
            19,
            20,
            12,
            15,
            20,
            13,
            9,
            17,
            11,
            31,
            22,
            27,
            2,
            15,
            4,
            13,
            30,
            3,
            15,
            15,
            10,
            20,
            27,
            5,
            4,
            16,
            23,
            29,
            2
           ]
          },
          {
           "label": "min_samples_split",
           "range": [
            2,
            32
           ],
           "values": [
            24,
            32,
            20,
            3,
            23,
            18,
            4,
            18,
            23,
            3,
            25,
            21,
            10,
            18,
            2,
            23,
            20,
            9,
            4,
            9,
            30,
            29,
            21,
            6,
            22,
            14,
            10,
            30,
            7,
            18,
            28,
            12,
            2,
            4,
            26,
            7,
            19,
            3,
            14,
            7,
            16,
            2,
            5,
            27,
            25,
            2,
            11,
            19,
            4,
            13,
            15,
            22,
            2,
            18,
            31,
            4,
            30,
            2,
            27,
            19,
            9,
            28,
            23,
            12,
            17,
            5,
            22,
            16,
            29,
            17,
            17,
            11,
            4,
            19,
            7,
            14,
            19,
            20,
            3,
            14,
            4,
            27,
            16,
            21,
            29,
            29,
            9,
            30,
            2,
            20,
            5,
            2,
            8,
            21,
            17,
            16,
            6,
            6,
            26,
            14,
            7,
            10,
            28,
            9,
            5,
            29,
            18,
            13,
            2,
            4,
            10,
            18,
            8,
            3,
            11,
            24,
            9,
            12,
            15,
            2,
            14,
            22,
            3,
            6,
            10,
            14,
            28,
            29,
            21,
            25,
            21,
            12,
            4,
            6,
            10,
            23,
            14,
            13,
            25,
            5,
            11,
            28,
            21,
            4,
            21,
            26,
            18,
            12,
            32,
            24,
            15,
            8,
            32,
            20,
            32,
            9,
            28,
            31,
            32,
            22,
            22,
            21,
            14,
            26,
            26,
            23,
            21,
            14,
            8,
            5,
            24,
            5,
            31,
            29,
            21,
            21,
            23,
            19,
            4,
            12,
            19,
            12,
            18,
            23,
            14,
            30,
            4,
            28,
            13,
            17,
            26,
            5,
            11,
            14,
            25,
            17,
            24,
            11,
            22,
            23
           ]
          },
          {
           "label": "n_estimators",
           "range": [
            104,
            1000
           ],
           "values": [
            437,
            737,
            489,
            563,
            374,
            696,
            638,
            421,
            104,
            661,
            207,
            197,
            306,
            268,
            837,
            391,
            356,
            540,
            670,
            114,
            407,
            317,
            899,
            697,
            393,
            319,
            275,
            433,
            866,
            992,
            829,
            817,
            358,
            294,
            565,
            727,
            960,
            204,
            256,
            871,
            449,
            162,
            833,
            259,
            873,
            906,
            669,
            545,
            657,
            988,
            800,
            207,
            301,
            599,
            140,
            418,
            716,
            880,
            973,
            1000,
            959,
            795,
            780,
            494,
            232,
            316,
            908,
            179,
            665,
            288,
            742,
            439,
            811,
            427,
            321,
            985,
            937,
            318,
            403,
            636,
            945,
            247,
            495,
            589,
            658,
            613,
            818,
            411,
            555,
            237,
            987,
            402,
            764,
            426,
            176,
            271,
            461,
            468,
            117,
            870,
            287,
            442,
            788,
            588,
            116,
            109,
            477,
            450,
            760,
            794,
            820,
            501,
            324,
            611,
            876,
            727,
            898,
            819,
            792,
            310,
            808,
            308,
            802,
            783,
            182,
            596,
            715,
            609,
            728,
            216,
            655,
            587,
            371,
            972,
            715,
            298,
            478,
            128,
            794,
            533,
            342,
            362,
            228,
            415,
            250,
            884,
            507,
            297,
            305,
            516,
            881,
            633,
            261,
            563,
            796,
            846,
            698,
            151,
            137,
            564,
            973,
            715,
            294,
            466,
            827,
            430,
            643,
            407,
            960,
            941,
            380,
            573,
            139,
            470,
            701,
            186,
            989,
            193,
            304,
            686,
            519,
            505,
            994,
            844,
            598,
            867,
            811,
            841,
            459,
            489,
            236,
            315,
            833,
            275,
            117,
            822,
            235,
            960,
            515,
            764
           ]
          }
         ],
         "labelangle": 30,
         "labelside": "bottom",
         "line": {
          "color": [
           -2.3082287521521803,
           -2.758021048664968,
           -0.9776709996975494,
           -2.992133019586524,
           -2.9729744162701364,
           -3.571121149988587,
           -1.0149117576436941,
           -0.9038589045214731,
           -2.4772331547275166,
           -1.8308852594125953,
           -2.237828976561041,
           -2.170703831067944,
           -1.019004140458663,
           -2.6361637148279597,
           -2.1754313335950113,
           -1.8146189127043955,
           -2.504037158954837,
           -2.3681631232536366,
           -2.7408719339287417,
           -4.791459144490581,
           -4.814698907653348,
           -2.99861766814137,
           -1.3341140555263398,
           -2.2315884842389444,
           -2.916607354388135,
           -6.421283741299211,
           -0.3896128260330344,
           -2.0230315202550933,
           -2.212034181372854,
           -3.0132859677149475,
           -5.025141198101897,
           -2.5731346367242622,
           -0.2813504827848248,
           -0.29798421198328606,
           -1.5840205516158414,
           -0.8085336424385707,
           -2.3047371448461105,
           -2.9000811437395293,
           -2.310009477841595,
           -0.4134561277018632,
           -2.6291319893516607,
           -0.5737881892694576,
           -5.185027163891752,
           -5.261884440828483,
           -5.68855821609474,
           -4.916241527685402,
           -1.6707194306775102,
           -2.0773161400573303,
           -5.274036308547837,
           -6.187356403874742,
           -6.300657844083475,
           -5.607428566997683,
           -6.42062941151274,
           -2.3245976494119733,
           -6.343822700211952,
           -3.3238824328310344,
           -2.747939105607322,
           -2.55139762991033,
           -2.0942113382584635,
           -2.578602659500707,
           -2.4000627397102177,
           -3.504419819343667,
           -1.2248642139307016,
           -2.1692761147622597,
           -1.628569170490967,
           -0.7126174111042266,
           -1.1599234763899289,
           -1.0739045852934956,
           -5.029280504643872,
           -2.981528578287327,
           -2.6420572498206516,
           -1.0314102693220046,
           -3.6292069467675154,
           -1.8126287152074496,
           -1.8611033965350863,
           -3.367162501294729,
           -1.4733547230095492,
           -1.5857037719562892,
           -6.5240203969337305,
           -1.8258986986188752,
           -5.404661704787673,
           -3.415729585927918,
           -1.5600343822910925,
           -0.9188905670992339,
           -5.9398174082673725,
           -1.7959257171123646,
           -2.511041070637339,
           -2.7879617944459563,
           -2.9072823912127,
           -2.7938516775317432,
           -3.1347505361927697,
           -1.6753567897803023,
           -2.208102453584775,
           -0.9105755589650741,
           -4.184222454767267,
           -3.990205358461263,
           -0.9719511585526153,
           -2.4174913967900302,
           -1.2627528602385587,
           -3.4279351846933075,
           -3.8805087847048854,
           -4.219950400440811,
           -2.1263912709117996,
           -0.7331605897083454,
           -2.852833131250856,
           -4.647890066983858,
           -1.0274335474554317,
           -5.381416037026588,
           -1.4561011111269082,
           -5.417279192011546,
           -2.778455702819449,
           -6.181185789449938,
           -3.3515915912134466,
           -3.710083641566208,
           -5.975950155441114,
           -1.0613826798001469,
           -0.3922595317706647,
           -4.078123062456419,
           -4.037348540946314,
           -5.179585866912106,
           -3.008119554680834,
           -2.2961196247872016,
           -5.209303801844797,
           -4.6138590452807815,
           -0.7173637012234492,
           -2.416364593849085,
           -2.3772681243141913,
           -4.489896895179581,
           -5.691868632122054,
           -1.6751209250463908,
           -1.4264592761451989,
           -3.1982151671780583,
           -3.942169512806976,
           -4.170816912162904,
           -6.430149040201208,
           -4.500077833052151,
           -1.4648893428749648,
           -6.471122778764564,
           -3.1579210248267784,
           -3.5106870632012956,
           -2.2478646981366692,
           -5.745767841402307,
           -2.438721427148093,
           -1.9927108516601553,
           -5.142255612490548,
           -1.7599263424676965,
           -3.907666184858506,
           -1.0251154105470248,
           -4.56033368724341,
           -2.53732359617479,
           -3.9432081242224384,
           -4.221370772304575,
           -1.4983678913745255,
           -1.3860204767687865,
           -2.0975154902048017,
           -2.2877677921037605,
           -5.985372537701516,
           -1.3479389110214848,
           -6.464632329655821,
           -1.071908565055454,
           -2.0747555830304547,
           -4.676364153564176,
           -3.315170793579052,
           -3.9611971175781293,
           -2.017983807185444,
           -1.910848516398061,
           -2.9828167474219494,
           -2.7495340640581434,
           -0.369722075055892,
           -2.4164722315958986,
           -1.5562686507538774,
           -3.8128285595779814,
           -4.303030964347412,
           -2.5073338141516297,
           -2.2699722899958386,
           -2.3280821089855808,
           -2.5928808319006658,
           -1.416940262830121,
           -3.3840554622822525,
           -2.136340015662731,
           -6.3438495916334166,
           -4.88323290634343,
           -5.902734708567559,
           -1.0056676442958232,
           -2.258379316466329,
           -1.371544038812889,
           -2.6039466458735205,
           -5.0122297908327305,
           -0.5714332912125552,
           -2.9667963245327718,
           -3.0278306585123116,
           -1.907634013544159,
           -2.3104242504925407,
           -6.09112838866041,
           -1.1072975258139315,
           -0.8034578207343477,
           -2.3422625591970947,
           -3.6886158293993594,
           -3.035336744322362,
           -1.44163587519229
          ],
          "colorbar": {
           "title": {
            "text": "Objective Value"
           }
          },
          "colorscale": [
           [
            0,
            "rgb(247,251,255)"
           ],
           [
            0.125,
            "rgb(222,235,247)"
           ],
           [
            0.25,
            "rgb(198,219,239)"
           ],
           [
            0.375,
            "rgb(158,202,225)"
           ],
           [
            0.5,
            "rgb(107,174,214)"
           ],
           [
            0.625,
            "rgb(66,146,198)"
           ],
           [
            0.75,
            "rgb(33,113,181)"
           ],
           [
            0.875,
            "rgb(8,81,156)"
           ],
           [
            1,
            "rgb(8,48,107)"
           ]
          ],
          "reversescale": false,
          "showscale": true
         },
         "type": "parcoords"
        }
       ],
       "layout": {
        "template": {
         "data": {
          "bar": [
           {
            "error_x": {
             "color": "#2a3f5f"
            },
            "error_y": {
             "color": "#2a3f5f"
            },
            "marker": {
             "line": {
              "color": "#E5ECF6",
              "width": 0.5
             },
             "pattern": {
              "fillmode": "overlay",
              "size": 10,
              "solidity": 0.2
             }
            },
            "type": "bar"
           }
          ],
          "barpolar": [
           {
            "marker": {
             "line": {
              "color": "#E5ECF6",
              "width": 0.5
             },
             "pattern": {
              "fillmode": "overlay",
              "size": 10,
              "solidity": 0.2
             }
            },
            "type": "barpolar"
           }
          ],
          "carpet": [
           {
            "aaxis": {
             "endlinecolor": "#2a3f5f",
             "gridcolor": "white",
             "linecolor": "white",
             "minorgridcolor": "white",
             "startlinecolor": "#2a3f5f"
            },
            "baxis": {
             "endlinecolor": "#2a3f5f",
             "gridcolor": "white",
             "linecolor": "white",
             "minorgridcolor": "white",
             "startlinecolor": "#2a3f5f"
            },
            "type": "carpet"
           }
          ],
          "choropleth": [
           {
            "colorbar": {
             "outlinewidth": 0,
             "ticks": ""
            },
            "type": "choropleth"
           }
          ],
          "contour": [
           {
            "colorbar": {
             "outlinewidth": 0,
             "ticks": ""
            },
            "colorscale": [
             [
              0,
              "#0d0887"
             ],
             [
              0.1111111111111111,
              "#46039f"
             ],
             [
              0.2222222222222222,
              "#7201a8"
             ],
             [
              0.3333333333333333,
              "#9c179e"
             ],
             [
              0.4444444444444444,
              "#bd3786"
             ],
             [
              0.5555555555555556,
              "#d8576b"
             ],
             [
              0.6666666666666666,
              "#ed7953"
             ],
             [
              0.7777777777777778,
              "#fb9f3a"
             ],
             [
              0.8888888888888888,
              "#fdca26"
             ],
             [
              1,
              "#f0f921"
             ]
            ],
            "type": "contour"
           }
          ],
          "contourcarpet": [
           {
            "colorbar": {
             "outlinewidth": 0,
             "ticks": ""
            },
            "type": "contourcarpet"
           }
          ],
          "heatmap": [
           {
            "colorbar": {
             "outlinewidth": 0,
             "ticks": ""
            },
            "colorscale": [
             [
              0,
              "#0d0887"
             ],
             [
              0.1111111111111111,
              "#46039f"
             ],
             [
              0.2222222222222222,
              "#7201a8"
             ],
             [
              0.3333333333333333,
              "#9c179e"
             ],
             [
              0.4444444444444444,
              "#bd3786"
             ],
             [
              0.5555555555555556,
              "#d8576b"
             ],
             [
              0.6666666666666666,
              "#ed7953"
             ],
             [
              0.7777777777777778,
              "#fb9f3a"
             ],
             [
              0.8888888888888888,
              "#fdca26"
             ],
             [
              1,
              "#f0f921"
             ]
            ],
            "type": "heatmap"
           }
          ],
          "heatmapgl": [
           {
            "colorbar": {
             "outlinewidth": 0,
             "ticks": ""
            },
            "colorscale": [
             [
              0,
              "#0d0887"
             ],
             [
              0.1111111111111111,
              "#46039f"
             ],
             [
              0.2222222222222222,
              "#7201a8"
             ],
             [
              0.3333333333333333,
              "#9c179e"
             ],
             [
              0.4444444444444444,
              "#bd3786"
             ],
             [
              0.5555555555555556,
              "#d8576b"
             ],
             [
              0.6666666666666666,
              "#ed7953"
             ],
             [
              0.7777777777777778,
              "#fb9f3a"
             ],
             [
              0.8888888888888888,
              "#fdca26"
             ],
             [
              1,
              "#f0f921"
             ]
            ],
            "type": "heatmapgl"
           }
          ],
          "histogram": [
           {
            "marker": {
             "pattern": {
              "fillmode": "overlay",
              "size": 10,
              "solidity": 0.2
             }
            },
            "type": "histogram"
           }
          ],
          "histogram2d": [
           {
            "colorbar": {
             "outlinewidth": 0,
             "ticks": ""
            },
            "colorscale": [
             [
              0,
              "#0d0887"
             ],
             [
              0.1111111111111111,
              "#46039f"
             ],
             [
              0.2222222222222222,
              "#7201a8"
             ],
             [
              0.3333333333333333,
              "#9c179e"
             ],
             [
              0.4444444444444444,
              "#bd3786"
             ],
             [
              0.5555555555555556,
              "#d8576b"
             ],
             [
              0.6666666666666666,
              "#ed7953"
             ],
             [
              0.7777777777777778,
              "#fb9f3a"
             ],
             [
              0.8888888888888888,
              "#fdca26"
             ],
             [
              1,
              "#f0f921"
             ]
            ],
            "type": "histogram2d"
           }
          ],
          "histogram2dcontour": [
           {
            "colorbar": {
             "outlinewidth": 0,
             "ticks": ""
            },
            "colorscale": [
             [
              0,
              "#0d0887"
             ],
             [
              0.1111111111111111,
              "#46039f"
             ],
             [
              0.2222222222222222,
              "#7201a8"
             ],
             [
              0.3333333333333333,
              "#9c179e"
             ],
             [
              0.4444444444444444,
              "#bd3786"
             ],
             [
              0.5555555555555556,
              "#d8576b"
             ],
             [
              0.6666666666666666,
              "#ed7953"
             ],
             [
              0.7777777777777778,
              "#fb9f3a"
             ],
             [
              0.8888888888888888,
              "#fdca26"
             ],
             [
              1,
              "#f0f921"
             ]
            ],
            "type": "histogram2dcontour"
           }
          ],
          "mesh3d": [
           {
            "colorbar": {
             "outlinewidth": 0,
             "ticks": ""
            },
            "type": "mesh3d"
           }
          ],
          "parcoords": [
           {
            "line": {
             "colorbar": {
              "outlinewidth": 0,
              "ticks": ""
             }
            },
            "type": "parcoords"
           }
          ],
          "pie": [
           {
            "automargin": true,
            "type": "pie"
           }
          ],
          "scatter": [
           {
            "fillpattern": {
             "fillmode": "overlay",
             "size": 10,
             "solidity": 0.2
            },
            "type": "scatter"
           }
          ],
          "scatter3d": [
           {
            "line": {
             "colorbar": {
              "outlinewidth": 0,
              "ticks": ""
             }
            },
            "marker": {
             "colorbar": {
              "outlinewidth": 0,
              "ticks": ""
             }
            },
            "type": "scatter3d"
           }
          ],
          "scattercarpet": [
           {
            "marker": {
             "colorbar": {
              "outlinewidth": 0,
              "ticks": ""
             }
            },
            "type": "scattercarpet"
           }
          ],
          "scattergeo": [
           {
            "marker": {
             "colorbar": {
              "outlinewidth": 0,
              "ticks": ""
             }
            },
            "type": "scattergeo"
           }
          ],
          "scattergl": [
           {
            "marker": {
             "colorbar": {
              "outlinewidth": 0,
              "ticks": ""
             }
            },
            "type": "scattergl"
           }
          ],
          "scattermapbox": [
           {
            "marker": {
             "colorbar": {
              "outlinewidth": 0,
              "ticks": ""
             }
            },
            "type": "scattermapbox"
           }
          ],
          "scatterpolar": [
           {
            "marker": {
             "colorbar": {
              "outlinewidth": 0,
              "ticks": ""
             }
            },
            "type": "scatterpolar"
           }
          ],
          "scatterpolargl": [
           {
            "marker": {
             "colorbar": {
              "outlinewidth": 0,
              "ticks": ""
             }
            },
            "type": "scatterpolargl"
           }
          ],
          "scatterternary": [
           {
            "marker": {
             "colorbar": {
              "outlinewidth": 0,
              "ticks": ""
             }
            },
            "type": "scatterternary"
           }
          ],
          "surface": [
           {
            "colorbar": {
             "outlinewidth": 0,
             "ticks": ""
            },
            "colorscale": [
             [
              0,
              "#0d0887"
             ],
             [
              0.1111111111111111,
              "#46039f"
             ],
             [
              0.2222222222222222,
              "#7201a8"
             ],
             [
              0.3333333333333333,
              "#9c179e"
             ],
             [
              0.4444444444444444,
              "#bd3786"
             ],
             [
              0.5555555555555556,
              "#d8576b"
             ],
             [
              0.6666666666666666,
              "#ed7953"
             ],
             [
              0.7777777777777778,
              "#fb9f3a"
             ],
             [
              0.8888888888888888,
              "#fdca26"
             ],
             [
              1,
              "#f0f921"
             ]
            ],
            "type": "surface"
           }
          ],
          "table": [
           {
            "cells": {
             "fill": {
              "color": "#EBF0F8"
             },
             "line": {
              "color": "white"
             }
            },
            "header": {
             "fill": {
              "color": "#C8D4E3"
             },
             "line": {
              "color": "white"
             }
            },
            "type": "table"
           }
          ]
         },
         "layout": {
          "annotationdefaults": {
           "arrowcolor": "#2a3f5f",
           "arrowhead": 0,
           "arrowwidth": 1
          },
          "autotypenumbers": "strict",
          "coloraxis": {
           "colorbar": {
            "outlinewidth": 0,
            "ticks": ""
           }
          },
          "colorscale": {
           "diverging": [
            [
             0,
             "#8e0152"
            ],
            [
             0.1,
             "#c51b7d"
            ],
            [
             0.2,
             "#de77ae"
            ],
            [
             0.3,
             "#f1b6da"
            ],
            [
             0.4,
             "#fde0ef"
            ],
            [
             0.5,
             "#f7f7f7"
            ],
            [
             0.6,
             "#e6f5d0"
            ],
            [
             0.7,
             "#b8e186"
            ],
            [
             0.8,
             "#7fbc41"
            ],
            [
             0.9,
             "#4d9221"
            ],
            [
             1,
             "#276419"
            ]
           ],
           "sequential": [
            [
             0,
             "#0d0887"
            ],
            [
             0.1111111111111111,
             "#46039f"
            ],
            [
             0.2222222222222222,
             "#7201a8"
            ],
            [
             0.3333333333333333,
             "#9c179e"
            ],
            [
             0.4444444444444444,
             "#bd3786"
            ],
            [
             0.5555555555555556,
             "#d8576b"
            ],
            [
             0.6666666666666666,
             "#ed7953"
            ],
            [
             0.7777777777777778,
             "#fb9f3a"
            ],
            [
             0.8888888888888888,
             "#fdca26"
            ],
            [
             1,
             "#f0f921"
            ]
           ],
           "sequentialminus": [
            [
             0,
             "#0d0887"
            ],
            [
             0.1111111111111111,
             "#46039f"
            ],
            [
             0.2222222222222222,
             "#7201a8"
            ],
            [
             0.3333333333333333,
             "#9c179e"
            ],
            [
             0.4444444444444444,
             "#bd3786"
            ],
            [
             0.5555555555555556,
             "#d8576b"
            ],
            [
             0.6666666666666666,
             "#ed7953"
            ],
            [
             0.7777777777777778,
             "#fb9f3a"
            ],
            [
             0.8888888888888888,
             "#fdca26"
            ],
            [
             1,
             "#f0f921"
            ]
           ]
          },
          "colorway": [
           "#636efa",
           "#EF553B",
           "#00cc96",
           "#ab63fa",
           "#FFA15A",
           "#19d3f3",
           "#FF6692",
           "#B6E880",
           "#FF97FF",
           "#FECB52"
          ],
          "font": {
           "color": "#2a3f5f"
          },
          "geo": {
           "bgcolor": "white",
           "lakecolor": "white",
           "landcolor": "#E5ECF6",
           "showlakes": true,
           "showland": true,
           "subunitcolor": "white"
          },
          "hoverlabel": {
           "align": "left"
          },
          "hovermode": "closest",
          "mapbox": {
           "style": "light"
          },
          "paper_bgcolor": "white",
          "plot_bgcolor": "#E5ECF6",
          "polar": {
           "angularaxis": {
            "gridcolor": "white",
            "linecolor": "white",
            "ticks": ""
           },
           "bgcolor": "#E5ECF6",
           "radialaxis": {
            "gridcolor": "white",
            "linecolor": "white",
            "ticks": ""
           }
          },
          "scene": {
           "xaxis": {
            "backgroundcolor": "#E5ECF6",
            "gridcolor": "white",
            "gridwidth": 2,
            "linecolor": "white",
            "showbackground": true,
            "ticks": "",
            "zerolinecolor": "white"
           },
           "yaxis": {
            "backgroundcolor": "#E5ECF6",
            "gridcolor": "white",
            "gridwidth": 2,
            "linecolor": "white",
            "showbackground": true,
            "ticks": "",
            "zerolinecolor": "white"
           },
           "zaxis": {
            "backgroundcolor": "#E5ECF6",
            "gridcolor": "white",
            "gridwidth": 2,
            "linecolor": "white",
            "showbackground": true,
            "ticks": "",
            "zerolinecolor": "white"
           }
          },
          "shapedefaults": {
           "line": {
            "color": "#2a3f5f"
           }
          },
          "ternary": {
           "aaxis": {
            "gridcolor": "white",
            "linecolor": "white",
            "ticks": ""
           },
           "baxis": {
            "gridcolor": "white",
            "linecolor": "white",
            "ticks": ""
           },
           "bgcolor": "#E5ECF6",
           "caxis": {
            "gridcolor": "white",
            "linecolor": "white",
            "ticks": ""
           }
          },
          "title": {
           "x": 0.05
          },
          "xaxis": {
           "automargin": true,
           "gridcolor": "white",
           "linecolor": "white",
           "ticks": "",
           "title": {
            "standoff": 15
           },
           "zerolinecolor": "white",
           "zerolinewidth": 2
          },
          "yaxis": {
           "automargin": true,
           "gridcolor": "white",
           "linecolor": "white",
           "ticks": "",
           "title": {
            "standoff": 15
           },
           "zerolinecolor": "white",
           "zerolinewidth": 2
          }
         }
        },
        "title": {
         "text": "Parallel Coordinate Plot"
        }
       }
      },
      "text/html": [
       "<div>                            <div id=\"aec831a5-1458-4216-b479-b0af2f91e7a9\" class=\"plotly-graph-div\" style=\"height:525px; width:100%;\"></div>            <script type=\"text/javascript\">                require([\"plotly\"], function(Plotly) {                    window.PLOTLYENV=window.PLOTLYENV || {};                                    if (document.getElementById(\"aec831a5-1458-4216-b479-b0af2f91e7a9\")) {                    Plotly.newPlot(                        \"aec831a5-1458-4216-b479-b0af2f91e7a9\",                        [{\"dimensions\":[{\"label\":\"Objective Value\",\"range\":[-6.5240203969337305,-0.2813504827848248],\"values\":[-2.3082287521521803,-2.758021048664968,-0.9776709996975494,-2.992133019586524,-2.9729744162701364,-3.571121149988587,-1.0149117576436941,-0.9038589045214731,-2.4772331547275166,-1.8308852594125953,-2.237828976561041,-2.170703831067944,-1.019004140458663,-2.6361637148279597,-2.1754313335950113,-1.8146189127043955,-2.504037158954837,-2.3681631232536366,-2.7408719339287417,-4.791459144490581,-4.814698907653348,-2.99861766814137,-1.3341140555263398,-2.2315884842389444,-2.916607354388135,-6.421283741299211,-0.3896128260330344,-2.0230315202550933,-2.212034181372854,-3.0132859677149475,-5.025141198101897,-2.5731346367242622,-0.2813504827848248,-0.29798421198328606,-1.5840205516158414,-0.8085336424385707,-2.3047371448461105,-2.9000811437395293,-2.310009477841595,-0.4134561277018632,-2.6291319893516607,-0.5737881892694576,-5.185027163891752,-5.261884440828483,-5.68855821609474,-4.916241527685402,-1.6707194306775102,-2.0773161400573303,-5.274036308547837,-6.187356403874742,-6.300657844083475,-5.607428566997683,-6.42062941151274,-2.3245976494119733,-6.343822700211952,-3.3238824328310344,-2.747939105607322,-2.55139762991033,-2.0942113382584635,-2.578602659500707,-2.4000627397102177,-3.504419819343667,-1.2248642139307016,-2.1692761147622597,-1.628569170490967,-0.7126174111042266,-1.1599234763899289,-1.0739045852934956,-5.029280504643872,-2.981528578287327,-2.6420572498206516,-1.0314102693220046,-3.6292069467675154,-1.8126287152074496,-1.8611033965350863,-3.367162501294729,-1.4733547230095492,-1.5857037719562892,-6.5240203969337305,-1.8258986986188752,-5.404661704787673,-3.415729585927918,-1.5600343822910925,-0.9188905670992339,-5.9398174082673725,-1.7959257171123646,-2.511041070637339,-2.7879617944459563,-2.9072823912127,-2.7938516775317432,-3.1347505361927697,-1.6753567897803023,-2.208102453584775,-0.9105755589650741,-4.184222454767267,-3.990205358461263,-0.9719511585526153,-2.4174913967900302,-1.2627528602385587,-3.4279351846933075,-3.8805087847048854,-4.219950400440811,-2.1263912709117996,-0.7331605897083454,-2.852833131250856,-4.647890066983858,-1.0274335474554317,-5.381416037026588,-1.4561011111269082,-5.417279192011546,-2.778455702819449,-6.181185789449938,-3.3515915912134466,-3.710083641566208,-5.975950155441114,-1.0613826798001469,-0.3922595317706647,-4.078123062456419,-4.037348540946314,-5.179585866912106,-3.008119554680834,-2.2961196247872016,-5.209303801844797,-4.6138590452807815,-0.7173637012234492,-2.416364593849085,-2.3772681243141913,-4.489896895179581,-5.691868632122054,-1.6751209250463908,-1.4264592761451989,-3.1982151671780583,-3.942169512806976,-4.170816912162904,-6.430149040201208,-4.500077833052151,-1.4648893428749648,-6.471122778764564,-3.1579210248267784,-3.5106870632012956,-2.2478646981366692,-5.745767841402307,-2.438721427148093,-1.9927108516601553,-5.142255612490548,-1.7599263424676965,-3.907666184858506,-1.0251154105470248,-4.56033368724341,-2.53732359617479,-3.9432081242224384,-4.221370772304575,-1.4983678913745255,-1.3860204767687865,-2.0975154902048017,-2.2877677921037605,-5.985372537701516,-1.3479389110214848,-6.464632329655821,-1.071908565055454,-2.0747555830304547,-4.676364153564176,-3.315170793579052,-3.9611971175781293,-2.017983807185444,-1.910848516398061,-2.9828167474219494,-2.7495340640581434,-0.369722075055892,-2.4164722315958986,-1.5562686507538774,-3.8128285595779814,-4.303030964347412,-2.5073338141516297,-2.2699722899958386,-2.3280821089855808,-2.5928808319006658,-1.416940262830121,-3.3840554622822525,-2.136340015662731,-6.3438495916334166,-4.88323290634343,-5.902734708567559,-1.0056676442958232,-2.258379316466329,-1.371544038812889,-2.6039466458735205,-5.0122297908327305,-0.5714332912125552,-2.9667963245327718,-3.0278306585123116,-1.907634013544159,-2.3104242504925407,-6.09112838866041,-1.1072975258139315,-0.8034578207343477,-2.3422625591970947,-3.6886158293993594,-3.035336744322362,-1.44163587519229]},{\"label\":\"criterion\",\"range\":[0,1],\"ticktext\":[\"mse\",\"mae\"],\"tickvals\":[0,1],\"values\":[0,1,0,0,0,0,1,0,1,0,0,1,0,1,1,0,0,1,1,0,0,1,1,0,0,0,0,1,1,0,1,1,1,1,0,0,0,0,0,0,0,0,0,1,0,0,0,1,1,0,0,1,0,1,1,1,1,0,0,0,0,0,0,1,1,1,0,1,0,1,1,1,1,1,0,1,1,0,1,1,0,1,0,1,0,1,0,1,0,0,0,1,1,1,0,0,1,1,1,1,0,1,1,1,0,1,0,1,0,1,1,1,0,0,0,1,1,1,1,1,1,0,1,0,0,1,1,1,1,1,1,0,1,1,0,1,0,0,1,1,1,1,0,0,1,1,1,1,1,0,0,1,0,0,0,1,1,1,0,1,1,0,1,1,1,0,0,0,0,0,0,0,1,0,0,0,0,1,1,1,0,0,0,1,1,0,0,1,1,1,1,1,0,1,1,1,1,1,0,0]},{\"label\":\"max_depth\",\"range\":[10,50],\"values\":[48,10,21,34,14,22,47,21,43,23,39,11,13,46,45,31,11,50,31,30,14,13,41,10,40,49,39,10,22,15,43,46,34,35,23,26,40,11,27,37,36,14,21,40,27,25,28,12,14,25,32,14,49,49,21,33,16,11,44,50,34,31,35,47,47,13,29,14,13,25,46,10,30,36,16,14,32,14,15,29,17,16,25,47,31,41,16,17,35,33,44,42,28,33,50,11,32,11,14,44,11,34,15,35,47,15,25,21,18,14,38,17,30,47,44,23,35,50,27,11,13,48,24,38,45,13,13,20,37,23,50,49,39,40,28,13,36,36,44,14,42,38,30,11,14,39,36,50,50,45,33,47,19,24,15,27,29,31,16,30,13,30,37,45,41,26,37,25,10,24,35,39,35,44,13,10,15,39,24,31,12,41,48,42,22,18,22,15,16,22,12,15,35,25,20,49,23,42,36,31]},{\"label\":\"max_features\",\"range\":[0,2],\"ticktext\":[\"auto\",\"log2\",\"sqrt\"],\"tickvals\":[0,1,2],\"values\":[0,0,1,1,2,2,1,1,0,2,0,2,0,0,0,0,1,0,0,2,1,0,2,0,0,2,1,0,0,0,1,2,0,1,0,1,0,0,0,0,1,0,2,1,2,1,1,0,2,2,2,2,2,0,2,0,0,2,0,0,0,2,1,0,2,1,0,1,1,1,1,1,2,0,2,0,0,0,2,1,2,1,0,0,2,1,0,1,0,2,0,1,1,1,2,2,2,0,0,1,2,2,0,2,1,1,2,2,0,2,1,2,0,1,2,1,1,1,1,1,0,0,1,1,2,2,1,1,2,2,1,1,2,1,2,2,0,2,1,1,1,2,0,1,2,1,1,0,2,0,1,2,0,2,0,0,2,1,2,1,0,1,1,2,0,0,2,1,2,1,0,2,2,2,1,0,2,1,2,2,2,2,2,1,1,1,2,1,1,2,2,2,0,2,0,1,1,1,0,2]},{\"label\":\"min_samples_leaf\",\"range\":[1,32],\"values\":[20,27,5,20,15,18,7,5,24,10,18,11,6,26,17,12,17,22,27,21,29,29,3,18,28,29,1,14,18,29,30,13,2,2,9,6,20,28,20,3,18,4,23,32,25,29,11,15,23,27,30,24,32,21,29,32,27,13,15,25,22,18,7,17,9,5,6,7,30,20,18,7,18,12,10,32,9,10,32,12,24,22,10,4,26,11,24,19,28,14,30,11,15,1,20,19,6,23,6,22,19,20,16,5,19,28,2,24,9,24,19,28,32,23,27,3,1,25,24,32,29,20,32,27,5,12,16,26,25,6,9,21,19,25,32,21,9,28,21,22,15,25,23,13,23,11,24,6,21,24,24,20,6,6,15,20,26,2,31,5,15,28,21,19,14,13,15,19,1,16,9,19,20,12,15,20,13,9,17,11,31,22,27,2,15,4,13,30,3,15,15,10,20,27,5,4,16,23,29,2]},{\"label\":\"min_samples_split\",\"range\":[2,32],\"values\":[24,32,20,3,23,18,4,18,23,3,25,21,10,18,2,23,20,9,4,9,30,29,21,6,22,14,10,30,7,18,28,12,2,4,26,7,19,3,14,7,16,2,5,27,25,2,11,19,4,13,15,22,2,18,31,4,30,2,27,19,9,28,23,12,17,5,22,16,29,17,17,11,4,19,7,14,19,20,3,14,4,27,16,21,29,29,9,30,2,20,5,2,8,21,17,16,6,6,26,14,7,10,28,9,5,29,18,13,2,4,10,18,8,3,11,24,9,12,15,2,14,22,3,6,10,14,28,29,21,25,21,12,4,6,10,23,14,13,25,5,11,28,21,4,21,26,18,12,32,24,15,8,32,20,32,9,28,31,32,22,22,21,14,26,26,23,21,14,8,5,24,5,31,29,21,21,23,19,4,12,19,12,18,23,14,30,4,28,13,17,26,5,11,14,25,17,24,11,22,23]},{\"label\":\"n_estimators\",\"range\":[104,1000],\"values\":[437,737,489,563,374,696,638,421,104,661,207,197,306,268,837,391,356,540,670,114,407,317,899,697,393,319,275,433,866,992,829,817,358,294,565,727,960,204,256,871,449,162,833,259,873,906,669,545,657,988,800,207,301,599,140,418,716,880,973,1000,959,795,780,494,232,316,908,179,665,288,742,439,811,427,321,985,937,318,403,636,945,247,495,589,658,613,818,411,555,237,987,402,764,426,176,271,461,468,117,870,287,442,788,588,116,109,477,450,760,794,820,501,324,611,876,727,898,819,792,310,808,308,802,783,182,596,715,609,728,216,655,587,371,972,715,298,478,128,794,533,342,362,228,415,250,884,507,297,305,516,881,633,261,563,796,846,698,151,137,564,973,715,294,466,827,430,643,407,960,941,380,573,139,470,701,186,989,193,304,686,519,505,994,844,598,867,811,841,459,489,236,315,833,275,117,822,235,960,515,764]}],\"labelangle\":30,\"labelside\":\"bottom\",\"line\":{\"color\":[-2.3082287521521803,-2.758021048664968,-0.9776709996975494,-2.992133019586524,-2.9729744162701364,-3.571121149988587,-1.0149117576436941,-0.9038589045214731,-2.4772331547275166,-1.8308852594125953,-2.237828976561041,-2.170703831067944,-1.019004140458663,-2.6361637148279597,-2.1754313335950113,-1.8146189127043955,-2.504037158954837,-2.3681631232536366,-2.7408719339287417,-4.791459144490581,-4.814698907653348,-2.99861766814137,-1.3341140555263398,-2.2315884842389444,-2.916607354388135,-6.421283741299211,-0.3896128260330344,-2.0230315202550933,-2.212034181372854,-3.0132859677149475,-5.025141198101897,-2.5731346367242622,-0.2813504827848248,-0.29798421198328606,-1.5840205516158414,-0.8085336424385707,-2.3047371448461105,-2.9000811437395293,-2.310009477841595,-0.4134561277018632,-2.6291319893516607,-0.5737881892694576,-5.185027163891752,-5.261884440828483,-5.68855821609474,-4.916241527685402,-1.6707194306775102,-2.0773161400573303,-5.274036308547837,-6.187356403874742,-6.300657844083475,-5.607428566997683,-6.42062941151274,-2.3245976494119733,-6.343822700211952,-3.3238824328310344,-2.747939105607322,-2.55139762991033,-2.0942113382584635,-2.578602659500707,-2.4000627397102177,-3.504419819343667,-1.2248642139307016,-2.1692761147622597,-1.628569170490967,-0.7126174111042266,-1.1599234763899289,-1.0739045852934956,-5.029280504643872,-2.981528578287327,-2.6420572498206516,-1.0314102693220046,-3.6292069467675154,-1.8126287152074496,-1.8611033965350863,-3.367162501294729,-1.4733547230095492,-1.5857037719562892,-6.5240203969337305,-1.8258986986188752,-5.404661704787673,-3.415729585927918,-1.5600343822910925,-0.9188905670992339,-5.9398174082673725,-1.7959257171123646,-2.511041070637339,-2.7879617944459563,-2.9072823912127,-2.7938516775317432,-3.1347505361927697,-1.6753567897803023,-2.208102453584775,-0.9105755589650741,-4.184222454767267,-3.990205358461263,-0.9719511585526153,-2.4174913967900302,-1.2627528602385587,-3.4279351846933075,-3.8805087847048854,-4.219950400440811,-2.1263912709117996,-0.7331605897083454,-2.852833131250856,-4.647890066983858,-1.0274335474554317,-5.381416037026588,-1.4561011111269082,-5.417279192011546,-2.778455702819449,-6.181185789449938,-3.3515915912134466,-3.710083641566208,-5.975950155441114,-1.0613826798001469,-0.3922595317706647,-4.078123062456419,-4.037348540946314,-5.179585866912106,-3.008119554680834,-2.2961196247872016,-5.209303801844797,-4.6138590452807815,-0.7173637012234492,-2.416364593849085,-2.3772681243141913,-4.489896895179581,-5.691868632122054,-1.6751209250463908,-1.4264592761451989,-3.1982151671780583,-3.942169512806976,-4.170816912162904,-6.430149040201208,-4.500077833052151,-1.4648893428749648,-6.471122778764564,-3.1579210248267784,-3.5106870632012956,-2.2478646981366692,-5.745767841402307,-2.438721427148093,-1.9927108516601553,-5.142255612490548,-1.7599263424676965,-3.907666184858506,-1.0251154105470248,-4.56033368724341,-2.53732359617479,-3.9432081242224384,-4.221370772304575,-1.4983678913745255,-1.3860204767687865,-2.0975154902048017,-2.2877677921037605,-5.985372537701516,-1.3479389110214848,-6.464632329655821,-1.071908565055454,-2.0747555830304547,-4.676364153564176,-3.315170793579052,-3.9611971175781293,-2.017983807185444,-1.910848516398061,-2.9828167474219494,-2.7495340640581434,-0.369722075055892,-2.4164722315958986,-1.5562686507538774,-3.8128285595779814,-4.303030964347412,-2.5073338141516297,-2.2699722899958386,-2.3280821089855808,-2.5928808319006658,-1.416940262830121,-3.3840554622822525,-2.136340015662731,-6.3438495916334166,-4.88323290634343,-5.902734708567559,-1.0056676442958232,-2.258379316466329,-1.371544038812889,-2.6039466458735205,-5.0122297908327305,-0.5714332912125552,-2.9667963245327718,-3.0278306585123116,-1.907634013544159,-2.3104242504925407,-6.09112838866041,-1.1072975258139315,-0.8034578207343477,-2.3422625591970947,-3.6886158293993594,-3.035336744322362,-1.44163587519229],\"colorbar\":{\"title\":{\"text\":\"Objective Value\"}},\"colorscale\":[[0.0,\"rgb(247,251,255)\"],[0.125,\"rgb(222,235,247)\"],[0.25,\"rgb(198,219,239)\"],[0.375,\"rgb(158,202,225)\"],[0.5,\"rgb(107,174,214)\"],[0.625,\"rgb(66,146,198)\"],[0.75,\"rgb(33,113,181)\"],[0.875,\"rgb(8,81,156)\"],[1.0,\"rgb(8,48,107)\"]],\"reversescale\":false,\"showscale\":true},\"type\":\"parcoords\"}],                        {\"title\":{\"text\":\"Parallel Coordinate Plot\"},\"template\":{\"data\":{\"histogram2dcontour\":[{\"type\":\"histogram2dcontour\",\"colorbar\":{\"outlinewidth\":0,\"ticks\":\"\"},\"colorscale\":[[0.0,\"#0d0887\"],[0.1111111111111111,\"#46039f\"],[0.2222222222222222,\"#7201a8\"],[0.3333333333333333,\"#9c179e\"],[0.4444444444444444,\"#bd3786\"],[0.5555555555555556,\"#d8576b\"],[0.6666666666666666,\"#ed7953\"],[0.7777777777777778,\"#fb9f3a\"],[0.8888888888888888,\"#fdca26\"],[1.0,\"#f0f921\"]]}],\"choropleth\":[{\"type\":\"choropleth\",\"colorbar\":{\"outlinewidth\":0,\"ticks\":\"\"}}],\"histogram2d\":[{\"type\":\"histogram2d\",\"colorbar\":{\"outlinewidth\":0,\"ticks\":\"\"},\"colorscale\":[[0.0,\"#0d0887\"],[0.1111111111111111,\"#46039f\"],[0.2222222222222222,\"#7201a8\"],[0.3333333333333333,\"#9c179e\"],[0.4444444444444444,\"#bd3786\"],[0.5555555555555556,\"#d8576b\"],[0.6666666666666666,\"#ed7953\"],[0.7777777777777778,\"#fb9f3a\"],[0.8888888888888888,\"#fdca26\"],[1.0,\"#f0f921\"]]}],\"heatmap\":[{\"type\":\"heatmap\",\"colorbar\":{\"outlinewidth\":0,\"ticks\":\"\"},\"colorscale\":[[0.0,\"#0d0887\"],[0.1111111111111111,\"#46039f\"],[0.2222222222222222,\"#7201a8\"],[0.3333333333333333,\"#9c179e\"],[0.4444444444444444,\"#bd3786\"],[0.5555555555555556,\"#d8576b\"],[0.6666666666666666,\"#ed7953\"],[0.7777777777777778,\"#fb9f3a\"],[0.8888888888888888,\"#fdca26\"],[1.0,\"#f0f921\"]]}],\"heatmapgl\":[{\"type\":\"heatmapgl\",\"colorbar\":{\"outlinewidth\":0,\"ticks\":\"\"},\"colorscale\":[[0.0,\"#0d0887\"],[0.1111111111111111,\"#46039f\"],[0.2222222222222222,\"#7201a8\"],[0.3333333333333333,\"#9c179e\"],[0.4444444444444444,\"#bd3786\"],[0.5555555555555556,\"#d8576b\"],[0.6666666666666666,\"#ed7953\"],[0.7777777777777778,\"#fb9f3a\"],[0.8888888888888888,\"#fdca26\"],[1.0,\"#f0f921\"]]}],\"contourcarpet\":[{\"type\":\"contourcarpet\",\"colorbar\":{\"outlinewidth\":0,\"ticks\":\"\"}}],\"contour\":[{\"type\":\"contour\",\"colorbar\":{\"outlinewidth\":0,\"ticks\":\"\"},\"colorscale\":[[0.0,\"#0d0887\"],[0.1111111111111111,\"#46039f\"],[0.2222222222222222,\"#7201a8\"],[0.3333333333333333,\"#9c179e\"],[0.4444444444444444,\"#bd3786\"],[0.5555555555555556,\"#d8576b\"],[0.6666666666666666,\"#ed7953\"],[0.7777777777777778,\"#fb9f3a\"],[0.8888888888888888,\"#fdca26\"],[1.0,\"#f0f921\"]]}],\"surface\":[{\"type\":\"surface\",\"colorbar\":{\"outlinewidth\":0,\"ticks\":\"\"},\"colorscale\":[[0.0,\"#0d0887\"],[0.1111111111111111,\"#46039f\"],[0.2222222222222222,\"#7201a8\"],[0.3333333333333333,\"#9c179e\"],[0.4444444444444444,\"#bd3786\"],[0.5555555555555556,\"#d8576b\"],[0.6666666666666666,\"#ed7953\"],[0.7777777777777778,\"#fb9f3a\"],[0.8888888888888888,\"#fdca26\"],[1.0,\"#f0f921\"]]}],\"mesh3d\":[{\"type\":\"mesh3d\",\"colorbar\":{\"outlinewidth\":0,\"ticks\":\"\"}}],\"scatter\":[{\"fillpattern\":{\"fillmode\":\"overlay\",\"size\":10,\"solidity\":0.2},\"type\":\"scatter\"}],\"parcoords\":[{\"type\":\"parcoords\",\"line\":{\"colorbar\":{\"outlinewidth\":0,\"ticks\":\"\"}}}],\"scatterpolargl\":[{\"type\":\"scatterpolargl\",\"marker\":{\"colorbar\":{\"outlinewidth\":0,\"ticks\":\"\"}}}],\"bar\":[{\"error_x\":{\"color\":\"#2a3f5f\"},\"error_y\":{\"color\":\"#2a3f5f\"},\"marker\":{\"line\":{\"color\":\"#E5ECF6\",\"width\":0.5},\"pattern\":{\"fillmode\":\"overlay\",\"size\":10,\"solidity\":0.2}},\"type\":\"bar\"}],\"scattergeo\":[{\"type\":\"scattergeo\",\"marker\":{\"colorbar\":{\"outlinewidth\":0,\"ticks\":\"\"}}}],\"scatterpolar\":[{\"type\":\"scatterpolar\",\"marker\":{\"colorbar\":{\"outlinewidth\":0,\"ticks\":\"\"}}}],\"histogram\":[{\"marker\":{\"pattern\":{\"fillmode\":\"overlay\",\"size\":10,\"solidity\":0.2}},\"type\":\"histogram\"}],\"scattergl\":[{\"type\":\"scattergl\",\"marker\":{\"colorbar\":{\"outlinewidth\":0,\"ticks\":\"\"}}}],\"scatter3d\":[{\"type\":\"scatter3d\",\"line\":{\"colorbar\":{\"outlinewidth\":0,\"ticks\":\"\"}},\"marker\":{\"colorbar\":{\"outlinewidth\":0,\"ticks\":\"\"}}}],\"scattermapbox\":[{\"type\":\"scattermapbox\",\"marker\":{\"colorbar\":{\"outlinewidth\":0,\"ticks\":\"\"}}}],\"scatterternary\":[{\"type\":\"scatterternary\",\"marker\":{\"colorbar\":{\"outlinewidth\":0,\"ticks\":\"\"}}}],\"scattercarpet\":[{\"type\":\"scattercarpet\",\"marker\":{\"colorbar\":{\"outlinewidth\":0,\"ticks\":\"\"}}}],\"carpet\":[{\"aaxis\":{\"endlinecolor\":\"#2a3f5f\",\"gridcolor\":\"white\",\"linecolor\":\"white\",\"minorgridcolor\":\"white\",\"startlinecolor\":\"#2a3f5f\"},\"baxis\":{\"endlinecolor\":\"#2a3f5f\",\"gridcolor\":\"white\",\"linecolor\":\"white\",\"minorgridcolor\":\"white\",\"startlinecolor\":\"#2a3f5f\"},\"type\":\"carpet\"}],\"table\":[{\"cells\":{\"fill\":{\"color\":\"#EBF0F8\"},\"line\":{\"color\":\"white\"}},\"header\":{\"fill\":{\"color\":\"#C8D4E3\"},\"line\":{\"color\":\"white\"}},\"type\":\"table\"}],\"barpolar\":[{\"marker\":{\"line\":{\"color\":\"#E5ECF6\",\"width\":0.5},\"pattern\":{\"fillmode\":\"overlay\",\"size\":10,\"solidity\":0.2}},\"type\":\"barpolar\"}],\"pie\":[{\"automargin\":true,\"type\":\"pie\"}]},\"layout\":{\"autotypenumbers\":\"strict\",\"colorway\":[\"#636efa\",\"#EF553B\",\"#00cc96\",\"#ab63fa\",\"#FFA15A\",\"#19d3f3\",\"#FF6692\",\"#B6E880\",\"#FF97FF\",\"#FECB52\"],\"font\":{\"color\":\"#2a3f5f\"},\"hovermode\":\"closest\",\"hoverlabel\":{\"align\":\"left\"},\"paper_bgcolor\":\"white\",\"plot_bgcolor\":\"#E5ECF6\",\"polar\":{\"bgcolor\":\"#E5ECF6\",\"angularaxis\":{\"gridcolor\":\"white\",\"linecolor\":\"white\",\"ticks\":\"\"},\"radialaxis\":{\"gridcolor\":\"white\",\"linecolor\":\"white\",\"ticks\":\"\"}},\"ternary\":{\"bgcolor\":\"#E5ECF6\",\"aaxis\":{\"gridcolor\":\"white\",\"linecolor\":\"white\",\"ticks\":\"\"},\"baxis\":{\"gridcolor\":\"white\",\"linecolor\":\"white\",\"ticks\":\"\"},\"caxis\":{\"gridcolor\":\"white\",\"linecolor\":\"white\",\"ticks\":\"\"}},\"coloraxis\":{\"colorbar\":{\"outlinewidth\":0,\"ticks\":\"\"}},\"colorscale\":{\"sequential\":[[0.0,\"#0d0887\"],[0.1111111111111111,\"#46039f\"],[0.2222222222222222,\"#7201a8\"],[0.3333333333333333,\"#9c179e\"],[0.4444444444444444,\"#bd3786\"],[0.5555555555555556,\"#d8576b\"],[0.6666666666666666,\"#ed7953\"],[0.7777777777777778,\"#fb9f3a\"],[0.8888888888888888,\"#fdca26\"],[1.0,\"#f0f921\"]],\"sequentialminus\":[[0.0,\"#0d0887\"],[0.1111111111111111,\"#46039f\"],[0.2222222222222222,\"#7201a8\"],[0.3333333333333333,\"#9c179e\"],[0.4444444444444444,\"#bd3786\"],[0.5555555555555556,\"#d8576b\"],[0.6666666666666666,\"#ed7953\"],[0.7777777777777778,\"#fb9f3a\"],[0.8888888888888888,\"#fdca26\"],[1.0,\"#f0f921\"]],\"diverging\":[[0,\"#8e0152\"],[0.1,\"#c51b7d\"],[0.2,\"#de77ae\"],[0.3,\"#f1b6da\"],[0.4,\"#fde0ef\"],[0.5,\"#f7f7f7\"],[0.6,\"#e6f5d0\"],[0.7,\"#b8e186\"],[0.8,\"#7fbc41\"],[0.9,\"#4d9221\"],[1,\"#276419\"]]},\"xaxis\":{\"gridcolor\":\"white\",\"linecolor\":\"white\",\"ticks\":\"\",\"title\":{\"standoff\":15},\"zerolinecolor\":\"white\",\"automargin\":true,\"zerolinewidth\":2},\"yaxis\":{\"gridcolor\":\"white\",\"linecolor\":\"white\",\"ticks\":\"\",\"title\":{\"standoff\":15},\"zerolinecolor\":\"white\",\"automargin\":true,\"zerolinewidth\":2},\"scene\":{\"xaxis\":{\"backgroundcolor\":\"#E5ECF6\",\"gridcolor\":\"white\",\"linecolor\":\"white\",\"showbackground\":true,\"ticks\":\"\",\"zerolinecolor\":\"white\",\"gridwidth\":2},\"yaxis\":{\"backgroundcolor\":\"#E5ECF6\",\"gridcolor\":\"white\",\"linecolor\":\"white\",\"showbackground\":true,\"ticks\":\"\",\"zerolinecolor\":\"white\",\"gridwidth\":2},\"zaxis\":{\"backgroundcolor\":\"#E5ECF6\",\"gridcolor\":\"white\",\"linecolor\":\"white\",\"showbackground\":true,\"ticks\":\"\",\"zerolinecolor\":\"white\",\"gridwidth\":2}},\"shapedefaults\":{\"line\":{\"color\":\"#2a3f5f\"}},\"annotationdefaults\":{\"arrowcolor\":\"#2a3f5f\",\"arrowhead\":0,\"arrowwidth\":1},\"geo\":{\"bgcolor\":\"white\",\"landcolor\":\"#E5ECF6\",\"subunitcolor\":\"white\",\"showland\":true,\"showlakes\":true,\"lakecolor\":\"white\"},\"title\":{\"x\":0.05},\"mapbox\":{\"style\":\"light\"}}}},                        {\"responsive\": true}                    ).then(function(){\n",
       "                            \n",
       "var gd = document.getElementById('aec831a5-1458-4216-b479-b0af2f91e7a9');\n",
       "var x = new MutationObserver(function (mutations, observer) {{\n",
       "        var display = window.getComputedStyle(gd).display;\n",
       "        if (!display || display === 'none') {{\n",
       "            console.log([gd, 'removed!']);\n",
       "            Plotly.purge(gd);\n",
       "            observer.disconnect();\n",
       "        }}\n",
       "}});\n",
       "\n",
       "// Listen for the removal of the full notebook cells\n",
       "var notebookContainer = gd.closest('#notebook-container');\n",
       "if (notebookContainer) {{\n",
       "    x.observe(notebookContainer, {childList: true});\n",
       "}}\n",
       "\n",
       "// Listen for the clearing of the current output cell\n",
       "var outputEl = gd.closest('.output');\n",
       "if (outputEl) {{\n",
       "    x.observe(outputEl, {childList: true});\n",
       "}}\n",
       "\n",
       "                        })                };                });            </script>        </div>"
      ]
     },
     "metadata": {},
     "output_type": "display_data"
    }
   ],
   "source": [
    "optuna.visualization.plot_parallel_coordinate(study)"
   ]
  },
  {
   "cell_type": "markdown",
   "id": "53baffbf",
   "metadata": {},
   "source": [
    "The plot illustrates serval important aspects:\n",
    "\n",
    "1) **Hyperparameter Relationships:** Each vertical axis represents a hyperparameter, and the horizontal lines connecting different axes illustrate how the values of these hyperparameters relate to each other during the optimization process. You can see how certain hyperparameter values are chosen together or in relation to one another.\n",
    "\n",
    "2. **Objective Function Values:** The color and thickness of each line segment in the plot represent the objective function value for a specific trial or combination of hyperparameters. Darker, thicker lines often indicate better objective function values, while lighter, thinner lines correspond to poorer results.\n",
    "\n",
    "3. **Optimal Configurations:** By visually inspecting the plot, we can identify regions of the plot where the lines converge, indicating successful configurations of hyperparameters that led to good objective function values. This helps you find optimal or promising combinations of hyperparameters.\n",
    "\n",
    "4. **Divergence and Exploration:** The spread of lines across the plot can also indicate how widely you explored the hyperparameter search space. Tight clusters suggest that the search was focused, while scattered lines may indicate that the search space was thoroughly explored."
   ]
  },
  {
   "cell_type": "markdown",
   "id": "8581b325",
   "metadata": {},
   "source": [
    "### Slice Plot"
   ]
  },
  {
   "cell_type": "markdown",
   "id": "cde3cab3",
   "metadata": {},
   "source": [
    "These Plots provide insights into **the relationship between specific hyperparameters and the objective function value.** It visualizes how a particular hyperparameter or a combination of hyperparameters affects the optimization process."
   ]
  },
  {
   "cell_type": "code",
   "execution_count": 140,
   "id": "991a9b31",
   "metadata": {
    "scrolled": false
   },
   "outputs": [
    {
     "data": {
      "application/vnd.plotly.v1+json": {
       "config": {
        "plotlyServerURL": "https://plot.ly"
       },
       "data": [
        {
         "marker": {
          "color": [
           0,
           1,
           2,
           3,
           4,
           5,
           6,
           7,
           8,
           9,
           10,
           11,
           12,
           13,
           14,
           15,
           16,
           17,
           18,
           19,
           20,
           21,
           22,
           23,
           24,
           25,
           26,
           27,
           28,
           29,
           30,
           31,
           32,
           33,
           34,
           35,
           36,
           37,
           38,
           39,
           40,
           41,
           42,
           43,
           44,
           45,
           46,
           47,
           48,
           49,
           50,
           51,
           52,
           53,
           54,
           55,
           56,
           57,
           58,
           59,
           60,
           61,
           62,
           63,
           64,
           65,
           66,
           67,
           68,
           69,
           70,
           71,
           72,
           73,
           74,
           75,
           76,
           77,
           78,
           79,
           80,
           81,
           82,
           83,
           84,
           85,
           86,
           87,
           88,
           89,
           90,
           91,
           92,
           93,
           94,
           95,
           96,
           97,
           98,
           99,
           100,
           101,
           102,
           103,
           104,
           105,
           106,
           107,
           108,
           109,
           110,
           111,
           112,
           113,
           114,
           115,
           116,
           117,
           118,
           119,
           120,
           121,
           122,
           123,
           124,
           125,
           126,
           127,
           128,
           129,
           130,
           131,
           132,
           133,
           134,
           135,
           136,
           137,
           138,
           139,
           140,
           141,
           142,
           143,
           144,
           145,
           146,
           147,
           148,
           149,
           150,
           151,
           152,
           153,
           154,
           155,
           156,
           157,
           158,
           159,
           160,
           161,
           162,
           163,
           164,
           165,
           166,
           167,
           168,
           169,
           170,
           171,
           172,
           173,
           174,
           175,
           176,
           177,
           178,
           179,
           180,
           181,
           182,
           183,
           184,
           185,
           186,
           187,
           188,
           189,
           190,
           191,
           192,
           193,
           194,
           195,
           196,
           197,
           198,
           199
          ],
          "colorbar": {
           "title": {
            "text": "Trial"
           },
           "x": 1,
           "xpad": 40
          },
          "colorscale": [
           [
            0,
            "rgb(247,251,255)"
           ],
           [
            0.125,
            "rgb(222,235,247)"
           ],
           [
            0.25,
            "rgb(198,219,239)"
           ],
           [
            0.375,
            "rgb(158,202,225)"
           ],
           [
            0.5,
            "rgb(107,174,214)"
           ],
           [
            0.625,
            "rgb(66,146,198)"
           ],
           [
            0.75,
            "rgb(33,113,181)"
           ],
           [
            0.875,
            "rgb(8,81,156)"
           ],
           [
            1,
            "rgb(8,48,107)"
           ]
          ],
          "line": {
           "color": "Grey",
           "width": 0.5
          },
          "showscale": true
         },
         "mode": "markers",
         "name": "Feasible Trial",
         "showlegend": false,
         "type": "scatter",
         "x": [
          "mse",
          "mae",
          "mse",
          "mse",
          "mse",
          "mse",
          "mae",
          "mse",
          "mae",
          "mse",
          "mse",
          "mae",
          "mse",
          "mae",
          "mae",
          "mse",
          "mse",
          "mae",
          "mae",
          "mse",
          "mse",
          "mae",
          "mae",
          "mse",
          "mse",
          "mse",
          "mse",
          "mae",
          "mae",
          "mse",
          "mae",
          "mae",
          "mae",
          "mae",
          "mse",
          "mse",
          "mse",
          "mse",
          "mse",
          "mse",
          "mse",
          "mse",
          "mse",
          "mae",
          "mse",
          "mse",
          "mse",
          "mae",
          "mae",
          "mse",
          "mse",
          "mae",
          "mse",
          "mae",
          "mae",
          "mae",
          "mae",
          "mse",
          "mse",
          "mse",
          "mse",
          "mse",
          "mse",
          "mae",
          "mae",
          "mae",
          "mse",
          "mae",
          "mse",
          "mae",
          "mae",
          "mae",
          "mae",
          "mae",
          "mse",
          "mae",
          "mae",
          "mse",
          "mae",
          "mae",
          "mse",
          "mae",
          "mse",
          "mae",
          "mse",
          "mae",
          "mse",
          "mae",
          "mse",
          "mse",
          "mse",
          "mae",
          "mae",
          "mae",
          "mse",
          "mse",
          "mae",
          "mae",
          "mae",
          "mae",
          "mse",
          "mae",
          "mae",
          "mae",
          "mse",
          "mae",
          "mse",
          "mae",
          "mse",
          "mae",
          "mae",
          "mae",
          "mse",
          "mse",
          "mse",
          "mae",
          "mae",
          "mae",
          "mae",
          "mae",
          "mae",
          "mse",
          "mae",
          "mse",
          "mse",
          "mae",
          "mae",
          "mae",
          "mae",
          "mae",
          "mae",
          "mse",
          "mae",
          "mae",
          "mse",
          "mae",
          "mse",
          "mse",
          "mae",
          "mae",
          "mae",
          "mae",
          "mse",
          "mse",
          "mae",
          "mae",
          "mae",
          "mae",
          "mae",
          "mse",
          "mse",
          "mae",
          "mse",
          "mse",
          "mse",
          "mae",
          "mae",
          "mae",
          "mse",
          "mae",
          "mae",
          "mse",
          "mae",
          "mae",
          "mae",
          "mse",
          "mse",
          "mse",
          "mse",
          "mse",
          "mse",
          "mse",
          "mae",
          "mse",
          "mse",
          "mse",
          "mse",
          "mae",
          "mae",
          "mae",
          "mse",
          "mse",
          "mse",
          "mae",
          "mae",
          "mse",
          "mse",
          "mae",
          "mae",
          "mae",
          "mae",
          "mae",
          "mse",
          "mae",
          "mae",
          "mae",
          "mae",
          "mae",
          "mse",
          "mse"
         ],
         "xaxis": "x",
         "y": [
          -2.3082287521521803,
          -2.758021048664968,
          -0.9776709996975494,
          -2.992133019586524,
          -2.9729744162701364,
          -3.571121149988587,
          -1.0149117576436941,
          -0.9038589045214731,
          -2.4772331547275166,
          -1.8308852594125953,
          -2.237828976561041,
          -2.170703831067944,
          -1.019004140458663,
          -2.6361637148279597,
          -2.1754313335950113,
          -1.8146189127043955,
          -2.504037158954837,
          -2.3681631232536366,
          -2.7408719339287417,
          -4.791459144490581,
          -4.814698907653348,
          -2.99861766814137,
          -1.3341140555263398,
          -2.2315884842389444,
          -2.916607354388135,
          -6.421283741299211,
          -0.3896128260330344,
          -2.0230315202550933,
          -2.212034181372854,
          -3.0132859677149475,
          -5.025141198101897,
          -2.5731346367242622,
          -0.2813504827848248,
          -0.29798421198328606,
          -1.5840205516158414,
          -0.8085336424385707,
          -2.3047371448461105,
          -2.9000811437395293,
          -2.310009477841595,
          -0.4134561277018632,
          -2.6291319893516607,
          -0.5737881892694576,
          -5.185027163891752,
          -5.261884440828483,
          -5.68855821609474,
          -4.916241527685402,
          -1.6707194306775102,
          -2.0773161400573303,
          -5.274036308547837,
          -6.187356403874742,
          -6.300657844083475,
          -5.607428566997683,
          -6.42062941151274,
          -2.3245976494119733,
          -6.343822700211952,
          -3.3238824328310344,
          -2.747939105607322,
          -2.55139762991033,
          -2.0942113382584635,
          -2.578602659500707,
          -2.4000627397102177,
          -3.504419819343667,
          -1.2248642139307016,
          -2.1692761147622597,
          -1.628569170490967,
          -0.7126174111042266,
          -1.1599234763899289,
          -1.0739045852934956,
          -5.029280504643872,
          -2.981528578287327,
          -2.6420572498206516,
          -1.0314102693220046,
          -3.6292069467675154,
          -1.8126287152074496,
          -1.8611033965350863,
          -3.367162501294729,
          -1.4733547230095492,
          -1.5857037719562892,
          -6.5240203969337305,
          -1.8258986986188752,
          -5.404661704787673,
          -3.415729585927918,
          -1.5600343822910925,
          -0.9188905670992339,
          -5.9398174082673725,
          -1.7959257171123646,
          -2.511041070637339,
          -2.7879617944459563,
          -2.9072823912127,
          -2.7938516775317432,
          -3.1347505361927697,
          -1.6753567897803023,
          -2.208102453584775,
          -0.9105755589650741,
          -4.184222454767267,
          -3.990205358461263,
          -0.9719511585526153,
          -2.4174913967900302,
          -1.2627528602385587,
          -3.4279351846933075,
          -3.8805087847048854,
          -4.219950400440811,
          -2.1263912709117996,
          -0.7331605897083454,
          -2.852833131250856,
          -4.647890066983858,
          -1.0274335474554317,
          -5.381416037026588,
          -1.4561011111269082,
          -5.417279192011546,
          -2.778455702819449,
          -6.181185789449938,
          -3.3515915912134466,
          -3.710083641566208,
          -5.975950155441114,
          -1.0613826798001469,
          -0.3922595317706647,
          -4.078123062456419,
          -4.037348540946314,
          -5.179585866912106,
          -3.008119554680834,
          -2.2961196247872016,
          -5.209303801844797,
          -4.6138590452807815,
          -0.7173637012234492,
          -2.416364593849085,
          -2.3772681243141913,
          -4.489896895179581,
          -5.691868632122054,
          -1.6751209250463908,
          -1.4264592761451989,
          -3.1982151671780583,
          -3.942169512806976,
          -4.170816912162904,
          -6.430149040201208,
          -4.500077833052151,
          -1.4648893428749648,
          -6.471122778764564,
          -3.1579210248267784,
          -3.5106870632012956,
          -2.2478646981366692,
          -5.745767841402307,
          -2.438721427148093,
          -1.9927108516601553,
          -5.142255612490548,
          -1.7599263424676965,
          -3.907666184858506,
          -1.0251154105470248,
          -4.56033368724341,
          -2.53732359617479,
          -3.9432081242224384,
          -4.221370772304575,
          -1.4983678913745255,
          -1.3860204767687865,
          -2.0975154902048017,
          -2.2877677921037605,
          -5.985372537701516,
          -1.3479389110214848,
          -6.464632329655821,
          -1.071908565055454,
          -2.0747555830304547,
          -4.676364153564176,
          -3.315170793579052,
          -3.9611971175781293,
          -2.017983807185444,
          -1.910848516398061,
          -2.9828167474219494,
          -2.7495340640581434,
          -0.369722075055892,
          -2.4164722315958986,
          -1.5562686507538774,
          -3.8128285595779814,
          -4.303030964347412,
          -2.5073338141516297,
          -2.2699722899958386,
          -2.3280821089855808,
          -2.5928808319006658,
          -1.416940262830121,
          -3.3840554622822525,
          -2.136340015662731,
          -6.3438495916334166,
          -4.88323290634343,
          -5.902734708567559,
          -1.0056676442958232,
          -2.258379316466329,
          -1.371544038812889,
          -2.6039466458735205,
          -5.0122297908327305,
          -0.5714332912125552,
          -2.9667963245327718,
          -3.0278306585123116,
          -1.907634013544159,
          -2.3104242504925407,
          -6.09112838866041,
          -1.1072975258139315,
          -0.8034578207343477,
          -2.3422625591970947,
          -3.6886158293993594,
          -3.035336744322362,
          -1.44163587519229
         ],
         "yaxis": "y"
        },
        {
         "marker": {
          "color": [
           0,
           1,
           2,
           3,
           4,
           5,
           6,
           7,
           8,
           9,
           10,
           11,
           12,
           13,
           14,
           15,
           16,
           17,
           18,
           19,
           20,
           21,
           22,
           23,
           24,
           25,
           26,
           27,
           28,
           29,
           30,
           31,
           32,
           33,
           34,
           35,
           36,
           37,
           38,
           39,
           40,
           41,
           42,
           43,
           44,
           45,
           46,
           47,
           48,
           49,
           50,
           51,
           52,
           53,
           54,
           55,
           56,
           57,
           58,
           59,
           60,
           61,
           62,
           63,
           64,
           65,
           66,
           67,
           68,
           69,
           70,
           71,
           72,
           73,
           74,
           75,
           76,
           77,
           78,
           79,
           80,
           81,
           82,
           83,
           84,
           85,
           86,
           87,
           88,
           89,
           90,
           91,
           92,
           93,
           94,
           95,
           96,
           97,
           98,
           99,
           100,
           101,
           102,
           103,
           104,
           105,
           106,
           107,
           108,
           109,
           110,
           111,
           112,
           113,
           114,
           115,
           116,
           117,
           118,
           119,
           120,
           121,
           122,
           123,
           124,
           125,
           126,
           127,
           128,
           129,
           130,
           131,
           132,
           133,
           134,
           135,
           136,
           137,
           138,
           139,
           140,
           141,
           142,
           143,
           144,
           145,
           146,
           147,
           148,
           149,
           150,
           151,
           152,
           153,
           154,
           155,
           156,
           157,
           158,
           159,
           160,
           161,
           162,
           163,
           164,
           165,
           166,
           167,
           168,
           169,
           170,
           171,
           172,
           173,
           174,
           175,
           176,
           177,
           178,
           179,
           180,
           181,
           182,
           183,
           184,
           185,
           186,
           187,
           188,
           189,
           190,
           191,
           192,
           193,
           194,
           195,
           196,
           197,
           198,
           199
          ],
          "colorbar": {
           "title": {
            "text": "Trial"
           },
           "x": 1,
           "xpad": 40
          },
          "colorscale": [
           [
            0,
            "rgb(247,251,255)"
           ],
           [
            0.125,
            "rgb(222,235,247)"
           ],
           [
            0.25,
            "rgb(198,219,239)"
           ],
           [
            0.375,
            "rgb(158,202,225)"
           ],
           [
            0.5,
            "rgb(107,174,214)"
           ],
           [
            0.625,
            "rgb(66,146,198)"
           ],
           [
            0.75,
            "rgb(33,113,181)"
           ],
           [
            0.875,
            "rgb(8,81,156)"
           ],
           [
            1,
            "rgb(8,48,107)"
           ]
          ],
          "line": {
           "color": "Grey",
           "width": 0.5
          },
          "showscale": false
         },
         "mode": "markers",
         "name": "Feasible Trial",
         "showlegend": false,
         "type": "scatter",
         "x": [
          48,
          10,
          21,
          34,
          14,
          22,
          47,
          21,
          43,
          23,
          39,
          11,
          13,
          46,
          45,
          31,
          11,
          50,
          31,
          30,
          14,
          13,
          41,
          10,
          40,
          49,
          39,
          10,
          22,
          15,
          43,
          46,
          34,
          35,
          23,
          26,
          40,
          11,
          27,
          37,
          36,
          14,
          21,
          40,
          27,
          25,
          28,
          12,
          14,
          25,
          32,
          14,
          49,
          49,
          21,
          33,
          16,
          11,
          44,
          50,
          34,
          31,
          35,
          47,
          47,
          13,
          29,
          14,
          13,
          25,
          46,
          10,
          30,
          36,
          16,
          14,
          32,
          14,
          15,
          29,
          17,
          16,
          25,
          47,
          31,
          41,
          16,
          17,
          35,
          33,
          44,
          42,
          28,
          33,
          50,
          11,
          32,
          11,
          14,
          44,
          11,
          34,
          15,
          35,
          47,
          15,
          25,
          21,
          18,
          14,
          38,
          17,
          30,
          47,
          44,
          23,
          35,
          50,
          27,
          11,
          13,
          48,
          24,
          38,
          45,
          13,
          13,
          20,
          37,
          23,
          50,
          49,
          39,
          40,
          28,
          13,
          36,
          36,
          44,
          14,
          42,
          38,
          30,
          11,
          14,
          39,
          36,
          50,
          50,
          45,
          33,
          47,
          19,
          24,
          15,
          27,
          29,
          31,
          16,
          30,
          13,
          30,
          37,
          45,
          41,
          26,
          37,
          25,
          10,
          24,
          35,
          39,
          35,
          44,
          13,
          10,
          15,
          39,
          24,
          31,
          12,
          41,
          48,
          42,
          22,
          18,
          22,
          15,
          16,
          22,
          12,
          15,
          35,
          25,
          20,
          49,
          23,
          42,
          36,
          31
         ],
         "xaxis": "x2",
         "y": [
          -2.3082287521521803,
          -2.758021048664968,
          -0.9776709996975494,
          -2.992133019586524,
          -2.9729744162701364,
          -3.571121149988587,
          -1.0149117576436941,
          -0.9038589045214731,
          -2.4772331547275166,
          -1.8308852594125953,
          -2.237828976561041,
          -2.170703831067944,
          -1.019004140458663,
          -2.6361637148279597,
          -2.1754313335950113,
          -1.8146189127043955,
          -2.504037158954837,
          -2.3681631232536366,
          -2.7408719339287417,
          -4.791459144490581,
          -4.814698907653348,
          -2.99861766814137,
          -1.3341140555263398,
          -2.2315884842389444,
          -2.916607354388135,
          -6.421283741299211,
          -0.3896128260330344,
          -2.0230315202550933,
          -2.212034181372854,
          -3.0132859677149475,
          -5.025141198101897,
          -2.5731346367242622,
          -0.2813504827848248,
          -0.29798421198328606,
          -1.5840205516158414,
          -0.8085336424385707,
          -2.3047371448461105,
          -2.9000811437395293,
          -2.310009477841595,
          -0.4134561277018632,
          -2.6291319893516607,
          -0.5737881892694576,
          -5.185027163891752,
          -5.261884440828483,
          -5.68855821609474,
          -4.916241527685402,
          -1.6707194306775102,
          -2.0773161400573303,
          -5.274036308547837,
          -6.187356403874742,
          -6.300657844083475,
          -5.607428566997683,
          -6.42062941151274,
          -2.3245976494119733,
          -6.343822700211952,
          -3.3238824328310344,
          -2.747939105607322,
          -2.55139762991033,
          -2.0942113382584635,
          -2.578602659500707,
          -2.4000627397102177,
          -3.504419819343667,
          -1.2248642139307016,
          -2.1692761147622597,
          -1.628569170490967,
          -0.7126174111042266,
          -1.1599234763899289,
          -1.0739045852934956,
          -5.029280504643872,
          -2.981528578287327,
          -2.6420572498206516,
          -1.0314102693220046,
          -3.6292069467675154,
          -1.8126287152074496,
          -1.8611033965350863,
          -3.367162501294729,
          -1.4733547230095492,
          -1.5857037719562892,
          -6.5240203969337305,
          -1.8258986986188752,
          -5.404661704787673,
          -3.415729585927918,
          -1.5600343822910925,
          -0.9188905670992339,
          -5.9398174082673725,
          -1.7959257171123646,
          -2.511041070637339,
          -2.7879617944459563,
          -2.9072823912127,
          -2.7938516775317432,
          -3.1347505361927697,
          -1.6753567897803023,
          -2.208102453584775,
          -0.9105755589650741,
          -4.184222454767267,
          -3.990205358461263,
          -0.9719511585526153,
          -2.4174913967900302,
          -1.2627528602385587,
          -3.4279351846933075,
          -3.8805087847048854,
          -4.219950400440811,
          -2.1263912709117996,
          -0.7331605897083454,
          -2.852833131250856,
          -4.647890066983858,
          -1.0274335474554317,
          -5.381416037026588,
          -1.4561011111269082,
          -5.417279192011546,
          -2.778455702819449,
          -6.181185789449938,
          -3.3515915912134466,
          -3.710083641566208,
          -5.975950155441114,
          -1.0613826798001469,
          -0.3922595317706647,
          -4.078123062456419,
          -4.037348540946314,
          -5.179585866912106,
          -3.008119554680834,
          -2.2961196247872016,
          -5.209303801844797,
          -4.6138590452807815,
          -0.7173637012234492,
          -2.416364593849085,
          -2.3772681243141913,
          -4.489896895179581,
          -5.691868632122054,
          -1.6751209250463908,
          -1.4264592761451989,
          -3.1982151671780583,
          -3.942169512806976,
          -4.170816912162904,
          -6.430149040201208,
          -4.500077833052151,
          -1.4648893428749648,
          -6.471122778764564,
          -3.1579210248267784,
          -3.5106870632012956,
          -2.2478646981366692,
          -5.745767841402307,
          -2.438721427148093,
          -1.9927108516601553,
          -5.142255612490548,
          -1.7599263424676965,
          -3.907666184858506,
          -1.0251154105470248,
          -4.56033368724341,
          -2.53732359617479,
          -3.9432081242224384,
          -4.221370772304575,
          -1.4983678913745255,
          -1.3860204767687865,
          -2.0975154902048017,
          -2.2877677921037605,
          -5.985372537701516,
          -1.3479389110214848,
          -6.464632329655821,
          -1.071908565055454,
          -2.0747555830304547,
          -4.676364153564176,
          -3.315170793579052,
          -3.9611971175781293,
          -2.017983807185444,
          -1.910848516398061,
          -2.9828167474219494,
          -2.7495340640581434,
          -0.369722075055892,
          -2.4164722315958986,
          -1.5562686507538774,
          -3.8128285595779814,
          -4.303030964347412,
          -2.5073338141516297,
          -2.2699722899958386,
          -2.3280821089855808,
          -2.5928808319006658,
          -1.416940262830121,
          -3.3840554622822525,
          -2.136340015662731,
          -6.3438495916334166,
          -4.88323290634343,
          -5.902734708567559,
          -1.0056676442958232,
          -2.258379316466329,
          -1.371544038812889,
          -2.6039466458735205,
          -5.0122297908327305,
          -0.5714332912125552,
          -2.9667963245327718,
          -3.0278306585123116,
          -1.907634013544159,
          -2.3104242504925407,
          -6.09112838866041,
          -1.1072975258139315,
          -0.8034578207343477,
          -2.3422625591970947,
          -3.6886158293993594,
          -3.035336744322362,
          -1.44163587519229
         ],
         "yaxis": "y2"
        },
        {
         "marker": {
          "color": [
           0,
           1,
           2,
           3,
           4,
           5,
           6,
           7,
           8,
           9,
           10,
           11,
           12,
           13,
           14,
           15,
           16,
           17,
           18,
           19,
           20,
           21,
           22,
           23,
           24,
           25,
           26,
           27,
           28,
           29,
           30,
           31,
           32,
           33,
           34,
           35,
           36,
           37,
           38,
           39,
           40,
           41,
           42,
           43,
           44,
           45,
           46,
           47,
           48,
           49,
           50,
           51,
           52,
           53,
           54,
           55,
           56,
           57,
           58,
           59,
           60,
           61,
           62,
           63,
           64,
           65,
           66,
           67,
           68,
           69,
           70,
           71,
           72,
           73,
           74,
           75,
           76,
           77,
           78,
           79,
           80,
           81,
           82,
           83,
           84,
           85,
           86,
           87,
           88,
           89,
           90,
           91,
           92,
           93,
           94,
           95,
           96,
           97,
           98,
           99,
           100,
           101,
           102,
           103,
           104,
           105,
           106,
           107,
           108,
           109,
           110,
           111,
           112,
           113,
           114,
           115,
           116,
           117,
           118,
           119,
           120,
           121,
           122,
           123,
           124,
           125,
           126,
           127,
           128,
           129,
           130,
           131,
           132,
           133,
           134,
           135,
           136,
           137,
           138,
           139,
           140,
           141,
           142,
           143,
           144,
           145,
           146,
           147,
           148,
           149,
           150,
           151,
           152,
           153,
           154,
           155,
           156,
           157,
           158,
           159,
           160,
           161,
           162,
           163,
           164,
           165,
           166,
           167,
           168,
           169,
           170,
           171,
           172,
           173,
           174,
           175,
           176,
           177,
           178,
           179,
           180,
           181,
           182,
           183,
           184,
           185,
           186,
           187,
           188,
           189,
           190,
           191,
           192,
           193,
           194,
           195,
           196,
           197,
           198,
           199
          ],
          "colorbar": {
           "title": {
            "text": "Trial"
           },
           "x": 1,
           "xpad": 40
          },
          "colorscale": [
           [
            0,
            "rgb(247,251,255)"
           ],
           [
            0.125,
            "rgb(222,235,247)"
           ],
           [
            0.25,
            "rgb(198,219,239)"
           ],
           [
            0.375,
            "rgb(158,202,225)"
           ],
           [
            0.5,
            "rgb(107,174,214)"
           ],
           [
            0.625,
            "rgb(66,146,198)"
           ],
           [
            0.75,
            "rgb(33,113,181)"
           ],
           [
            0.875,
            "rgb(8,81,156)"
           ],
           [
            1,
            "rgb(8,48,107)"
           ]
          ],
          "line": {
           "color": "Grey",
           "width": 0.5
          },
          "showscale": false
         },
         "mode": "markers",
         "name": "Feasible Trial",
         "showlegend": false,
         "type": "scatter",
         "x": [
          "auto",
          "auto",
          "log2",
          "log2",
          "sqrt",
          "sqrt",
          "log2",
          "log2",
          "auto",
          "sqrt",
          "auto",
          "sqrt",
          "auto",
          "auto",
          "auto",
          "auto",
          "log2",
          "auto",
          "auto",
          "sqrt",
          "log2",
          "auto",
          "sqrt",
          "auto",
          "auto",
          "sqrt",
          "log2",
          "auto",
          "auto",
          "auto",
          "log2",
          "sqrt",
          "auto",
          "log2",
          "auto",
          "log2",
          "auto",
          "auto",
          "auto",
          "auto",
          "log2",
          "auto",
          "sqrt",
          "log2",
          "sqrt",
          "log2",
          "log2",
          "auto",
          "sqrt",
          "sqrt",
          "sqrt",
          "sqrt",
          "sqrt",
          "auto",
          "sqrt",
          "auto",
          "auto",
          "sqrt",
          "auto",
          "auto",
          "auto",
          "sqrt",
          "log2",
          "auto",
          "sqrt",
          "log2",
          "auto",
          "log2",
          "log2",
          "log2",
          "log2",
          "log2",
          "sqrt",
          "auto",
          "sqrt",
          "auto",
          "auto",
          "auto",
          "sqrt",
          "log2",
          "sqrt",
          "log2",
          "auto",
          "auto",
          "sqrt",
          "log2",
          "auto",
          "log2",
          "auto",
          "sqrt",
          "auto",
          "log2",
          "log2",
          "log2",
          "sqrt",
          "sqrt",
          "sqrt",
          "auto",
          "auto",
          "log2",
          "sqrt",
          "sqrt",
          "auto",
          "sqrt",
          "log2",
          "log2",
          "sqrt",
          "sqrt",
          "auto",
          "sqrt",
          "log2",
          "sqrt",
          "auto",
          "log2",
          "sqrt",
          "log2",
          "log2",
          "log2",
          "log2",
          "log2",
          "auto",
          "auto",
          "log2",
          "log2",
          "sqrt",
          "sqrt",
          "log2",
          "log2",
          "sqrt",
          "sqrt",
          "log2",
          "log2",
          "sqrt",
          "log2",
          "sqrt",
          "sqrt",
          "auto",
          "sqrt",
          "log2",
          "log2",
          "log2",
          "sqrt",
          "auto",
          "log2",
          "sqrt",
          "log2",
          "log2",
          "auto",
          "sqrt",
          "auto",
          "log2",
          "sqrt",
          "auto",
          "sqrt",
          "auto",
          "auto",
          "sqrt",
          "log2",
          "sqrt",
          "log2",
          "auto",
          "log2",
          "log2",
          "sqrt",
          "auto",
          "auto",
          "sqrt",
          "log2",
          "sqrt",
          "log2",
          "auto",
          "sqrt",
          "sqrt",
          "sqrt",
          "log2",
          "auto",
          "sqrt",
          "log2",
          "sqrt",
          "sqrt",
          "sqrt",
          "sqrt",
          "sqrt",
          "log2",
          "log2",
          "log2",
          "sqrt",
          "log2",
          "log2",
          "sqrt",
          "sqrt",
          "sqrt",
          "auto",
          "sqrt",
          "auto",
          "log2",
          "log2",
          "log2",
          "auto",
          "sqrt"
         ],
         "xaxis": "x3",
         "y": [
          -2.3082287521521803,
          -2.758021048664968,
          -0.9776709996975494,
          -2.992133019586524,
          -2.9729744162701364,
          -3.571121149988587,
          -1.0149117576436941,
          -0.9038589045214731,
          -2.4772331547275166,
          -1.8308852594125953,
          -2.237828976561041,
          -2.170703831067944,
          -1.019004140458663,
          -2.6361637148279597,
          -2.1754313335950113,
          -1.8146189127043955,
          -2.504037158954837,
          -2.3681631232536366,
          -2.7408719339287417,
          -4.791459144490581,
          -4.814698907653348,
          -2.99861766814137,
          -1.3341140555263398,
          -2.2315884842389444,
          -2.916607354388135,
          -6.421283741299211,
          -0.3896128260330344,
          -2.0230315202550933,
          -2.212034181372854,
          -3.0132859677149475,
          -5.025141198101897,
          -2.5731346367242622,
          -0.2813504827848248,
          -0.29798421198328606,
          -1.5840205516158414,
          -0.8085336424385707,
          -2.3047371448461105,
          -2.9000811437395293,
          -2.310009477841595,
          -0.4134561277018632,
          -2.6291319893516607,
          -0.5737881892694576,
          -5.185027163891752,
          -5.261884440828483,
          -5.68855821609474,
          -4.916241527685402,
          -1.6707194306775102,
          -2.0773161400573303,
          -5.274036308547837,
          -6.187356403874742,
          -6.300657844083475,
          -5.607428566997683,
          -6.42062941151274,
          -2.3245976494119733,
          -6.343822700211952,
          -3.3238824328310344,
          -2.747939105607322,
          -2.55139762991033,
          -2.0942113382584635,
          -2.578602659500707,
          -2.4000627397102177,
          -3.504419819343667,
          -1.2248642139307016,
          -2.1692761147622597,
          -1.628569170490967,
          -0.7126174111042266,
          -1.1599234763899289,
          -1.0739045852934956,
          -5.029280504643872,
          -2.981528578287327,
          -2.6420572498206516,
          -1.0314102693220046,
          -3.6292069467675154,
          -1.8126287152074496,
          -1.8611033965350863,
          -3.367162501294729,
          -1.4733547230095492,
          -1.5857037719562892,
          -6.5240203969337305,
          -1.8258986986188752,
          -5.404661704787673,
          -3.415729585927918,
          -1.5600343822910925,
          -0.9188905670992339,
          -5.9398174082673725,
          -1.7959257171123646,
          -2.511041070637339,
          -2.7879617944459563,
          -2.9072823912127,
          -2.7938516775317432,
          -3.1347505361927697,
          -1.6753567897803023,
          -2.208102453584775,
          -0.9105755589650741,
          -4.184222454767267,
          -3.990205358461263,
          -0.9719511585526153,
          -2.4174913967900302,
          -1.2627528602385587,
          -3.4279351846933075,
          -3.8805087847048854,
          -4.219950400440811,
          -2.1263912709117996,
          -0.7331605897083454,
          -2.852833131250856,
          -4.647890066983858,
          -1.0274335474554317,
          -5.381416037026588,
          -1.4561011111269082,
          -5.417279192011546,
          -2.778455702819449,
          -6.181185789449938,
          -3.3515915912134466,
          -3.710083641566208,
          -5.975950155441114,
          -1.0613826798001469,
          -0.3922595317706647,
          -4.078123062456419,
          -4.037348540946314,
          -5.179585866912106,
          -3.008119554680834,
          -2.2961196247872016,
          -5.209303801844797,
          -4.6138590452807815,
          -0.7173637012234492,
          -2.416364593849085,
          -2.3772681243141913,
          -4.489896895179581,
          -5.691868632122054,
          -1.6751209250463908,
          -1.4264592761451989,
          -3.1982151671780583,
          -3.942169512806976,
          -4.170816912162904,
          -6.430149040201208,
          -4.500077833052151,
          -1.4648893428749648,
          -6.471122778764564,
          -3.1579210248267784,
          -3.5106870632012956,
          -2.2478646981366692,
          -5.745767841402307,
          -2.438721427148093,
          -1.9927108516601553,
          -5.142255612490548,
          -1.7599263424676965,
          -3.907666184858506,
          -1.0251154105470248,
          -4.56033368724341,
          -2.53732359617479,
          -3.9432081242224384,
          -4.221370772304575,
          -1.4983678913745255,
          -1.3860204767687865,
          -2.0975154902048017,
          -2.2877677921037605,
          -5.985372537701516,
          -1.3479389110214848,
          -6.464632329655821,
          -1.071908565055454,
          -2.0747555830304547,
          -4.676364153564176,
          -3.315170793579052,
          -3.9611971175781293,
          -2.017983807185444,
          -1.910848516398061,
          -2.9828167474219494,
          -2.7495340640581434,
          -0.369722075055892,
          -2.4164722315958986,
          -1.5562686507538774,
          -3.8128285595779814,
          -4.303030964347412,
          -2.5073338141516297,
          -2.2699722899958386,
          -2.3280821089855808,
          -2.5928808319006658,
          -1.416940262830121,
          -3.3840554622822525,
          -2.136340015662731,
          -6.3438495916334166,
          -4.88323290634343,
          -5.902734708567559,
          -1.0056676442958232,
          -2.258379316466329,
          -1.371544038812889,
          -2.6039466458735205,
          -5.0122297908327305,
          -0.5714332912125552,
          -2.9667963245327718,
          -3.0278306585123116,
          -1.907634013544159,
          -2.3104242504925407,
          -6.09112838866041,
          -1.1072975258139315,
          -0.8034578207343477,
          -2.3422625591970947,
          -3.6886158293993594,
          -3.035336744322362,
          -1.44163587519229
         ],
         "yaxis": "y3"
        },
        {
         "marker": {
          "color": [
           0,
           1,
           2,
           3,
           4,
           5,
           6,
           7,
           8,
           9,
           10,
           11,
           12,
           13,
           14,
           15,
           16,
           17,
           18,
           19,
           20,
           21,
           22,
           23,
           24,
           25,
           26,
           27,
           28,
           29,
           30,
           31,
           32,
           33,
           34,
           35,
           36,
           37,
           38,
           39,
           40,
           41,
           42,
           43,
           44,
           45,
           46,
           47,
           48,
           49,
           50,
           51,
           52,
           53,
           54,
           55,
           56,
           57,
           58,
           59,
           60,
           61,
           62,
           63,
           64,
           65,
           66,
           67,
           68,
           69,
           70,
           71,
           72,
           73,
           74,
           75,
           76,
           77,
           78,
           79,
           80,
           81,
           82,
           83,
           84,
           85,
           86,
           87,
           88,
           89,
           90,
           91,
           92,
           93,
           94,
           95,
           96,
           97,
           98,
           99,
           100,
           101,
           102,
           103,
           104,
           105,
           106,
           107,
           108,
           109,
           110,
           111,
           112,
           113,
           114,
           115,
           116,
           117,
           118,
           119,
           120,
           121,
           122,
           123,
           124,
           125,
           126,
           127,
           128,
           129,
           130,
           131,
           132,
           133,
           134,
           135,
           136,
           137,
           138,
           139,
           140,
           141,
           142,
           143,
           144,
           145,
           146,
           147,
           148,
           149,
           150,
           151,
           152,
           153,
           154,
           155,
           156,
           157,
           158,
           159,
           160,
           161,
           162,
           163,
           164,
           165,
           166,
           167,
           168,
           169,
           170,
           171,
           172,
           173,
           174,
           175,
           176,
           177,
           178,
           179,
           180,
           181,
           182,
           183,
           184,
           185,
           186,
           187,
           188,
           189,
           190,
           191,
           192,
           193,
           194,
           195,
           196,
           197,
           198,
           199
          ],
          "colorbar": {
           "title": {
            "text": "Trial"
           },
           "x": 1,
           "xpad": 40
          },
          "colorscale": [
           [
            0,
            "rgb(247,251,255)"
           ],
           [
            0.125,
            "rgb(222,235,247)"
           ],
           [
            0.25,
            "rgb(198,219,239)"
           ],
           [
            0.375,
            "rgb(158,202,225)"
           ],
           [
            0.5,
            "rgb(107,174,214)"
           ],
           [
            0.625,
            "rgb(66,146,198)"
           ],
           [
            0.75,
            "rgb(33,113,181)"
           ],
           [
            0.875,
            "rgb(8,81,156)"
           ],
           [
            1,
            "rgb(8,48,107)"
           ]
          ],
          "line": {
           "color": "Grey",
           "width": 0.5
          },
          "showscale": false
         },
         "mode": "markers",
         "name": "Feasible Trial",
         "showlegend": false,
         "type": "scatter",
         "x": [
          20,
          27,
          5,
          20,
          15,
          18,
          7,
          5,
          24,
          10,
          18,
          11,
          6,
          26,
          17,
          12,
          17,
          22,
          27,
          21,
          29,
          29,
          3,
          18,
          28,
          29,
          1,
          14,
          18,
          29,
          30,
          13,
          2,
          2,
          9,
          6,
          20,
          28,
          20,
          3,
          18,
          4,
          23,
          32,
          25,
          29,
          11,
          15,
          23,
          27,
          30,
          24,
          32,
          21,
          29,
          32,
          27,
          13,
          15,
          25,
          22,
          18,
          7,
          17,
          9,
          5,
          6,
          7,
          30,
          20,
          18,
          7,
          18,
          12,
          10,
          32,
          9,
          10,
          32,
          12,
          24,
          22,
          10,
          4,
          26,
          11,
          24,
          19,
          28,
          14,
          30,
          11,
          15,
          1,
          20,
          19,
          6,
          23,
          6,
          22,
          19,
          20,
          16,
          5,
          19,
          28,
          2,
          24,
          9,
          24,
          19,
          28,
          32,
          23,
          27,
          3,
          1,
          25,
          24,
          32,
          29,
          20,
          32,
          27,
          5,
          12,
          16,
          26,
          25,
          6,
          9,
          21,
          19,
          25,
          32,
          21,
          9,
          28,
          21,
          22,
          15,
          25,
          23,
          13,
          23,
          11,
          24,
          6,
          21,
          24,
          24,
          20,
          6,
          6,
          15,
          20,
          26,
          2,
          31,
          5,
          15,
          28,
          21,
          19,
          14,
          13,
          15,
          19,
          1,
          16,
          9,
          19,
          20,
          12,
          15,
          20,
          13,
          9,
          17,
          11,
          31,
          22,
          27,
          2,
          15,
          4,
          13,
          30,
          3,
          15,
          15,
          10,
          20,
          27,
          5,
          4,
          16,
          23,
          29,
          2
         ],
         "xaxis": "x4",
         "y": [
          -2.3082287521521803,
          -2.758021048664968,
          -0.9776709996975494,
          -2.992133019586524,
          -2.9729744162701364,
          -3.571121149988587,
          -1.0149117576436941,
          -0.9038589045214731,
          -2.4772331547275166,
          -1.8308852594125953,
          -2.237828976561041,
          -2.170703831067944,
          -1.019004140458663,
          -2.6361637148279597,
          -2.1754313335950113,
          -1.8146189127043955,
          -2.504037158954837,
          -2.3681631232536366,
          -2.7408719339287417,
          -4.791459144490581,
          -4.814698907653348,
          -2.99861766814137,
          -1.3341140555263398,
          -2.2315884842389444,
          -2.916607354388135,
          -6.421283741299211,
          -0.3896128260330344,
          -2.0230315202550933,
          -2.212034181372854,
          -3.0132859677149475,
          -5.025141198101897,
          -2.5731346367242622,
          -0.2813504827848248,
          -0.29798421198328606,
          -1.5840205516158414,
          -0.8085336424385707,
          -2.3047371448461105,
          -2.9000811437395293,
          -2.310009477841595,
          -0.4134561277018632,
          -2.6291319893516607,
          -0.5737881892694576,
          -5.185027163891752,
          -5.261884440828483,
          -5.68855821609474,
          -4.916241527685402,
          -1.6707194306775102,
          -2.0773161400573303,
          -5.274036308547837,
          -6.187356403874742,
          -6.300657844083475,
          -5.607428566997683,
          -6.42062941151274,
          -2.3245976494119733,
          -6.343822700211952,
          -3.3238824328310344,
          -2.747939105607322,
          -2.55139762991033,
          -2.0942113382584635,
          -2.578602659500707,
          -2.4000627397102177,
          -3.504419819343667,
          -1.2248642139307016,
          -2.1692761147622597,
          -1.628569170490967,
          -0.7126174111042266,
          -1.1599234763899289,
          -1.0739045852934956,
          -5.029280504643872,
          -2.981528578287327,
          -2.6420572498206516,
          -1.0314102693220046,
          -3.6292069467675154,
          -1.8126287152074496,
          -1.8611033965350863,
          -3.367162501294729,
          -1.4733547230095492,
          -1.5857037719562892,
          -6.5240203969337305,
          -1.8258986986188752,
          -5.404661704787673,
          -3.415729585927918,
          -1.5600343822910925,
          -0.9188905670992339,
          -5.9398174082673725,
          -1.7959257171123646,
          -2.511041070637339,
          -2.7879617944459563,
          -2.9072823912127,
          -2.7938516775317432,
          -3.1347505361927697,
          -1.6753567897803023,
          -2.208102453584775,
          -0.9105755589650741,
          -4.184222454767267,
          -3.990205358461263,
          -0.9719511585526153,
          -2.4174913967900302,
          -1.2627528602385587,
          -3.4279351846933075,
          -3.8805087847048854,
          -4.219950400440811,
          -2.1263912709117996,
          -0.7331605897083454,
          -2.852833131250856,
          -4.647890066983858,
          -1.0274335474554317,
          -5.381416037026588,
          -1.4561011111269082,
          -5.417279192011546,
          -2.778455702819449,
          -6.181185789449938,
          -3.3515915912134466,
          -3.710083641566208,
          -5.975950155441114,
          -1.0613826798001469,
          -0.3922595317706647,
          -4.078123062456419,
          -4.037348540946314,
          -5.179585866912106,
          -3.008119554680834,
          -2.2961196247872016,
          -5.209303801844797,
          -4.6138590452807815,
          -0.7173637012234492,
          -2.416364593849085,
          -2.3772681243141913,
          -4.489896895179581,
          -5.691868632122054,
          -1.6751209250463908,
          -1.4264592761451989,
          -3.1982151671780583,
          -3.942169512806976,
          -4.170816912162904,
          -6.430149040201208,
          -4.500077833052151,
          -1.4648893428749648,
          -6.471122778764564,
          -3.1579210248267784,
          -3.5106870632012956,
          -2.2478646981366692,
          -5.745767841402307,
          -2.438721427148093,
          -1.9927108516601553,
          -5.142255612490548,
          -1.7599263424676965,
          -3.907666184858506,
          -1.0251154105470248,
          -4.56033368724341,
          -2.53732359617479,
          -3.9432081242224384,
          -4.221370772304575,
          -1.4983678913745255,
          -1.3860204767687865,
          -2.0975154902048017,
          -2.2877677921037605,
          -5.985372537701516,
          -1.3479389110214848,
          -6.464632329655821,
          -1.071908565055454,
          -2.0747555830304547,
          -4.676364153564176,
          -3.315170793579052,
          -3.9611971175781293,
          -2.017983807185444,
          -1.910848516398061,
          -2.9828167474219494,
          -2.7495340640581434,
          -0.369722075055892,
          -2.4164722315958986,
          -1.5562686507538774,
          -3.8128285595779814,
          -4.303030964347412,
          -2.5073338141516297,
          -2.2699722899958386,
          -2.3280821089855808,
          -2.5928808319006658,
          -1.416940262830121,
          -3.3840554622822525,
          -2.136340015662731,
          -6.3438495916334166,
          -4.88323290634343,
          -5.902734708567559,
          -1.0056676442958232,
          -2.258379316466329,
          -1.371544038812889,
          -2.6039466458735205,
          -5.0122297908327305,
          -0.5714332912125552,
          -2.9667963245327718,
          -3.0278306585123116,
          -1.907634013544159,
          -2.3104242504925407,
          -6.09112838866041,
          -1.1072975258139315,
          -0.8034578207343477,
          -2.3422625591970947,
          -3.6886158293993594,
          -3.035336744322362,
          -1.44163587519229
         ],
         "yaxis": "y4"
        },
        {
         "marker": {
          "color": [
           0,
           1,
           2,
           3,
           4,
           5,
           6,
           7,
           8,
           9,
           10,
           11,
           12,
           13,
           14,
           15,
           16,
           17,
           18,
           19,
           20,
           21,
           22,
           23,
           24,
           25,
           26,
           27,
           28,
           29,
           30,
           31,
           32,
           33,
           34,
           35,
           36,
           37,
           38,
           39,
           40,
           41,
           42,
           43,
           44,
           45,
           46,
           47,
           48,
           49,
           50,
           51,
           52,
           53,
           54,
           55,
           56,
           57,
           58,
           59,
           60,
           61,
           62,
           63,
           64,
           65,
           66,
           67,
           68,
           69,
           70,
           71,
           72,
           73,
           74,
           75,
           76,
           77,
           78,
           79,
           80,
           81,
           82,
           83,
           84,
           85,
           86,
           87,
           88,
           89,
           90,
           91,
           92,
           93,
           94,
           95,
           96,
           97,
           98,
           99,
           100,
           101,
           102,
           103,
           104,
           105,
           106,
           107,
           108,
           109,
           110,
           111,
           112,
           113,
           114,
           115,
           116,
           117,
           118,
           119,
           120,
           121,
           122,
           123,
           124,
           125,
           126,
           127,
           128,
           129,
           130,
           131,
           132,
           133,
           134,
           135,
           136,
           137,
           138,
           139,
           140,
           141,
           142,
           143,
           144,
           145,
           146,
           147,
           148,
           149,
           150,
           151,
           152,
           153,
           154,
           155,
           156,
           157,
           158,
           159,
           160,
           161,
           162,
           163,
           164,
           165,
           166,
           167,
           168,
           169,
           170,
           171,
           172,
           173,
           174,
           175,
           176,
           177,
           178,
           179,
           180,
           181,
           182,
           183,
           184,
           185,
           186,
           187,
           188,
           189,
           190,
           191,
           192,
           193,
           194,
           195,
           196,
           197,
           198,
           199
          ],
          "colorbar": {
           "title": {
            "text": "Trial"
           },
           "x": 1,
           "xpad": 40
          },
          "colorscale": [
           [
            0,
            "rgb(247,251,255)"
           ],
           [
            0.125,
            "rgb(222,235,247)"
           ],
           [
            0.25,
            "rgb(198,219,239)"
           ],
           [
            0.375,
            "rgb(158,202,225)"
           ],
           [
            0.5,
            "rgb(107,174,214)"
           ],
           [
            0.625,
            "rgb(66,146,198)"
           ],
           [
            0.75,
            "rgb(33,113,181)"
           ],
           [
            0.875,
            "rgb(8,81,156)"
           ],
           [
            1,
            "rgb(8,48,107)"
           ]
          ],
          "line": {
           "color": "Grey",
           "width": 0.5
          },
          "showscale": false
         },
         "mode": "markers",
         "name": "Feasible Trial",
         "showlegend": false,
         "type": "scatter",
         "x": [
          24,
          32,
          20,
          3,
          23,
          18,
          4,
          18,
          23,
          3,
          25,
          21,
          10,
          18,
          2,
          23,
          20,
          9,
          4,
          9,
          30,
          29,
          21,
          6,
          22,
          14,
          10,
          30,
          7,
          18,
          28,
          12,
          2,
          4,
          26,
          7,
          19,
          3,
          14,
          7,
          16,
          2,
          5,
          27,
          25,
          2,
          11,
          19,
          4,
          13,
          15,
          22,
          2,
          18,
          31,
          4,
          30,
          2,
          27,
          19,
          9,
          28,
          23,
          12,
          17,
          5,
          22,
          16,
          29,
          17,
          17,
          11,
          4,
          19,
          7,
          14,
          19,
          20,
          3,
          14,
          4,
          27,
          16,
          21,
          29,
          29,
          9,
          30,
          2,
          20,
          5,
          2,
          8,
          21,
          17,
          16,
          6,
          6,
          26,
          14,
          7,
          10,
          28,
          9,
          5,
          29,
          18,
          13,
          2,
          4,
          10,
          18,
          8,
          3,
          11,
          24,
          9,
          12,
          15,
          2,
          14,
          22,
          3,
          6,
          10,
          14,
          28,
          29,
          21,
          25,
          21,
          12,
          4,
          6,
          10,
          23,
          14,
          13,
          25,
          5,
          11,
          28,
          21,
          4,
          21,
          26,
          18,
          12,
          32,
          24,
          15,
          8,
          32,
          20,
          32,
          9,
          28,
          31,
          32,
          22,
          22,
          21,
          14,
          26,
          26,
          23,
          21,
          14,
          8,
          5,
          24,
          5,
          31,
          29,
          21,
          21,
          23,
          19,
          4,
          12,
          19,
          12,
          18,
          23,
          14,
          30,
          4,
          28,
          13,
          17,
          26,
          5,
          11,
          14,
          25,
          17,
          24,
          11,
          22,
          23
         ],
         "xaxis": "x5",
         "y": [
          -2.3082287521521803,
          -2.758021048664968,
          -0.9776709996975494,
          -2.992133019586524,
          -2.9729744162701364,
          -3.571121149988587,
          -1.0149117576436941,
          -0.9038589045214731,
          -2.4772331547275166,
          -1.8308852594125953,
          -2.237828976561041,
          -2.170703831067944,
          -1.019004140458663,
          -2.6361637148279597,
          -2.1754313335950113,
          -1.8146189127043955,
          -2.504037158954837,
          -2.3681631232536366,
          -2.7408719339287417,
          -4.791459144490581,
          -4.814698907653348,
          -2.99861766814137,
          -1.3341140555263398,
          -2.2315884842389444,
          -2.916607354388135,
          -6.421283741299211,
          -0.3896128260330344,
          -2.0230315202550933,
          -2.212034181372854,
          -3.0132859677149475,
          -5.025141198101897,
          -2.5731346367242622,
          -0.2813504827848248,
          -0.29798421198328606,
          -1.5840205516158414,
          -0.8085336424385707,
          -2.3047371448461105,
          -2.9000811437395293,
          -2.310009477841595,
          -0.4134561277018632,
          -2.6291319893516607,
          -0.5737881892694576,
          -5.185027163891752,
          -5.261884440828483,
          -5.68855821609474,
          -4.916241527685402,
          -1.6707194306775102,
          -2.0773161400573303,
          -5.274036308547837,
          -6.187356403874742,
          -6.300657844083475,
          -5.607428566997683,
          -6.42062941151274,
          -2.3245976494119733,
          -6.343822700211952,
          -3.3238824328310344,
          -2.747939105607322,
          -2.55139762991033,
          -2.0942113382584635,
          -2.578602659500707,
          -2.4000627397102177,
          -3.504419819343667,
          -1.2248642139307016,
          -2.1692761147622597,
          -1.628569170490967,
          -0.7126174111042266,
          -1.1599234763899289,
          -1.0739045852934956,
          -5.029280504643872,
          -2.981528578287327,
          -2.6420572498206516,
          -1.0314102693220046,
          -3.6292069467675154,
          -1.8126287152074496,
          -1.8611033965350863,
          -3.367162501294729,
          -1.4733547230095492,
          -1.5857037719562892,
          -6.5240203969337305,
          -1.8258986986188752,
          -5.404661704787673,
          -3.415729585927918,
          -1.5600343822910925,
          -0.9188905670992339,
          -5.9398174082673725,
          -1.7959257171123646,
          -2.511041070637339,
          -2.7879617944459563,
          -2.9072823912127,
          -2.7938516775317432,
          -3.1347505361927697,
          -1.6753567897803023,
          -2.208102453584775,
          -0.9105755589650741,
          -4.184222454767267,
          -3.990205358461263,
          -0.9719511585526153,
          -2.4174913967900302,
          -1.2627528602385587,
          -3.4279351846933075,
          -3.8805087847048854,
          -4.219950400440811,
          -2.1263912709117996,
          -0.7331605897083454,
          -2.852833131250856,
          -4.647890066983858,
          -1.0274335474554317,
          -5.381416037026588,
          -1.4561011111269082,
          -5.417279192011546,
          -2.778455702819449,
          -6.181185789449938,
          -3.3515915912134466,
          -3.710083641566208,
          -5.975950155441114,
          -1.0613826798001469,
          -0.3922595317706647,
          -4.078123062456419,
          -4.037348540946314,
          -5.179585866912106,
          -3.008119554680834,
          -2.2961196247872016,
          -5.209303801844797,
          -4.6138590452807815,
          -0.7173637012234492,
          -2.416364593849085,
          -2.3772681243141913,
          -4.489896895179581,
          -5.691868632122054,
          -1.6751209250463908,
          -1.4264592761451989,
          -3.1982151671780583,
          -3.942169512806976,
          -4.170816912162904,
          -6.430149040201208,
          -4.500077833052151,
          -1.4648893428749648,
          -6.471122778764564,
          -3.1579210248267784,
          -3.5106870632012956,
          -2.2478646981366692,
          -5.745767841402307,
          -2.438721427148093,
          -1.9927108516601553,
          -5.142255612490548,
          -1.7599263424676965,
          -3.907666184858506,
          -1.0251154105470248,
          -4.56033368724341,
          -2.53732359617479,
          -3.9432081242224384,
          -4.221370772304575,
          -1.4983678913745255,
          -1.3860204767687865,
          -2.0975154902048017,
          -2.2877677921037605,
          -5.985372537701516,
          -1.3479389110214848,
          -6.464632329655821,
          -1.071908565055454,
          -2.0747555830304547,
          -4.676364153564176,
          -3.315170793579052,
          -3.9611971175781293,
          -2.017983807185444,
          -1.910848516398061,
          -2.9828167474219494,
          -2.7495340640581434,
          -0.369722075055892,
          -2.4164722315958986,
          -1.5562686507538774,
          -3.8128285595779814,
          -4.303030964347412,
          -2.5073338141516297,
          -2.2699722899958386,
          -2.3280821089855808,
          -2.5928808319006658,
          -1.416940262830121,
          -3.3840554622822525,
          -2.136340015662731,
          -6.3438495916334166,
          -4.88323290634343,
          -5.902734708567559,
          -1.0056676442958232,
          -2.258379316466329,
          -1.371544038812889,
          -2.6039466458735205,
          -5.0122297908327305,
          -0.5714332912125552,
          -2.9667963245327718,
          -3.0278306585123116,
          -1.907634013544159,
          -2.3104242504925407,
          -6.09112838866041,
          -1.1072975258139315,
          -0.8034578207343477,
          -2.3422625591970947,
          -3.6886158293993594,
          -3.035336744322362,
          -1.44163587519229
         ],
         "yaxis": "y5"
        },
        {
         "marker": {
          "color": [
           0,
           1,
           2,
           3,
           4,
           5,
           6,
           7,
           8,
           9,
           10,
           11,
           12,
           13,
           14,
           15,
           16,
           17,
           18,
           19,
           20,
           21,
           22,
           23,
           24,
           25,
           26,
           27,
           28,
           29,
           30,
           31,
           32,
           33,
           34,
           35,
           36,
           37,
           38,
           39,
           40,
           41,
           42,
           43,
           44,
           45,
           46,
           47,
           48,
           49,
           50,
           51,
           52,
           53,
           54,
           55,
           56,
           57,
           58,
           59,
           60,
           61,
           62,
           63,
           64,
           65,
           66,
           67,
           68,
           69,
           70,
           71,
           72,
           73,
           74,
           75,
           76,
           77,
           78,
           79,
           80,
           81,
           82,
           83,
           84,
           85,
           86,
           87,
           88,
           89,
           90,
           91,
           92,
           93,
           94,
           95,
           96,
           97,
           98,
           99,
           100,
           101,
           102,
           103,
           104,
           105,
           106,
           107,
           108,
           109,
           110,
           111,
           112,
           113,
           114,
           115,
           116,
           117,
           118,
           119,
           120,
           121,
           122,
           123,
           124,
           125,
           126,
           127,
           128,
           129,
           130,
           131,
           132,
           133,
           134,
           135,
           136,
           137,
           138,
           139,
           140,
           141,
           142,
           143,
           144,
           145,
           146,
           147,
           148,
           149,
           150,
           151,
           152,
           153,
           154,
           155,
           156,
           157,
           158,
           159,
           160,
           161,
           162,
           163,
           164,
           165,
           166,
           167,
           168,
           169,
           170,
           171,
           172,
           173,
           174,
           175,
           176,
           177,
           178,
           179,
           180,
           181,
           182,
           183,
           184,
           185,
           186,
           187,
           188,
           189,
           190,
           191,
           192,
           193,
           194,
           195,
           196,
           197,
           198,
           199
          ],
          "colorbar": {
           "title": {
            "text": "Trial"
           },
           "x": 1,
           "xpad": 40
          },
          "colorscale": [
           [
            0,
            "rgb(247,251,255)"
           ],
           [
            0.125,
            "rgb(222,235,247)"
           ],
           [
            0.25,
            "rgb(198,219,239)"
           ],
           [
            0.375,
            "rgb(158,202,225)"
           ],
           [
            0.5,
            "rgb(107,174,214)"
           ],
           [
            0.625,
            "rgb(66,146,198)"
           ],
           [
            0.75,
            "rgb(33,113,181)"
           ],
           [
            0.875,
            "rgb(8,81,156)"
           ],
           [
            1,
            "rgb(8,48,107)"
           ]
          ],
          "line": {
           "color": "Grey",
           "width": 0.5
          },
          "showscale": false
         },
         "mode": "markers",
         "name": "Feasible Trial",
         "showlegend": false,
         "type": "scatter",
         "x": [
          437,
          737,
          489,
          563,
          374,
          696,
          638,
          421,
          104,
          661,
          207,
          197,
          306,
          268,
          837,
          391,
          356,
          540,
          670,
          114,
          407,
          317,
          899,
          697,
          393,
          319,
          275,
          433,
          866,
          992,
          829,
          817,
          358,
          294,
          565,
          727,
          960,
          204,
          256,
          871,
          449,
          162,
          833,
          259,
          873,
          906,
          669,
          545,
          657,
          988,
          800,
          207,
          301,
          599,
          140,
          418,
          716,
          880,
          973,
          1000,
          959,
          795,
          780,
          494,
          232,
          316,
          908,
          179,
          665,
          288,
          742,
          439,
          811,
          427,
          321,
          985,
          937,
          318,
          403,
          636,
          945,
          247,
          495,
          589,
          658,
          613,
          818,
          411,
          555,
          237,
          987,
          402,
          764,
          426,
          176,
          271,
          461,
          468,
          117,
          870,
          287,
          442,
          788,
          588,
          116,
          109,
          477,
          450,
          760,
          794,
          820,
          501,
          324,
          611,
          876,
          727,
          898,
          819,
          792,
          310,
          808,
          308,
          802,
          783,
          182,
          596,
          715,
          609,
          728,
          216,
          655,
          587,
          371,
          972,
          715,
          298,
          478,
          128,
          794,
          533,
          342,
          362,
          228,
          415,
          250,
          884,
          507,
          297,
          305,
          516,
          881,
          633,
          261,
          563,
          796,
          846,
          698,
          151,
          137,
          564,
          973,
          715,
          294,
          466,
          827,
          430,
          643,
          407,
          960,
          941,
          380,
          573,
          139,
          470,
          701,
          186,
          989,
          193,
          304,
          686,
          519,
          505,
          994,
          844,
          598,
          867,
          811,
          841,
          459,
          489,
          236,
          315,
          833,
          275,
          117,
          822,
          235,
          960,
          515,
          764
         ],
         "xaxis": "x6",
         "y": [
          -2.3082287521521803,
          -2.758021048664968,
          -0.9776709996975494,
          -2.992133019586524,
          -2.9729744162701364,
          -3.571121149988587,
          -1.0149117576436941,
          -0.9038589045214731,
          -2.4772331547275166,
          -1.8308852594125953,
          -2.237828976561041,
          -2.170703831067944,
          -1.019004140458663,
          -2.6361637148279597,
          -2.1754313335950113,
          -1.8146189127043955,
          -2.504037158954837,
          -2.3681631232536366,
          -2.7408719339287417,
          -4.791459144490581,
          -4.814698907653348,
          -2.99861766814137,
          -1.3341140555263398,
          -2.2315884842389444,
          -2.916607354388135,
          -6.421283741299211,
          -0.3896128260330344,
          -2.0230315202550933,
          -2.212034181372854,
          -3.0132859677149475,
          -5.025141198101897,
          -2.5731346367242622,
          -0.2813504827848248,
          -0.29798421198328606,
          -1.5840205516158414,
          -0.8085336424385707,
          -2.3047371448461105,
          -2.9000811437395293,
          -2.310009477841595,
          -0.4134561277018632,
          -2.6291319893516607,
          -0.5737881892694576,
          -5.185027163891752,
          -5.261884440828483,
          -5.68855821609474,
          -4.916241527685402,
          -1.6707194306775102,
          -2.0773161400573303,
          -5.274036308547837,
          -6.187356403874742,
          -6.300657844083475,
          -5.607428566997683,
          -6.42062941151274,
          -2.3245976494119733,
          -6.343822700211952,
          -3.3238824328310344,
          -2.747939105607322,
          -2.55139762991033,
          -2.0942113382584635,
          -2.578602659500707,
          -2.4000627397102177,
          -3.504419819343667,
          -1.2248642139307016,
          -2.1692761147622597,
          -1.628569170490967,
          -0.7126174111042266,
          -1.1599234763899289,
          -1.0739045852934956,
          -5.029280504643872,
          -2.981528578287327,
          -2.6420572498206516,
          -1.0314102693220046,
          -3.6292069467675154,
          -1.8126287152074496,
          -1.8611033965350863,
          -3.367162501294729,
          -1.4733547230095492,
          -1.5857037719562892,
          -6.5240203969337305,
          -1.8258986986188752,
          -5.404661704787673,
          -3.415729585927918,
          -1.5600343822910925,
          -0.9188905670992339,
          -5.9398174082673725,
          -1.7959257171123646,
          -2.511041070637339,
          -2.7879617944459563,
          -2.9072823912127,
          -2.7938516775317432,
          -3.1347505361927697,
          -1.6753567897803023,
          -2.208102453584775,
          -0.9105755589650741,
          -4.184222454767267,
          -3.990205358461263,
          -0.9719511585526153,
          -2.4174913967900302,
          -1.2627528602385587,
          -3.4279351846933075,
          -3.8805087847048854,
          -4.219950400440811,
          -2.1263912709117996,
          -0.7331605897083454,
          -2.852833131250856,
          -4.647890066983858,
          -1.0274335474554317,
          -5.381416037026588,
          -1.4561011111269082,
          -5.417279192011546,
          -2.778455702819449,
          -6.181185789449938,
          -3.3515915912134466,
          -3.710083641566208,
          -5.975950155441114,
          -1.0613826798001469,
          -0.3922595317706647,
          -4.078123062456419,
          -4.037348540946314,
          -5.179585866912106,
          -3.008119554680834,
          -2.2961196247872016,
          -5.209303801844797,
          -4.6138590452807815,
          -0.7173637012234492,
          -2.416364593849085,
          -2.3772681243141913,
          -4.489896895179581,
          -5.691868632122054,
          -1.6751209250463908,
          -1.4264592761451989,
          -3.1982151671780583,
          -3.942169512806976,
          -4.170816912162904,
          -6.430149040201208,
          -4.500077833052151,
          -1.4648893428749648,
          -6.471122778764564,
          -3.1579210248267784,
          -3.5106870632012956,
          -2.2478646981366692,
          -5.745767841402307,
          -2.438721427148093,
          -1.9927108516601553,
          -5.142255612490548,
          -1.7599263424676965,
          -3.907666184858506,
          -1.0251154105470248,
          -4.56033368724341,
          -2.53732359617479,
          -3.9432081242224384,
          -4.221370772304575,
          -1.4983678913745255,
          -1.3860204767687865,
          -2.0975154902048017,
          -2.2877677921037605,
          -5.985372537701516,
          -1.3479389110214848,
          -6.464632329655821,
          -1.071908565055454,
          -2.0747555830304547,
          -4.676364153564176,
          -3.315170793579052,
          -3.9611971175781293,
          -2.017983807185444,
          -1.910848516398061,
          -2.9828167474219494,
          -2.7495340640581434,
          -0.369722075055892,
          -2.4164722315958986,
          -1.5562686507538774,
          -3.8128285595779814,
          -4.303030964347412,
          -2.5073338141516297,
          -2.2699722899958386,
          -2.3280821089855808,
          -2.5928808319006658,
          -1.416940262830121,
          -3.3840554622822525,
          -2.136340015662731,
          -6.3438495916334166,
          -4.88323290634343,
          -5.902734708567559,
          -1.0056676442958232,
          -2.258379316466329,
          -1.371544038812889,
          -2.6039466458735205,
          -5.0122297908327305,
          -0.5714332912125552,
          -2.9667963245327718,
          -3.0278306585123116,
          -1.907634013544159,
          -2.3104242504925407,
          -6.09112838866041,
          -1.1072975258139315,
          -0.8034578207343477,
          -2.3422625591970947,
          -3.6886158293993594,
          -3.035336744322362,
          -1.44163587519229
         ],
         "yaxis": "y6"
        }
       ],
       "layout": {
        "template": {
         "data": {
          "bar": [
           {
            "error_x": {
             "color": "#2a3f5f"
            },
            "error_y": {
             "color": "#2a3f5f"
            },
            "marker": {
             "line": {
              "color": "#E5ECF6",
              "width": 0.5
             },
             "pattern": {
              "fillmode": "overlay",
              "size": 10,
              "solidity": 0.2
             }
            },
            "type": "bar"
           }
          ],
          "barpolar": [
           {
            "marker": {
             "line": {
              "color": "#E5ECF6",
              "width": 0.5
             },
             "pattern": {
              "fillmode": "overlay",
              "size": 10,
              "solidity": 0.2
             }
            },
            "type": "barpolar"
           }
          ],
          "carpet": [
           {
            "aaxis": {
             "endlinecolor": "#2a3f5f",
             "gridcolor": "white",
             "linecolor": "white",
             "minorgridcolor": "white",
             "startlinecolor": "#2a3f5f"
            },
            "baxis": {
             "endlinecolor": "#2a3f5f",
             "gridcolor": "white",
             "linecolor": "white",
             "minorgridcolor": "white",
             "startlinecolor": "#2a3f5f"
            },
            "type": "carpet"
           }
          ],
          "choropleth": [
           {
            "colorbar": {
             "outlinewidth": 0,
             "ticks": ""
            },
            "type": "choropleth"
           }
          ],
          "contour": [
           {
            "colorbar": {
             "outlinewidth": 0,
             "ticks": ""
            },
            "colorscale": [
             [
              0,
              "#0d0887"
             ],
             [
              0.1111111111111111,
              "#46039f"
             ],
             [
              0.2222222222222222,
              "#7201a8"
             ],
             [
              0.3333333333333333,
              "#9c179e"
             ],
             [
              0.4444444444444444,
              "#bd3786"
             ],
             [
              0.5555555555555556,
              "#d8576b"
             ],
             [
              0.6666666666666666,
              "#ed7953"
             ],
             [
              0.7777777777777778,
              "#fb9f3a"
             ],
             [
              0.8888888888888888,
              "#fdca26"
             ],
             [
              1,
              "#f0f921"
             ]
            ],
            "type": "contour"
           }
          ],
          "contourcarpet": [
           {
            "colorbar": {
             "outlinewidth": 0,
             "ticks": ""
            },
            "type": "contourcarpet"
           }
          ],
          "heatmap": [
           {
            "colorbar": {
             "outlinewidth": 0,
             "ticks": ""
            },
            "colorscale": [
             [
              0,
              "#0d0887"
             ],
             [
              0.1111111111111111,
              "#46039f"
             ],
             [
              0.2222222222222222,
              "#7201a8"
             ],
             [
              0.3333333333333333,
              "#9c179e"
             ],
             [
              0.4444444444444444,
              "#bd3786"
             ],
             [
              0.5555555555555556,
              "#d8576b"
             ],
             [
              0.6666666666666666,
              "#ed7953"
             ],
             [
              0.7777777777777778,
              "#fb9f3a"
             ],
             [
              0.8888888888888888,
              "#fdca26"
             ],
             [
              1,
              "#f0f921"
             ]
            ],
            "type": "heatmap"
           }
          ],
          "heatmapgl": [
           {
            "colorbar": {
             "outlinewidth": 0,
             "ticks": ""
            },
            "colorscale": [
             [
              0,
              "#0d0887"
             ],
             [
              0.1111111111111111,
              "#46039f"
             ],
             [
              0.2222222222222222,
              "#7201a8"
             ],
             [
              0.3333333333333333,
              "#9c179e"
             ],
             [
              0.4444444444444444,
              "#bd3786"
             ],
             [
              0.5555555555555556,
              "#d8576b"
             ],
             [
              0.6666666666666666,
              "#ed7953"
             ],
             [
              0.7777777777777778,
              "#fb9f3a"
             ],
             [
              0.8888888888888888,
              "#fdca26"
             ],
             [
              1,
              "#f0f921"
             ]
            ],
            "type": "heatmapgl"
           }
          ],
          "histogram": [
           {
            "marker": {
             "pattern": {
              "fillmode": "overlay",
              "size": 10,
              "solidity": 0.2
             }
            },
            "type": "histogram"
           }
          ],
          "histogram2d": [
           {
            "colorbar": {
             "outlinewidth": 0,
             "ticks": ""
            },
            "colorscale": [
             [
              0,
              "#0d0887"
             ],
             [
              0.1111111111111111,
              "#46039f"
             ],
             [
              0.2222222222222222,
              "#7201a8"
             ],
             [
              0.3333333333333333,
              "#9c179e"
             ],
             [
              0.4444444444444444,
              "#bd3786"
             ],
             [
              0.5555555555555556,
              "#d8576b"
             ],
             [
              0.6666666666666666,
              "#ed7953"
             ],
             [
              0.7777777777777778,
              "#fb9f3a"
             ],
             [
              0.8888888888888888,
              "#fdca26"
             ],
             [
              1,
              "#f0f921"
             ]
            ],
            "type": "histogram2d"
           }
          ],
          "histogram2dcontour": [
           {
            "colorbar": {
             "outlinewidth": 0,
             "ticks": ""
            },
            "colorscale": [
             [
              0,
              "#0d0887"
             ],
             [
              0.1111111111111111,
              "#46039f"
             ],
             [
              0.2222222222222222,
              "#7201a8"
             ],
             [
              0.3333333333333333,
              "#9c179e"
             ],
             [
              0.4444444444444444,
              "#bd3786"
             ],
             [
              0.5555555555555556,
              "#d8576b"
             ],
             [
              0.6666666666666666,
              "#ed7953"
             ],
             [
              0.7777777777777778,
              "#fb9f3a"
             ],
             [
              0.8888888888888888,
              "#fdca26"
             ],
             [
              1,
              "#f0f921"
             ]
            ],
            "type": "histogram2dcontour"
           }
          ],
          "mesh3d": [
           {
            "colorbar": {
             "outlinewidth": 0,
             "ticks": ""
            },
            "type": "mesh3d"
           }
          ],
          "parcoords": [
           {
            "line": {
             "colorbar": {
              "outlinewidth": 0,
              "ticks": ""
             }
            },
            "type": "parcoords"
           }
          ],
          "pie": [
           {
            "automargin": true,
            "type": "pie"
           }
          ],
          "scatter": [
           {
            "fillpattern": {
             "fillmode": "overlay",
             "size": 10,
             "solidity": 0.2
            },
            "type": "scatter"
           }
          ],
          "scatter3d": [
           {
            "line": {
             "colorbar": {
              "outlinewidth": 0,
              "ticks": ""
             }
            },
            "marker": {
             "colorbar": {
              "outlinewidth": 0,
              "ticks": ""
             }
            },
            "type": "scatter3d"
           }
          ],
          "scattercarpet": [
           {
            "marker": {
             "colorbar": {
              "outlinewidth": 0,
              "ticks": ""
             }
            },
            "type": "scattercarpet"
           }
          ],
          "scattergeo": [
           {
            "marker": {
             "colorbar": {
              "outlinewidth": 0,
              "ticks": ""
             }
            },
            "type": "scattergeo"
           }
          ],
          "scattergl": [
           {
            "marker": {
             "colorbar": {
              "outlinewidth": 0,
              "ticks": ""
             }
            },
            "type": "scattergl"
           }
          ],
          "scattermapbox": [
           {
            "marker": {
             "colorbar": {
              "outlinewidth": 0,
              "ticks": ""
             }
            },
            "type": "scattermapbox"
           }
          ],
          "scatterpolar": [
           {
            "marker": {
             "colorbar": {
              "outlinewidth": 0,
              "ticks": ""
             }
            },
            "type": "scatterpolar"
           }
          ],
          "scatterpolargl": [
           {
            "marker": {
             "colorbar": {
              "outlinewidth": 0,
              "ticks": ""
             }
            },
            "type": "scatterpolargl"
           }
          ],
          "scatterternary": [
           {
            "marker": {
             "colorbar": {
              "outlinewidth": 0,
              "ticks": ""
             }
            },
            "type": "scatterternary"
           }
          ],
          "surface": [
           {
            "colorbar": {
             "outlinewidth": 0,
             "ticks": ""
            },
            "colorscale": [
             [
              0,
              "#0d0887"
             ],
             [
              0.1111111111111111,
              "#46039f"
             ],
             [
              0.2222222222222222,
              "#7201a8"
             ],
             [
              0.3333333333333333,
              "#9c179e"
             ],
             [
              0.4444444444444444,
              "#bd3786"
             ],
             [
              0.5555555555555556,
              "#d8576b"
             ],
             [
              0.6666666666666666,
              "#ed7953"
             ],
             [
              0.7777777777777778,
              "#fb9f3a"
             ],
             [
              0.8888888888888888,
              "#fdca26"
             ],
             [
              1,
              "#f0f921"
             ]
            ],
            "type": "surface"
           }
          ],
          "table": [
           {
            "cells": {
             "fill": {
              "color": "#EBF0F8"
             },
             "line": {
              "color": "white"
             }
            },
            "header": {
             "fill": {
              "color": "#C8D4E3"
             },
             "line": {
              "color": "white"
             }
            },
            "type": "table"
           }
          ]
         },
         "layout": {
          "annotationdefaults": {
           "arrowcolor": "#2a3f5f",
           "arrowhead": 0,
           "arrowwidth": 1
          },
          "autotypenumbers": "strict",
          "coloraxis": {
           "colorbar": {
            "outlinewidth": 0,
            "ticks": ""
           }
          },
          "colorscale": {
           "diverging": [
            [
             0,
             "#8e0152"
            ],
            [
             0.1,
             "#c51b7d"
            ],
            [
             0.2,
             "#de77ae"
            ],
            [
             0.3,
             "#f1b6da"
            ],
            [
             0.4,
             "#fde0ef"
            ],
            [
             0.5,
             "#f7f7f7"
            ],
            [
             0.6,
             "#e6f5d0"
            ],
            [
             0.7,
             "#b8e186"
            ],
            [
             0.8,
             "#7fbc41"
            ],
            [
             0.9,
             "#4d9221"
            ],
            [
             1,
             "#276419"
            ]
           ],
           "sequential": [
            [
             0,
             "#0d0887"
            ],
            [
             0.1111111111111111,
             "#46039f"
            ],
            [
             0.2222222222222222,
             "#7201a8"
            ],
            [
             0.3333333333333333,
             "#9c179e"
            ],
            [
             0.4444444444444444,
             "#bd3786"
            ],
            [
             0.5555555555555556,
             "#d8576b"
            ],
            [
             0.6666666666666666,
             "#ed7953"
            ],
            [
             0.7777777777777778,
             "#fb9f3a"
            ],
            [
             0.8888888888888888,
             "#fdca26"
            ],
            [
             1,
             "#f0f921"
            ]
           ],
           "sequentialminus": [
            [
             0,
             "#0d0887"
            ],
            [
             0.1111111111111111,
             "#46039f"
            ],
            [
             0.2222222222222222,
             "#7201a8"
            ],
            [
             0.3333333333333333,
             "#9c179e"
            ],
            [
             0.4444444444444444,
             "#bd3786"
            ],
            [
             0.5555555555555556,
             "#d8576b"
            ],
            [
             0.6666666666666666,
             "#ed7953"
            ],
            [
             0.7777777777777778,
             "#fb9f3a"
            ],
            [
             0.8888888888888888,
             "#fdca26"
            ],
            [
             1,
             "#f0f921"
            ]
           ]
          },
          "colorway": [
           "#636efa",
           "#EF553B",
           "#00cc96",
           "#ab63fa",
           "#FFA15A",
           "#19d3f3",
           "#FF6692",
           "#B6E880",
           "#FF97FF",
           "#FECB52"
          ],
          "font": {
           "color": "#2a3f5f"
          },
          "geo": {
           "bgcolor": "white",
           "lakecolor": "white",
           "landcolor": "#E5ECF6",
           "showlakes": true,
           "showland": true,
           "subunitcolor": "white"
          },
          "hoverlabel": {
           "align": "left"
          },
          "hovermode": "closest",
          "mapbox": {
           "style": "light"
          },
          "paper_bgcolor": "white",
          "plot_bgcolor": "#E5ECF6",
          "polar": {
           "angularaxis": {
            "gridcolor": "white",
            "linecolor": "white",
            "ticks": ""
           },
           "bgcolor": "#E5ECF6",
           "radialaxis": {
            "gridcolor": "white",
            "linecolor": "white",
            "ticks": ""
           }
          },
          "scene": {
           "xaxis": {
            "backgroundcolor": "#E5ECF6",
            "gridcolor": "white",
            "gridwidth": 2,
            "linecolor": "white",
            "showbackground": true,
            "ticks": "",
            "zerolinecolor": "white"
           },
           "yaxis": {
            "backgroundcolor": "#E5ECF6",
            "gridcolor": "white",
            "gridwidth": 2,
            "linecolor": "white",
            "showbackground": true,
            "ticks": "",
            "zerolinecolor": "white"
           },
           "zaxis": {
            "backgroundcolor": "#E5ECF6",
            "gridcolor": "white",
            "gridwidth": 2,
            "linecolor": "white",
            "showbackground": true,
            "ticks": "",
            "zerolinecolor": "white"
           }
          },
          "shapedefaults": {
           "line": {
            "color": "#2a3f5f"
           }
          },
          "ternary": {
           "aaxis": {
            "gridcolor": "white",
            "linecolor": "white",
            "ticks": ""
           },
           "baxis": {
            "gridcolor": "white",
            "linecolor": "white",
            "ticks": ""
           },
           "bgcolor": "#E5ECF6",
           "caxis": {
            "gridcolor": "white",
            "linecolor": "white",
            "ticks": ""
           }
          },
          "title": {
           "x": 0.05
          },
          "xaxis": {
           "automargin": true,
           "gridcolor": "white",
           "linecolor": "white",
           "ticks": "",
           "title": {
            "standoff": 15
           },
           "zerolinecolor": "white",
           "zerolinewidth": 2
          },
          "yaxis": {
           "automargin": true,
           "gridcolor": "white",
           "linecolor": "white",
           "ticks": "",
           "title": {
            "standoff": 15
           },
           "zerolinecolor": "white",
           "zerolinewidth": 2
          }
         }
        },
        "title": {
         "text": "Slice Plot"
        },
        "width": 1800,
        "xaxis": {
         "anchor": "y",
         "categoryarray": [
          "mse",
          "mae"
         ],
         "categoryorder": "array",
         "domain": [
          0,
          0.1388888888888889
         ],
         "title": {
          "text": "criterion"
         },
         "type": "category"
        },
        "xaxis2": {
         "anchor": "y2",
         "domain": [
          0.17222222222222222,
          0.3111111111111111
         ],
         "title": {
          "text": "max_depth"
         }
        },
        "xaxis3": {
         "anchor": "y3",
         "categoryarray": [
          "auto",
          "sqrt",
          "log2"
         ],
         "categoryorder": "array",
         "domain": [
          0.34444444444444444,
          0.48333333333333334
         ],
         "title": {
          "text": "max_features"
         },
         "type": "category"
        },
        "xaxis4": {
         "anchor": "y4",
         "domain": [
          0.5166666666666667,
          0.6555555555555557
         ],
         "title": {
          "text": "min_samples_leaf"
         }
        },
        "xaxis5": {
         "anchor": "y5",
         "domain": [
          0.6888888888888889,
          0.8277777777777777
         ],
         "title": {
          "text": "min_samples_split"
         }
        },
        "xaxis6": {
         "anchor": "y6",
         "domain": [
          0.861111111111111,
          1
         ],
         "title": {
          "text": "n_estimators"
         }
        },
        "yaxis": {
         "anchor": "x",
         "domain": [
          0,
          1
         ],
         "title": {
          "text": "Objective Value"
         }
        },
        "yaxis2": {
         "anchor": "x2",
         "domain": [
          0,
          1
         ],
         "matches": "y",
         "showticklabels": false
        },
        "yaxis3": {
         "anchor": "x3",
         "domain": [
          0,
          1
         ],
         "matches": "y",
         "showticklabels": false
        },
        "yaxis4": {
         "anchor": "x4",
         "domain": [
          0,
          1
         ],
         "matches": "y",
         "showticklabels": false
        },
        "yaxis5": {
         "anchor": "x5",
         "domain": [
          0,
          1
         ],
         "matches": "y",
         "showticklabels": false
        },
        "yaxis6": {
         "anchor": "x6",
         "domain": [
          0,
          1
         ],
         "matches": "y",
         "showticklabels": false
        }
       }
      },
      "text/html": [
       "<div>                            <div id=\"710143d9-ae00-4a8c-b686-d2980837c04c\" class=\"plotly-graph-div\" style=\"height:525px; width:1800px;\"></div>            <script type=\"text/javascript\">                require([\"plotly\"], function(Plotly) {                    window.PLOTLYENV=window.PLOTLYENV || {};                                    if (document.getElementById(\"710143d9-ae00-4a8c-b686-d2980837c04c\")) {                    Plotly.newPlot(                        \"710143d9-ae00-4a8c-b686-d2980837c04c\",                        [{\"marker\":{\"color\":[0,1,2,3,4,5,6,7,8,9,10,11,12,13,14,15,16,17,18,19,20,21,22,23,24,25,26,27,28,29,30,31,32,33,34,35,36,37,38,39,40,41,42,43,44,45,46,47,48,49,50,51,52,53,54,55,56,57,58,59,60,61,62,63,64,65,66,67,68,69,70,71,72,73,74,75,76,77,78,79,80,81,82,83,84,85,86,87,88,89,90,91,92,93,94,95,96,97,98,99,100,101,102,103,104,105,106,107,108,109,110,111,112,113,114,115,116,117,118,119,120,121,122,123,124,125,126,127,128,129,130,131,132,133,134,135,136,137,138,139,140,141,142,143,144,145,146,147,148,149,150,151,152,153,154,155,156,157,158,159,160,161,162,163,164,165,166,167,168,169,170,171,172,173,174,175,176,177,178,179,180,181,182,183,184,185,186,187,188,189,190,191,192,193,194,195,196,197,198,199],\"colorbar\":{\"title\":{\"text\":\"Trial\"},\"x\":1.0,\"xpad\":40},\"colorscale\":[[0.0,\"rgb(247,251,255)\"],[0.125,\"rgb(222,235,247)\"],[0.25,\"rgb(198,219,239)\"],[0.375,\"rgb(158,202,225)\"],[0.5,\"rgb(107,174,214)\"],[0.625,\"rgb(66,146,198)\"],[0.75,\"rgb(33,113,181)\"],[0.875,\"rgb(8,81,156)\"],[1.0,\"rgb(8,48,107)\"]],\"line\":{\"color\":\"Grey\",\"width\":0.5},\"showscale\":true},\"mode\":\"markers\",\"name\":\"Feasible Trial\",\"showlegend\":false,\"x\":[\"mse\",\"mae\",\"mse\",\"mse\",\"mse\",\"mse\",\"mae\",\"mse\",\"mae\",\"mse\",\"mse\",\"mae\",\"mse\",\"mae\",\"mae\",\"mse\",\"mse\",\"mae\",\"mae\",\"mse\",\"mse\",\"mae\",\"mae\",\"mse\",\"mse\",\"mse\",\"mse\",\"mae\",\"mae\",\"mse\",\"mae\",\"mae\",\"mae\",\"mae\",\"mse\",\"mse\",\"mse\",\"mse\",\"mse\",\"mse\",\"mse\",\"mse\",\"mse\",\"mae\",\"mse\",\"mse\",\"mse\",\"mae\",\"mae\",\"mse\",\"mse\",\"mae\",\"mse\",\"mae\",\"mae\",\"mae\",\"mae\",\"mse\",\"mse\",\"mse\",\"mse\",\"mse\",\"mse\",\"mae\",\"mae\",\"mae\",\"mse\",\"mae\",\"mse\",\"mae\",\"mae\",\"mae\",\"mae\",\"mae\",\"mse\",\"mae\",\"mae\",\"mse\",\"mae\",\"mae\",\"mse\",\"mae\",\"mse\",\"mae\",\"mse\",\"mae\",\"mse\",\"mae\",\"mse\",\"mse\",\"mse\",\"mae\",\"mae\",\"mae\",\"mse\",\"mse\",\"mae\",\"mae\",\"mae\",\"mae\",\"mse\",\"mae\",\"mae\",\"mae\",\"mse\",\"mae\",\"mse\",\"mae\",\"mse\",\"mae\",\"mae\",\"mae\",\"mse\",\"mse\",\"mse\",\"mae\",\"mae\",\"mae\",\"mae\",\"mae\",\"mae\",\"mse\",\"mae\",\"mse\",\"mse\",\"mae\",\"mae\",\"mae\",\"mae\",\"mae\",\"mae\",\"mse\",\"mae\",\"mae\",\"mse\",\"mae\",\"mse\",\"mse\",\"mae\",\"mae\",\"mae\",\"mae\",\"mse\",\"mse\",\"mae\",\"mae\",\"mae\",\"mae\",\"mae\",\"mse\",\"mse\",\"mae\",\"mse\",\"mse\",\"mse\",\"mae\",\"mae\",\"mae\",\"mse\",\"mae\",\"mae\",\"mse\",\"mae\",\"mae\",\"mae\",\"mse\",\"mse\",\"mse\",\"mse\",\"mse\",\"mse\",\"mse\",\"mae\",\"mse\",\"mse\",\"mse\",\"mse\",\"mae\",\"mae\",\"mae\",\"mse\",\"mse\",\"mse\",\"mae\",\"mae\",\"mse\",\"mse\",\"mae\",\"mae\",\"mae\",\"mae\",\"mae\",\"mse\",\"mae\",\"mae\",\"mae\",\"mae\",\"mae\",\"mse\",\"mse\"],\"y\":[-2.3082287521521803,-2.758021048664968,-0.9776709996975494,-2.992133019586524,-2.9729744162701364,-3.571121149988587,-1.0149117576436941,-0.9038589045214731,-2.4772331547275166,-1.8308852594125953,-2.237828976561041,-2.170703831067944,-1.019004140458663,-2.6361637148279597,-2.1754313335950113,-1.8146189127043955,-2.504037158954837,-2.3681631232536366,-2.7408719339287417,-4.791459144490581,-4.814698907653348,-2.99861766814137,-1.3341140555263398,-2.2315884842389444,-2.916607354388135,-6.421283741299211,-0.3896128260330344,-2.0230315202550933,-2.212034181372854,-3.0132859677149475,-5.025141198101897,-2.5731346367242622,-0.2813504827848248,-0.29798421198328606,-1.5840205516158414,-0.8085336424385707,-2.3047371448461105,-2.9000811437395293,-2.310009477841595,-0.4134561277018632,-2.6291319893516607,-0.5737881892694576,-5.185027163891752,-5.261884440828483,-5.68855821609474,-4.916241527685402,-1.6707194306775102,-2.0773161400573303,-5.274036308547837,-6.187356403874742,-6.300657844083475,-5.607428566997683,-6.42062941151274,-2.3245976494119733,-6.343822700211952,-3.3238824328310344,-2.747939105607322,-2.55139762991033,-2.0942113382584635,-2.578602659500707,-2.4000627397102177,-3.504419819343667,-1.2248642139307016,-2.1692761147622597,-1.628569170490967,-0.7126174111042266,-1.1599234763899289,-1.0739045852934956,-5.029280504643872,-2.981528578287327,-2.6420572498206516,-1.0314102693220046,-3.6292069467675154,-1.8126287152074496,-1.8611033965350863,-3.367162501294729,-1.4733547230095492,-1.5857037719562892,-6.5240203969337305,-1.8258986986188752,-5.404661704787673,-3.415729585927918,-1.5600343822910925,-0.9188905670992339,-5.9398174082673725,-1.7959257171123646,-2.511041070637339,-2.7879617944459563,-2.9072823912127,-2.7938516775317432,-3.1347505361927697,-1.6753567897803023,-2.208102453584775,-0.9105755589650741,-4.184222454767267,-3.990205358461263,-0.9719511585526153,-2.4174913967900302,-1.2627528602385587,-3.4279351846933075,-3.8805087847048854,-4.219950400440811,-2.1263912709117996,-0.7331605897083454,-2.852833131250856,-4.647890066983858,-1.0274335474554317,-5.381416037026588,-1.4561011111269082,-5.417279192011546,-2.778455702819449,-6.181185789449938,-3.3515915912134466,-3.710083641566208,-5.975950155441114,-1.0613826798001469,-0.3922595317706647,-4.078123062456419,-4.037348540946314,-5.179585866912106,-3.008119554680834,-2.2961196247872016,-5.209303801844797,-4.6138590452807815,-0.7173637012234492,-2.416364593849085,-2.3772681243141913,-4.489896895179581,-5.691868632122054,-1.6751209250463908,-1.4264592761451989,-3.1982151671780583,-3.942169512806976,-4.170816912162904,-6.430149040201208,-4.500077833052151,-1.4648893428749648,-6.471122778764564,-3.1579210248267784,-3.5106870632012956,-2.2478646981366692,-5.745767841402307,-2.438721427148093,-1.9927108516601553,-5.142255612490548,-1.7599263424676965,-3.907666184858506,-1.0251154105470248,-4.56033368724341,-2.53732359617479,-3.9432081242224384,-4.221370772304575,-1.4983678913745255,-1.3860204767687865,-2.0975154902048017,-2.2877677921037605,-5.985372537701516,-1.3479389110214848,-6.464632329655821,-1.071908565055454,-2.0747555830304547,-4.676364153564176,-3.315170793579052,-3.9611971175781293,-2.017983807185444,-1.910848516398061,-2.9828167474219494,-2.7495340640581434,-0.369722075055892,-2.4164722315958986,-1.5562686507538774,-3.8128285595779814,-4.303030964347412,-2.5073338141516297,-2.2699722899958386,-2.3280821089855808,-2.5928808319006658,-1.416940262830121,-3.3840554622822525,-2.136340015662731,-6.3438495916334166,-4.88323290634343,-5.902734708567559,-1.0056676442958232,-2.258379316466329,-1.371544038812889,-2.6039466458735205,-5.0122297908327305,-0.5714332912125552,-2.9667963245327718,-3.0278306585123116,-1.907634013544159,-2.3104242504925407,-6.09112838866041,-1.1072975258139315,-0.8034578207343477,-2.3422625591970947,-3.6886158293993594,-3.035336744322362,-1.44163587519229],\"type\":\"scatter\",\"xaxis\":\"x\",\"yaxis\":\"y\"},{\"marker\":{\"color\":[0,1,2,3,4,5,6,7,8,9,10,11,12,13,14,15,16,17,18,19,20,21,22,23,24,25,26,27,28,29,30,31,32,33,34,35,36,37,38,39,40,41,42,43,44,45,46,47,48,49,50,51,52,53,54,55,56,57,58,59,60,61,62,63,64,65,66,67,68,69,70,71,72,73,74,75,76,77,78,79,80,81,82,83,84,85,86,87,88,89,90,91,92,93,94,95,96,97,98,99,100,101,102,103,104,105,106,107,108,109,110,111,112,113,114,115,116,117,118,119,120,121,122,123,124,125,126,127,128,129,130,131,132,133,134,135,136,137,138,139,140,141,142,143,144,145,146,147,148,149,150,151,152,153,154,155,156,157,158,159,160,161,162,163,164,165,166,167,168,169,170,171,172,173,174,175,176,177,178,179,180,181,182,183,184,185,186,187,188,189,190,191,192,193,194,195,196,197,198,199],\"colorbar\":{\"title\":{\"text\":\"Trial\"},\"x\":1.0,\"xpad\":40},\"colorscale\":[[0.0,\"rgb(247,251,255)\"],[0.125,\"rgb(222,235,247)\"],[0.25,\"rgb(198,219,239)\"],[0.375,\"rgb(158,202,225)\"],[0.5,\"rgb(107,174,214)\"],[0.625,\"rgb(66,146,198)\"],[0.75,\"rgb(33,113,181)\"],[0.875,\"rgb(8,81,156)\"],[1.0,\"rgb(8,48,107)\"]],\"line\":{\"color\":\"Grey\",\"width\":0.5},\"showscale\":false},\"mode\":\"markers\",\"name\":\"Feasible Trial\",\"showlegend\":false,\"x\":[48,10,21,34,14,22,47,21,43,23,39,11,13,46,45,31,11,50,31,30,14,13,41,10,40,49,39,10,22,15,43,46,34,35,23,26,40,11,27,37,36,14,21,40,27,25,28,12,14,25,32,14,49,49,21,33,16,11,44,50,34,31,35,47,47,13,29,14,13,25,46,10,30,36,16,14,32,14,15,29,17,16,25,47,31,41,16,17,35,33,44,42,28,33,50,11,32,11,14,44,11,34,15,35,47,15,25,21,18,14,38,17,30,47,44,23,35,50,27,11,13,48,24,38,45,13,13,20,37,23,50,49,39,40,28,13,36,36,44,14,42,38,30,11,14,39,36,50,50,45,33,47,19,24,15,27,29,31,16,30,13,30,37,45,41,26,37,25,10,24,35,39,35,44,13,10,15,39,24,31,12,41,48,42,22,18,22,15,16,22,12,15,35,25,20,49,23,42,36,31],\"y\":[-2.3082287521521803,-2.758021048664968,-0.9776709996975494,-2.992133019586524,-2.9729744162701364,-3.571121149988587,-1.0149117576436941,-0.9038589045214731,-2.4772331547275166,-1.8308852594125953,-2.237828976561041,-2.170703831067944,-1.019004140458663,-2.6361637148279597,-2.1754313335950113,-1.8146189127043955,-2.504037158954837,-2.3681631232536366,-2.7408719339287417,-4.791459144490581,-4.814698907653348,-2.99861766814137,-1.3341140555263398,-2.2315884842389444,-2.916607354388135,-6.421283741299211,-0.3896128260330344,-2.0230315202550933,-2.212034181372854,-3.0132859677149475,-5.025141198101897,-2.5731346367242622,-0.2813504827848248,-0.29798421198328606,-1.5840205516158414,-0.8085336424385707,-2.3047371448461105,-2.9000811437395293,-2.310009477841595,-0.4134561277018632,-2.6291319893516607,-0.5737881892694576,-5.185027163891752,-5.261884440828483,-5.68855821609474,-4.916241527685402,-1.6707194306775102,-2.0773161400573303,-5.274036308547837,-6.187356403874742,-6.300657844083475,-5.607428566997683,-6.42062941151274,-2.3245976494119733,-6.343822700211952,-3.3238824328310344,-2.747939105607322,-2.55139762991033,-2.0942113382584635,-2.578602659500707,-2.4000627397102177,-3.504419819343667,-1.2248642139307016,-2.1692761147622597,-1.628569170490967,-0.7126174111042266,-1.1599234763899289,-1.0739045852934956,-5.029280504643872,-2.981528578287327,-2.6420572498206516,-1.0314102693220046,-3.6292069467675154,-1.8126287152074496,-1.8611033965350863,-3.367162501294729,-1.4733547230095492,-1.5857037719562892,-6.5240203969337305,-1.8258986986188752,-5.404661704787673,-3.415729585927918,-1.5600343822910925,-0.9188905670992339,-5.9398174082673725,-1.7959257171123646,-2.511041070637339,-2.7879617944459563,-2.9072823912127,-2.7938516775317432,-3.1347505361927697,-1.6753567897803023,-2.208102453584775,-0.9105755589650741,-4.184222454767267,-3.990205358461263,-0.9719511585526153,-2.4174913967900302,-1.2627528602385587,-3.4279351846933075,-3.8805087847048854,-4.219950400440811,-2.1263912709117996,-0.7331605897083454,-2.852833131250856,-4.647890066983858,-1.0274335474554317,-5.381416037026588,-1.4561011111269082,-5.417279192011546,-2.778455702819449,-6.181185789449938,-3.3515915912134466,-3.710083641566208,-5.975950155441114,-1.0613826798001469,-0.3922595317706647,-4.078123062456419,-4.037348540946314,-5.179585866912106,-3.008119554680834,-2.2961196247872016,-5.209303801844797,-4.6138590452807815,-0.7173637012234492,-2.416364593849085,-2.3772681243141913,-4.489896895179581,-5.691868632122054,-1.6751209250463908,-1.4264592761451989,-3.1982151671780583,-3.942169512806976,-4.170816912162904,-6.430149040201208,-4.500077833052151,-1.4648893428749648,-6.471122778764564,-3.1579210248267784,-3.5106870632012956,-2.2478646981366692,-5.745767841402307,-2.438721427148093,-1.9927108516601553,-5.142255612490548,-1.7599263424676965,-3.907666184858506,-1.0251154105470248,-4.56033368724341,-2.53732359617479,-3.9432081242224384,-4.221370772304575,-1.4983678913745255,-1.3860204767687865,-2.0975154902048017,-2.2877677921037605,-5.985372537701516,-1.3479389110214848,-6.464632329655821,-1.071908565055454,-2.0747555830304547,-4.676364153564176,-3.315170793579052,-3.9611971175781293,-2.017983807185444,-1.910848516398061,-2.9828167474219494,-2.7495340640581434,-0.369722075055892,-2.4164722315958986,-1.5562686507538774,-3.8128285595779814,-4.303030964347412,-2.5073338141516297,-2.2699722899958386,-2.3280821089855808,-2.5928808319006658,-1.416940262830121,-3.3840554622822525,-2.136340015662731,-6.3438495916334166,-4.88323290634343,-5.902734708567559,-1.0056676442958232,-2.258379316466329,-1.371544038812889,-2.6039466458735205,-5.0122297908327305,-0.5714332912125552,-2.9667963245327718,-3.0278306585123116,-1.907634013544159,-2.3104242504925407,-6.09112838866041,-1.1072975258139315,-0.8034578207343477,-2.3422625591970947,-3.6886158293993594,-3.035336744322362,-1.44163587519229],\"type\":\"scatter\",\"xaxis\":\"x2\",\"yaxis\":\"y2\"},{\"marker\":{\"color\":[0,1,2,3,4,5,6,7,8,9,10,11,12,13,14,15,16,17,18,19,20,21,22,23,24,25,26,27,28,29,30,31,32,33,34,35,36,37,38,39,40,41,42,43,44,45,46,47,48,49,50,51,52,53,54,55,56,57,58,59,60,61,62,63,64,65,66,67,68,69,70,71,72,73,74,75,76,77,78,79,80,81,82,83,84,85,86,87,88,89,90,91,92,93,94,95,96,97,98,99,100,101,102,103,104,105,106,107,108,109,110,111,112,113,114,115,116,117,118,119,120,121,122,123,124,125,126,127,128,129,130,131,132,133,134,135,136,137,138,139,140,141,142,143,144,145,146,147,148,149,150,151,152,153,154,155,156,157,158,159,160,161,162,163,164,165,166,167,168,169,170,171,172,173,174,175,176,177,178,179,180,181,182,183,184,185,186,187,188,189,190,191,192,193,194,195,196,197,198,199],\"colorbar\":{\"title\":{\"text\":\"Trial\"},\"x\":1.0,\"xpad\":40},\"colorscale\":[[0.0,\"rgb(247,251,255)\"],[0.125,\"rgb(222,235,247)\"],[0.25,\"rgb(198,219,239)\"],[0.375,\"rgb(158,202,225)\"],[0.5,\"rgb(107,174,214)\"],[0.625,\"rgb(66,146,198)\"],[0.75,\"rgb(33,113,181)\"],[0.875,\"rgb(8,81,156)\"],[1.0,\"rgb(8,48,107)\"]],\"line\":{\"color\":\"Grey\",\"width\":0.5},\"showscale\":false},\"mode\":\"markers\",\"name\":\"Feasible Trial\",\"showlegend\":false,\"x\":[\"auto\",\"auto\",\"log2\",\"log2\",\"sqrt\",\"sqrt\",\"log2\",\"log2\",\"auto\",\"sqrt\",\"auto\",\"sqrt\",\"auto\",\"auto\",\"auto\",\"auto\",\"log2\",\"auto\",\"auto\",\"sqrt\",\"log2\",\"auto\",\"sqrt\",\"auto\",\"auto\",\"sqrt\",\"log2\",\"auto\",\"auto\",\"auto\",\"log2\",\"sqrt\",\"auto\",\"log2\",\"auto\",\"log2\",\"auto\",\"auto\",\"auto\",\"auto\",\"log2\",\"auto\",\"sqrt\",\"log2\",\"sqrt\",\"log2\",\"log2\",\"auto\",\"sqrt\",\"sqrt\",\"sqrt\",\"sqrt\",\"sqrt\",\"auto\",\"sqrt\",\"auto\",\"auto\",\"sqrt\",\"auto\",\"auto\",\"auto\",\"sqrt\",\"log2\",\"auto\",\"sqrt\",\"log2\",\"auto\",\"log2\",\"log2\",\"log2\",\"log2\",\"log2\",\"sqrt\",\"auto\",\"sqrt\",\"auto\",\"auto\",\"auto\",\"sqrt\",\"log2\",\"sqrt\",\"log2\",\"auto\",\"auto\",\"sqrt\",\"log2\",\"auto\",\"log2\",\"auto\",\"sqrt\",\"auto\",\"log2\",\"log2\",\"log2\",\"sqrt\",\"sqrt\",\"sqrt\",\"auto\",\"auto\",\"log2\",\"sqrt\",\"sqrt\",\"auto\",\"sqrt\",\"log2\",\"log2\",\"sqrt\",\"sqrt\",\"auto\",\"sqrt\",\"log2\",\"sqrt\",\"auto\",\"log2\",\"sqrt\",\"log2\",\"log2\",\"log2\",\"log2\",\"log2\",\"auto\",\"auto\",\"log2\",\"log2\",\"sqrt\",\"sqrt\",\"log2\",\"log2\",\"sqrt\",\"sqrt\",\"log2\",\"log2\",\"sqrt\",\"log2\",\"sqrt\",\"sqrt\",\"auto\",\"sqrt\",\"log2\",\"log2\",\"log2\",\"sqrt\",\"auto\",\"log2\",\"sqrt\",\"log2\",\"log2\",\"auto\",\"sqrt\",\"auto\",\"log2\",\"sqrt\",\"auto\",\"sqrt\",\"auto\",\"auto\",\"sqrt\",\"log2\",\"sqrt\",\"log2\",\"auto\",\"log2\",\"log2\",\"sqrt\",\"auto\",\"auto\",\"sqrt\",\"log2\",\"sqrt\",\"log2\",\"auto\",\"sqrt\",\"sqrt\",\"sqrt\",\"log2\",\"auto\",\"sqrt\",\"log2\",\"sqrt\",\"sqrt\",\"sqrt\",\"sqrt\",\"sqrt\",\"log2\",\"log2\",\"log2\",\"sqrt\",\"log2\",\"log2\",\"sqrt\",\"sqrt\",\"sqrt\",\"auto\",\"sqrt\",\"auto\",\"log2\",\"log2\",\"log2\",\"auto\",\"sqrt\"],\"y\":[-2.3082287521521803,-2.758021048664968,-0.9776709996975494,-2.992133019586524,-2.9729744162701364,-3.571121149988587,-1.0149117576436941,-0.9038589045214731,-2.4772331547275166,-1.8308852594125953,-2.237828976561041,-2.170703831067944,-1.019004140458663,-2.6361637148279597,-2.1754313335950113,-1.8146189127043955,-2.504037158954837,-2.3681631232536366,-2.7408719339287417,-4.791459144490581,-4.814698907653348,-2.99861766814137,-1.3341140555263398,-2.2315884842389444,-2.916607354388135,-6.421283741299211,-0.3896128260330344,-2.0230315202550933,-2.212034181372854,-3.0132859677149475,-5.025141198101897,-2.5731346367242622,-0.2813504827848248,-0.29798421198328606,-1.5840205516158414,-0.8085336424385707,-2.3047371448461105,-2.9000811437395293,-2.310009477841595,-0.4134561277018632,-2.6291319893516607,-0.5737881892694576,-5.185027163891752,-5.261884440828483,-5.68855821609474,-4.916241527685402,-1.6707194306775102,-2.0773161400573303,-5.274036308547837,-6.187356403874742,-6.300657844083475,-5.607428566997683,-6.42062941151274,-2.3245976494119733,-6.343822700211952,-3.3238824328310344,-2.747939105607322,-2.55139762991033,-2.0942113382584635,-2.578602659500707,-2.4000627397102177,-3.504419819343667,-1.2248642139307016,-2.1692761147622597,-1.628569170490967,-0.7126174111042266,-1.1599234763899289,-1.0739045852934956,-5.029280504643872,-2.981528578287327,-2.6420572498206516,-1.0314102693220046,-3.6292069467675154,-1.8126287152074496,-1.8611033965350863,-3.367162501294729,-1.4733547230095492,-1.5857037719562892,-6.5240203969337305,-1.8258986986188752,-5.404661704787673,-3.415729585927918,-1.5600343822910925,-0.9188905670992339,-5.9398174082673725,-1.7959257171123646,-2.511041070637339,-2.7879617944459563,-2.9072823912127,-2.7938516775317432,-3.1347505361927697,-1.6753567897803023,-2.208102453584775,-0.9105755589650741,-4.184222454767267,-3.990205358461263,-0.9719511585526153,-2.4174913967900302,-1.2627528602385587,-3.4279351846933075,-3.8805087847048854,-4.219950400440811,-2.1263912709117996,-0.7331605897083454,-2.852833131250856,-4.647890066983858,-1.0274335474554317,-5.381416037026588,-1.4561011111269082,-5.417279192011546,-2.778455702819449,-6.181185789449938,-3.3515915912134466,-3.710083641566208,-5.975950155441114,-1.0613826798001469,-0.3922595317706647,-4.078123062456419,-4.037348540946314,-5.179585866912106,-3.008119554680834,-2.2961196247872016,-5.209303801844797,-4.6138590452807815,-0.7173637012234492,-2.416364593849085,-2.3772681243141913,-4.489896895179581,-5.691868632122054,-1.6751209250463908,-1.4264592761451989,-3.1982151671780583,-3.942169512806976,-4.170816912162904,-6.430149040201208,-4.500077833052151,-1.4648893428749648,-6.471122778764564,-3.1579210248267784,-3.5106870632012956,-2.2478646981366692,-5.745767841402307,-2.438721427148093,-1.9927108516601553,-5.142255612490548,-1.7599263424676965,-3.907666184858506,-1.0251154105470248,-4.56033368724341,-2.53732359617479,-3.9432081242224384,-4.221370772304575,-1.4983678913745255,-1.3860204767687865,-2.0975154902048017,-2.2877677921037605,-5.985372537701516,-1.3479389110214848,-6.464632329655821,-1.071908565055454,-2.0747555830304547,-4.676364153564176,-3.315170793579052,-3.9611971175781293,-2.017983807185444,-1.910848516398061,-2.9828167474219494,-2.7495340640581434,-0.369722075055892,-2.4164722315958986,-1.5562686507538774,-3.8128285595779814,-4.303030964347412,-2.5073338141516297,-2.2699722899958386,-2.3280821089855808,-2.5928808319006658,-1.416940262830121,-3.3840554622822525,-2.136340015662731,-6.3438495916334166,-4.88323290634343,-5.902734708567559,-1.0056676442958232,-2.258379316466329,-1.371544038812889,-2.6039466458735205,-5.0122297908327305,-0.5714332912125552,-2.9667963245327718,-3.0278306585123116,-1.907634013544159,-2.3104242504925407,-6.09112838866041,-1.1072975258139315,-0.8034578207343477,-2.3422625591970947,-3.6886158293993594,-3.035336744322362,-1.44163587519229],\"type\":\"scatter\",\"xaxis\":\"x3\",\"yaxis\":\"y3\"},{\"marker\":{\"color\":[0,1,2,3,4,5,6,7,8,9,10,11,12,13,14,15,16,17,18,19,20,21,22,23,24,25,26,27,28,29,30,31,32,33,34,35,36,37,38,39,40,41,42,43,44,45,46,47,48,49,50,51,52,53,54,55,56,57,58,59,60,61,62,63,64,65,66,67,68,69,70,71,72,73,74,75,76,77,78,79,80,81,82,83,84,85,86,87,88,89,90,91,92,93,94,95,96,97,98,99,100,101,102,103,104,105,106,107,108,109,110,111,112,113,114,115,116,117,118,119,120,121,122,123,124,125,126,127,128,129,130,131,132,133,134,135,136,137,138,139,140,141,142,143,144,145,146,147,148,149,150,151,152,153,154,155,156,157,158,159,160,161,162,163,164,165,166,167,168,169,170,171,172,173,174,175,176,177,178,179,180,181,182,183,184,185,186,187,188,189,190,191,192,193,194,195,196,197,198,199],\"colorbar\":{\"title\":{\"text\":\"Trial\"},\"x\":1.0,\"xpad\":40},\"colorscale\":[[0.0,\"rgb(247,251,255)\"],[0.125,\"rgb(222,235,247)\"],[0.25,\"rgb(198,219,239)\"],[0.375,\"rgb(158,202,225)\"],[0.5,\"rgb(107,174,214)\"],[0.625,\"rgb(66,146,198)\"],[0.75,\"rgb(33,113,181)\"],[0.875,\"rgb(8,81,156)\"],[1.0,\"rgb(8,48,107)\"]],\"line\":{\"color\":\"Grey\",\"width\":0.5},\"showscale\":false},\"mode\":\"markers\",\"name\":\"Feasible Trial\",\"showlegend\":false,\"x\":[20,27,5,20,15,18,7,5,24,10,18,11,6,26,17,12,17,22,27,21,29,29,3,18,28,29,1,14,18,29,30,13,2,2,9,6,20,28,20,3,18,4,23,32,25,29,11,15,23,27,30,24,32,21,29,32,27,13,15,25,22,18,7,17,9,5,6,7,30,20,18,7,18,12,10,32,9,10,32,12,24,22,10,4,26,11,24,19,28,14,30,11,15,1,20,19,6,23,6,22,19,20,16,5,19,28,2,24,9,24,19,28,32,23,27,3,1,25,24,32,29,20,32,27,5,12,16,26,25,6,9,21,19,25,32,21,9,28,21,22,15,25,23,13,23,11,24,6,21,24,24,20,6,6,15,20,26,2,31,5,15,28,21,19,14,13,15,19,1,16,9,19,20,12,15,20,13,9,17,11,31,22,27,2,15,4,13,30,3,15,15,10,20,27,5,4,16,23,29,2],\"y\":[-2.3082287521521803,-2.758021048664968,-0.9776709996975494,-2.992133019586524,-2.9729744162701364,-3.571121149988587,-1.0149117576436941,-0.9038589045214731,-2.4772331547275166,-1.8308852594125953,-2.237828976561041,-2.170703831067944,-1.019004140458663,-2.6361637148279597,-2.1754313335950113,-1.8146189127043955,-2.504037158954837,-2.3681631232536366,-2.7408719339287417,-4.791459144490581,-4.814698907653348,-2.99861766814137,-1.3341140555263398,-2.2315884842389444,-2.916607354388135,-6.421283741299211,-0.3896128260330344,-2.0230315202550933,-2.212034181372854,-3.0132859677149475,-5.025141198101897,-2.5731346367242622,-0.2813504827848248,-0.29798421198328606,-1.5840205516158414,-0.8085336424385707,-2.3047371448461105,-2.9000811437395293,-2.310009477841595,-0.4134561277018632,-2.6291319893516607,-0.5737881892694576,-5.185027163891752,-5.261884440828483,-5.68855821609474,-4.916241527685402,-1.6707194306775102,-2.0773161400573303,-5.274036308547837,-6.187356403874742,-6.300657844083475,-5.607428566997683,-6.42062941151274,-2.3245976494119733,-6.343822700211952,-3.3238824328310344,-2.747939105607322,-2.55139762991033,-2.0942113382584635,-2.578602659500707,-2.4000627397102177,-3.504419819343667,-1.2248642139307016,-2.1692761147622597,-1.628569170490967,-0.7126174111042266,-1.1599234763899289,-1.0739045852934956,-5.029280504643872,-2.981528578287327,-2.6420572498206516,-1.0314102693220046,-3.6292069467675154,-1.8126287152074496,-1.8611033965350863,-3.367162501294729,-1.4733547230095492,-1.5857037719562892,-6.5240203969337305,-1.8258986986188752,-5.404661704787673,-3.415729585927918,-1.5600343822910925,-0.9188905670992339,-5.9398174082673725,-1.7959257171123646,-2.511041070637339,-2.7879617944459563,-2.9072823912127,-2.7938516775317432,-3.1347505361927697,-1.6753567897803023,-2.208102453584775,-0.9105755589650741,-4.184222454767267,-3.990205358461263,-0.9719511585526153,-2.4174913967900302,-1.2627528602385587,-3.4279351846933075,-3.8805087847048854,-4.219950400440811,-2.1263912709117996,-0.7331605897083454,-2.852833131250856,-4.647890066983858,-1.0274335474554317,-5.381416037026588,-1.4561011111269082,-5.417279192011546,-2.778455702819449,-6.181185789449938,-3.3515915912134466,-3.710083641566208,-5.975950155441114,-1.0613826798001469,-0.3922595317706647,-4.078123062456419,-4.037348540946314,-5.179585866912106,-3.008119554680834,-2.2961196247872016,-5.209303801844797,-4.6138590452807815,-0.7173637012234492,-2.416364593849085,-2.3772681243141913,-4.489896895179581,-5.691868632122054,-1.6751209250463908,-1.4264592761451989,-3.1982151671780583,-3.942169512806976,-4.170816912162904,-6.430149040201208,-4.500077833052151,-1.4648893428749648,-6.471122778764564,-3.1579210248267784,-3.5106870632012956,-2.2478646981366692,-5.745767841402307,-2.438721427148093,-1.9927108516601553,-5.142255612490548,-1.7599263424676965,-3.907666184858506,-1.0251154105470248,-4.56033368724341,-2.53732359617479,-3.9432081242224384,-4.221370772304575,-1.4983678913745255,-1.3860204767687865,-2.0975154902048017,-2.2877677921037605,-5.985372537701516,-1.3479389110214848,-6.464632329655821,-1.071908565055454,-2.0747555830304547,-4.676364153564176,-3.315170793579052,-3.9611971175781293,-2.017983807185444,-1.910848516398061,-2.9828167474219494,-2.7495340640581434,-0.369722075055892,-2.4164722315958986,-1.5562686507538774,-3.8128285595779814,-4.303030964347412,-2.5073338141516297,-2.2699722899958386,-2.3280821089855808,-2.5928808319006658,-1.416940262830121,-3.3840554622822525,-2.136340015662731,-6.3438495916334166,-4.88323290634343,-5.902734708567559,-1.0056676442958232,-2.258379316466329,-1.371544038812889,-2.6039466458735205,-5.0122297908327305,-0.5714332912125552,-2.9667963245327718,-3.0278306585123116,-1.907634013544159,-2.3104242504925407,-6.09112838866041,-1.1072975258139315,-0.8034578207343477,-2.3422625591970947,-3.6886158293993594,-3.035336744322362,-1.44163587519229],\"type\":\"scatter\",\"xaxis\":\"x4\",\"yaxis\":\"y4\"},{\"marker\":{\"color\":[0,1,2,3,4,5,6,7,8,9,10,11,12,13,14,15,16,17,18,19,20,21,22,23,24,25,26,27,28,29,30,31,32,33,34,35,36,37,38,39,40,41,42,43,44,45,46,47,48,49,50,51,52,53,54,55,56,57,58,59,60,61,62,63,64,65,66,67,68,69,70,71,72,73,74,75,76,77,78,79,80,81,82,83,84,85,86,87,88,89,90,91,92,93,94,95,96,97,98,99,100,101,102,103,104,105,106,107,108,109,110,111,112,113,114,115,116,117,118,119,120,121,122,123,124,125,126,127,128,129,130,131,132,133,134,135,136,137,138,139,140,141,142,143,144,145,146,147,148,149,150,151,152,153,154,155,156,157,158,159,160,161,162,163,164,165,166,167,168,169,170,171,172,173,174,175,176,177,178,179,180,181,182,183,184,185,186,187,188,189,190,191,192,193,194,195,196,197,198,199],\"colorbar\":{\"title\":{\"text\":\"Trial\"},\"x\":1.0,\"xpad\":40},\"colorscale\":[[0.0,\"rgb(247,251,255)\"],[0.125,\"rgb(222,235,247)\"],[0.25,\"rgb(198,219,239)\"],[0.375,\"rgb(158,202,225)\"],[0.5,\"rgb(107,174,214)\"],[0.625,\"rgb(66,146,198)\"],[0.75,\"rgb(33,113,181)\"],[0.875,\"rgb(8,81,156)\"],[1.0,\"rgb(8,48,107)\"]],\"line\":{\"color\":\"Grey\",\"width\":0.5},\"showscale\":false},\"mode\":\"markers\",\"name\":\"Feasible Trial\",\"showlegend\":false,\"x\":[24,32,20,3,23,18,4,18,23,3,25,21,10,18,2,23,20,9,4,9,30,29,21,6,22,14,10,30,7,18,28,12,2,4,26,7,19,3,14,7,16,2,5,27,25,2,11,19,4,13,15,22,2,18,31,4,30,2,27,19,9,28,23,12,17,5,22,16,29,17,17,11,4,19,7,14,19,20,3,14,4,27,16,21,29,29,9,30,2,20,5,2,8,21,17,16,6,6,26,14,7,10,28,9,5,29,18,13,2,4,10,18,8,3,11,24,9,12,15,2,14,22,3,6,10,14,28,29,21,25,21,12,4,6,10,23,14,13,25,5,11,28,21,4,21,26,18,12,32,24,15,8,32,20,32,9,28,31,32,22,22,21,14,26,26,23,21,14,8,5,24,5,31,29,21,21,23,19,4,12,19,12,18,23,14,30,4,28,13,17,26,5,11,14,25,17,24,11,22,23],\"y\":[-2.3082287521521803,-2.758021048664968,-0.9776709996975494,-2.992133019586524,-2.9729744162701364,-3.571121149988587,-1.0149117576436941,-0.9038589045214731,-2.4772331547275166,-1.8308852594125953,-2.237828976561041,-2.170703831067944,-1.019004140458663,-2.6361637148279597,-2.1754313335950113,-1.8146189127043955,-2.504037158954837,-2.3681631232536366,-2.7408719339287417,-4.791459144490581,-4.814698907653348,-2.99861766814137,-1.3341140555263398,-2.2315884842389444,-2.916607354388135,-6.421283741299211,-0.3896128260330344,-2.0230315202550933,-2.212034181372854,-3.0132859677149475,-5.025141198101897,-2.5731346367242622,-0.2813504827848248,-0.29798421198328606,-1.5840205516158414,-0.8085336424385707,-2.3047371448461105,-2.9000811437395293,-2.310009477841595,-0.4134561277018632,-2.6291319893516607,-0.5737881892694576,-5.185027163891752,-5.261884440828483,-5.68855821609474,-4.916241527685402,-1.6707194306775102,-2.0773161400573303,-5.274036308547837,-6.187356403874742,-6.300657844083475,-5.607428566997683,-6.42062941151274,-2.3245976494119733,-6.343822700211952,-3.3238824328310344,-2.747939105607322,-2.55139762991033,-2.0942113382584635,-2.578602659500707,-2.4000627397102177,-3.504419819343667,-1.2248642139307016,-2.1692761147622597,-1.628569170490967,-0.7126174111042266,-1.1599234763899289,-1.0739045852934956,-5.029280504643872,-2.981528578287327,-2.6420572498206516,-1.0314102693220046,-3.6292069467675154,-1.8126287152074496,-1.8611033965350863,-3.367162501294729,-1.4733547230095492,-1.5857037719562892,-6.5240203969337305,-1.8258986986188752,-5.404661704787673,-3.415729585927918,-1.5600343822910925,-0.9188905670992339,-5.9398174082673725,-1.7959257171123646,-2.511041070637339,-2.7879617944459563,-2.9072823912127,-2.7938516775317432,-3.1347505361927697,-1.6753567897803023,-2.208102453584775,-0.9105755589650741,-4.184222454767267,-3.990205358461263,-0.9719511585526153,-2.4174913967900302,-1.2627528602385587,-3.4279351846933075,-3.8805087847048854,-4.219950400440811,-2.1263912709117996,-0.7331605897083454,-2.852833131250856,-4.647890066983858,-1.0274335474554317,-5.381416037026588,-1.4561011111269082,-5.417279192011546,-2.778455702819449,-6.181185789449938,-3.3515915912134466,-3.710083641566208,-5.975950155441114,-1.0613826798001469,-0.3922595317706647,-4.078123062456419,-4.037348540946314,-5.179585866912106,-3.008119554680834,-2.2961196247872016,-5.209303801844797,-4.6138590452807815,-0.7173637012234492,-2.416364593849085,-2.3772681243141913,-4.489896895179581,-5.691868632122054,-1.6751209250463908,-1.4264592761451989,-3.1982151671780583,-3.942169512806976,-4.170816912162904,-6.430149040201208,-4.500077833052151,-1.4648893428749648,-6.471122778764564,-3.1579210248267784,-3.5106870632012956,-2.2478646981366692,-5.745767841402307,-2.438721427148093,-1.9927108516601553,-5.142255612490548,-1.7599263424676965,-3.907666184858506,-1.0251154105470248,-4.56033368724341,-2.53732359617479,-3.9432081242224384,-4.221370772304575,-1.4983678913745255,-1.3860204767687865,-2.0975154902048017,-2.2877677921037605,-5.985372537701516,-1.3479389110214848,-6.464632329655821,-1.071908565055454,-2.0747555830304547,-4.676364153564176,-3.315170793579052,-3.9611971175781293,-2.017983807185444,-1.910848516398061,-2.9828167474219494,-2.7495340640581434,-0.369722075055892,-2.4164722315958986,-1.5562686507538774,-3.8128285595779814,-4.303030964347412,-2.5073338141516297,-2.2699722899958386,-2.3280821089855808,-2.5928808319006658,-1.416940262830121,-3.3840554622822525,-2.136340015662731,-6.3438495916334166,-4.88323290634343,-5.902734708567559,-1.0056676442958232,-2.258379316466329,-1.371544038812889,-2.6039466458735205,-5.0122297908327305,-0.5714332912125552,-2.9667963245327718,-3.0278306585123116,-1.907634013544159,-2.3104242504925407,-6.09112838866041,-1.1072975258139315,-0.8034578207343477,-2.3422625591970947,-3.6886158293993594,-3.035336744322362,-1.44163587519229],\"type\":\"scatter\",\"xaxis\":\"x5\",\"yaxis\":\"y5\"},{\"marker\":{\"color\":[0,1,2,3,4,5,6,7,8,9,10,11,12,13,14,15,16,17,18,19,20,21,22,23,24,25,26,27,28,29,30,31,32,33,34,35,36,37,38,39,40,41,42,43,44,45,46,47,48,49,50,51,52,53,54,55,56,57,58,59,60,61,62,63,64,65,66,67,68,69,70,71,72,73,74,75,76,77,78,79,80,81,82,83,84,85,86,87,88,89,90,91,92,93,94,95,96,97,98,99,100,101,102,103,104,105,106,107,108,109,110,111,112,113,114,115,116,117,118,119,120,121,122,123,124,125,126,127,128,129,130,131,132,133,134,135,136,137,138,139,140,141,142,143,144,145,146,147,148,149,150,151,152,153,154,155,156,157,158,159,160,161,162,163,164,165,166,167,168,169,170,171,172,173,174,175,176,177,178,179,180,181,182,183,184,185,186,187,188,189,190,191,192,193,194,195,196,197,198,199],\"colorbar\":{\"title\":{\"text\":\"Trial\"},\"x\":1.0,\"xpad\":40},\"colorscale\":[[0.0,\"rgb(247,251,255)\"],[0.125,\"rgb(222,235,247)\"],[0.25,\"rgb(198,219,239)\"],[0.375,\"rgb(158,202,225)\"],[0.5,\"rgb(107,174,214)\"],[0.625,\"rgb(66,146,198)\"],[0.75,\"rgb(33,113,181)\"],[0.875,\"rgb(8,81,156)\"],[1.0,\"rgb(8,48,107)\"]],\"line\":{\"color\":\"Grey\",\"width\":0.5},\"showscale\":false},\"mode\":\"markers\",\"name\":\"Feasible Trial\",\"showlegend\":false,\"x\":[437,737,489,563,374,696,638,421,104,661,207,197,306,268,837,391,356,540,670,114,407,317,899,697,393,319,275,433,866,992,829,817,358,294,565,727,960,204,256,871,449,162,833,259,873,906,669,545,657,988,800,207,301,599,140,418,716,880,973,1000,959,795,780,494,232,316,908,179,665,288,742,439,811,427,321,985,937,318,403,636,945,247,495,589,658,613,818,411,555,237,987,402,764,426,176,271,461,468,117,870,287,442,788,588,116,109,477,450,760,794,820,501,324,611,876,727,898,819,792,310,808,308,802,783,182,596,715,609,728,216,655,587,371,972,715,298,478,128,794,533,342,362,228,415,250,884,507,297,305,516,881,633,261,563,796,846,698,151,137,564,973,715,294,466,827,430,643,407,960,941,380,573,139,470,701,186,989,193,304,686,519,505,994,844,598,867,811,841,459,489,236,315,833,275,117,822,235,960,515,764],\"y\":[-2.3082287521521803,-2.758021048664968,-0.9776709996975494,-2.992133019586524,-2.9729744162701364,-3.571121149988587,-1.0149117576436941,-0.9038589045214731,-2.4772331547275166,-1.8308852594125953,-2.237828976561041,-2.170703831067944,-1.019004140458663,-2.6361637148279597,-2.1754313335950113,-1.8146189127043955,-2.504037158954837,-2.3681631232536366,-2.7408719339287417,-4.791459144490581,-4.814698907653348,-2.99861766814137,-1.3341140555263398,-2.2315884842389444,-2.916607354388135,-6.421283741299211,-0.3896128260330344,-2.0230315202550933,-2.212034181372854,-3.0132859677149475,-5.025141198101897,-2.5731346367242622,-0.2813504827848248,-0.29798421198328606,-1.5840205516158414,-0.8085336424385707,-2.3047371448461105,-2.9000811437395293,-2.310009477841595,-0.4134561277018632,-2.6291319893516607,-0.5737881892694576,-5.185027163891752,-5.261884440828483,-5.68855821609474,-4.916241527685402,-1.6707194306775102,-2.0773161400573303,-5.274036308547837,-6.187356403874742,-6.300657844083475,-5.607428566997683,-6.42062941151274,-2.3245976494119733,-6.343822700211952,-3.3238824328310344,-2.747939105607322,-2.55139762991033,-2.0942113382584635,-2.578602659500707,-2.4000627397102177,-3.504419819343667,-1.2248642139307016,-2.1692761147622597,-1.628569170490967,-0.7126174111042266,-1.1599234763899289,-1.0739045852934956,-5.029280504643872,-2.981528578287327,-2.6420572498206516,-1.0314102693220046,-3.6292069467675154,-1.8126287152074496,-1.8611033965350863,-3.367162501294729,-1.4733547230095492,-1.5857037719562892,-6.5240203969337305,-1.8258986986188752,-5.404661704787673,-3.415729585927918,-1.5600343822910925,-0.9188905670992339,-5.9398174082673725,-1.7959257171123646,-2.511041070637339,-2.7879617944459563,-2.9072823912127,-2.7938516775317432,-3.1347505361927697,-1.6753567897803023,-2.208102453584775,-0.9105755589650741,-4.184222454767267,-3.990205358461263,-0.9719511585526153,-2.4174913967900302,-1.2627528602385587,-3.4279351846933075,-3.8805087847048854,-4.219950400440811,-2.1263912709117996,-0.7331605897083454,-2.852833131250856,-4.647890066983858,-1.0274335474554317,-5.381416037026588,-1.4561011111269082,-5.417279192011546,-2.778455702819449,-6.181185789449938,-3.3515915912134466,-3.710083641566208,-5.975950155441114,-1.0613826798001469,-0.3922595317706647,-4.078123062456419,-4.037348540946314,-5.179585866912106,-3.008119554680834,-2.2961196247872016,-5.209303801844797,-4.6138590452807815,-0.7173637012234492,-2.416364593849085,-2.3772681243141913,-4.489896895179581,-5.691868632122054,-1.6751209250463908,-1.4264592761451989,-3.1982151671780583,-3.942169512806976,-4.170816912162904,-6.430149040201208,-4.500077833052151,-1.4648893428749648,-6.471122778764564,-3.1579210248267784,-3.5106870632012956,-2.2478646981366692,-5.745767841402307,-2.438721427148093,-1.9927108516601553,-5.142255612490548,-1.7599263424676965,-3.907666184858506,-1.0251154105470248,-4.56033368724341,-2.53732359617479,-3.9432081242224384,-4.221370772304575,-1.4983678913745255,-1.3860204767687865,-2.0975154902048017,-2.2877677921037605,-5.985372537701516,-1.3479389110214848,-6.464632329655821,-1.071908565055454,-2.0747555830304547,-4.676364153564176,-3.315170793579052,-3.9611971175781293,-2.017983807185444,-1.910848516398061,-2.9828167474219494,-2.7495340640581434,-0.369722075055892,-2.4164722315958986,-1.5562686507538774,-3.8128285595779814,-4.303030964347412,-2.5073338141516297,-2.2699722899958386,-2.3280821089855808,-2.5928808319006658,-1.416940262830121,-3.3840554622822525,-2.136340015662731,-6.3438495916334166,-4.88323290634343,-5.902734708567559,-1.0056676442958232,-2.258379316466329,-1.371544038812889,-2.6039466458735205,-5.0122297908327305,-0.5714332912125552,-2.9667963245327718,-3.0278306585123116,-1.907634013544159,-2.3104242504925407,-6.09112838866041,-1.1072975258139315,-0.8034578207343477,-2.3422625591970947,-3.6886158293993594,-3.035336744322362,-1.44163587519229],\"type\":\"scatter\",\"xaxis\":\"x6\",\"yaxis\":\"y6\"}],                        {\"template\":{\"data\":{\"histogram2dcontour\":[{\"type\":\"histogram2dcontour\",\"colorbar\":{\"outlinewidth\":0,\"ticks\":\"\"},\"colorscale\":[[0.0,\"#0d0887\"],[0.1111111111111111,\"#46039f\"],[0.2222222222222222,\"#7201a8\"],[0.3333333333333333,\"#9c179e\"],[0.4444444444444444,\"#bd3786\"],[0.5555555555555556,\"#d8576b\"],[0.6666666666666666,\"#ed7953\"],[0.7777777777777778,\"#fb9f3a\"],[0.8888888888888888,\"#fdca26\"],[1.0,\"#f0f921\"]]}],\"choropleth\":[{\"type\":\"choropleth\",\"colorbar\":{\"outlinewidth\":0,\"ticks\":\"\"}}],\"histogram2d\":[{\"type\":\"histogram2d\",\"colorbar\":{\"outlinewidth\":0,\"ticks\":\"\"},\"colorscale\":[[0.0,\"#0d0887\"],[0.1111111111111111,\"#46039f\"],[0.2222222222222222,\"#7201a8\"],[0.3333333333333333,\"#9c179e\"],[0.4444444444444444,\"#bd3786\"],[0.5555555555555556,\"#d8576b\"],[0.6666666666666666,\"#ed7953\"],[0.7777777777777778,\"#fb9f3a\"],[0.8888888888888888,\"#fdca26\"],[1.0,\"#f0f921\"]]}],\"heatmap\":[{\"type\":\"heatmap\",\"colorbar\":{\"outlinewidth\":0,\"ticks\":\"\"},\"colorscale\":[[0.0,\"#0d0887\"],[0.1111111111111111,\"#46039f\"],[0.2222222222222222,\"#7201a8\"],[0.3333333333333333,\"#9c179e\"],[0.4444444444444444,\"#bd3786\"],[0.5555555555555556,\"#d8576b\"],[0.6666666666666666,\"#ed7953\"],[0.7777777777777778,\"#fb9f3a\"],[0.8888888888888888,\"#fdca26\"],[1.0,\"#f0f921\"]]}],\"heatmapgl\":[{\"type\":\"heatmapgl\",\"colorbar\":{\"outlinewidth\":0,\"ticks\":\"\"},\"colorscale\":[[0.0,\"#0d0887\"],[0.1111111111111111,\"#46039f\"],[0.2222222222222222,\"#7201a8\"],[0.3333333333333333,\"#9c179e\"],[0.4444444444444444,\"#bd3786\"],[0.5555555555555556,\"#d8576b\"],[0.6666666666666666,\"#ed7953\"],[0.7777777777777778,\"#fb9f3a\"],[0.8888888888888888,\"#fdca26\"],[1.0,\"#f0f921\"]]}],\"contourcarpet\":[{\"type\":\"contourcarpet\",\"colorbar\":{\"outlinewidth\":0,\"ticks\":\"\"}}],\"contour\":[{\"type\":\"contour\",\"colorbar\":{\"outlinewidth\":0,\"ticks\":\"\"},\"colorscale\":[[0.0,\"#0d0887\"],[0.1111111111111111,\"#46039f\"],[0.2222222222222222,\"#7201a8\"],[0.3333333333333333,\"#9c179e\"],[0.4444444444444444,\"#bd3786\"],[0.5555555555555556,\"#d8576b\"],[0.6666666666666666,\"#ed7953\"],[0.7777777777777778,\"#fb9f3a\"],[0.8888888888888888,\"#fdca26\"],[1.0,\"#f0f921\"]]}],\"surface\":[{\"type\":\"surface\",\"colorbar\":{\"outlinewidth\":0,\"ticks\":\"\"},\"colorscale\":[[0.0,\"#0d0887\"],[0.1111111111111111,\"#46039f\"],[0.2222222222222222,\"#7201a8\"],[0.3333333333333333,\"#9c179e\"],[0.4444444444444444,\"#bd3786\"],[0.5555555555555556,\"#d8576b\"],[0.6666666666666666,\"#ed7953\"],[0.7777777777777778,\"#fb9f3a\"],[0.8888888888888888,\"#fdca26\"],[1.0,\"#f0f921\"]]}],\"mesh3d\":[{\"type\":\"mesh3d\",\"colorbar\":{\"outlinewidth\":0,\"ticks\":\"\"}}],\"scatter\":[{\"fillpattern\":{\"fillmode\":\"overlay\",\"size\":10,\"solidity\":0.2},\"type\":\"scatter\"}],\"parcoords\":[{\"type\":\"parcoords\",\"line\":{\"colorbar\":{\"outlinewidth\":0,\"ticks\":\"\"}}}],\"scatterpolargl\":[{\"type\":\"scatterpolargl\",\"marker\":{\"colorbar\":{\"outlinewidth\":0,\"ticks\":\"\"}}}],\"bar\":[{\"error_x\":{\"color\":\"#2a3f5f\"},\"error_y\":{\"color\":\"#2a3f5f\"},\"marker\":{\"line\":{\"color\":\"#E5ECF6\",\"width\":0.5},\"pattern\":{\"fillmode\":\"overlay\",\"size\":10,\"solidity\":0.2}},\"type\":\"bar\"}],\"scattergeo\":[{\"type\":\"scattergeo\",\"marker\":{\"colorbar\":{\"outlinewidth\":0,\"ticks\":\"\"}}}],\"scatterpolar\":[{\"type\":\"scatterpolar\",\"marker\":{\"colorbar\":{\"outlinewidth\":0,\"ticks\":\"\"}}}],\"histogram\":[{\"marker\":{\"pattern\":{\"fillmode\":\"overlay\",\"size\":10,\"solidity\":0.2}},\"type\":\"histogram\"}],\"scattergl\":[{\"type\":\"scattergl\",\"marker\":{\"colorbar\":{\"outlinewidth\":0,\"ticks\":\"\"}}}],\"scatter3d\":[{\"type\":\"scatter3d\",\"line\":{\"colorbar\":{\"outlinewidth\":0,\"ticks\":\"\"}},\"marker\":{\"colorbar\":{\"outlinewidth\":0,\"ticks\":\"\"}}}],\"scattermapbox\":[{\"type\":\"scattermapbox\",\"marker\":{\"colorbar\":{\"outlinewidth\":0,\"ticks\":\"\"}}}],\"scatterternary\":[{\"type\":\"scatterternary\",\"marker\":{\"colorbar\":{\"outlinewidth\":0,\"ticks\":\"\"}}}],\"scattercarpet\":[{\"type\":\"scattercarpet\",\"marker\":{\"colorbar\":{\"outlinewidth\":0,\"ticks\":\"\"}}}],\"carpet\":[{\"aaxis\":{\"endlinecolor\":\"#2a3f5f\",\"gridcolor\":\"white\",\"linecolor\":\"white\",\"minorgridcolor\":\"white\",\"startlinecolor\":\"#2a3f5f\"},\"baxis\":{\"endlinecolor\":\"#2a3f5f\",\"gridcolor\":\"white\",\"linecolor\":\"white\",\"minorgridcolor\":\"white\",\"startlinecolor\":\"#2a3f5f\"},\"type\":\"carpet\"}],\"table\":[{\"cells\":{\"fill\":{\"color\":\"#EBF0F8\"},\"line\":{\"color\":\"white\"}},\"header\":{\"fill\":{\"color\":\"#C8D4E3\"},\"line\":{\"color\":\"white\"}},\"type\":\"table\"}],\"barpolar\":[{\"marker\":{\"line\":{\"color\":\"#E5ECF6\",\"width\":0.5},\"pattern\":{\"fillmode\":\"overlay\",\"size\":10,\"solidity\":0.2}},\"type\":\"barpolar\"}],\"pie\":[{\"automargin\":true,\"type\":\"pie\"}]},\"layout\":{\"autotypenumbers\":\"strict\",\"colorway\":[\"#636efa\",\"#EF553B\",\"#00cc96\",\"#ab63fa\",\"#FFA15A\",\"#19d3f3\",\"#FF6692\",\"#B6E880\",\"#FF97FF\",\"#FECB52\"],\"font\":{\"color\":\"#2a3f5f\"},\"hovermode\":\"closest\",\"hoverlabel\":{\"align\":\"left\"},\"paper_bgcolor\":\"white\",\"plot_bgcolor\":\"#E5ECF6\",\"polar\":{\"bgcolor\":\"#E5ECF6\",\"angularaxis\":{\"gridcolor\":\"white\",\"linecolor\":\"white\",\"ticks\":\"\"},\"radialaxis\":{\"gridcolor\":\"white\",\"linecolor\":\"white\",\"ticks\":\"\"}},\"ternary\":{\"bgcolor\":\"#E5ECF6\",\"aaxis\":{\"gridcolor\":\"white\",\"linecolor\":\"white\",\"ticks\":\"\"},\"baxis\":{\"gridcolor\":\"white\",\"linecolor\":\"white\",\"ticks\":\"\"},\"caxis\":{\"gridcolor\":\"white\",\"linecolor\":\"white\",\"ticks\":\"\"}},\"coloraxis\":{\"colorbar\":{\"outlinewidth\":0,\"ticks\":\"\"}},\"colorscale\":{\"sequential\":[[0.0,\"#0d0887\"],[0.1111111111111111,\"#46039f\"],[0.2222222222222222,\"#7201a8\"],[0.3333333333333333,\"#9c179e\"],[0.4444444444444444,\"#bd3786\"],[0.5555555555555556,\"#d8576b\"],[0.6666666666666666,\"#ed7953\"],[0.7777777777777778,\"#fb9f3a\"],[0.8888888888888888,\"#fdca26\"],[1.0,\"#f0f921\"]],\"sequentialminus\":[[0.0,\"#0d0887\"],[0.1111111111111111,\"#46039f\"],[0.2222222222222222,\"#7201a8\"],[0.3333333333333333,\"#9c179e\"],[0.4444444444444444,\"#bd3786\"],[0.5555555555555556,\"#d8576b\"],[0.6666666666666666,\"#ed7953\"],[0.7777777777777778,\"#fb9f3a\"],[0.8888888888888888,\"#fdca26\"],[1.0,\"#f0f921\"]],\"diverging\":[[0,\"#8e0152\"],[0.1,\"#c51b7d\"],[0.2,\"#de77ae\"],[0.3,\"#f1b6da\"],[0.4,\"#fde0ef\"],[0.5,\"#f7f7f7\"],[0.6,\"#e6f5d0\"],[0.7,\"#b8e186\"],[0.8,\"#7fbc41\"],[0.9,\"#4d9221\"],[1,\"#276419\"]]},\"xaxis\":{\"gridcolor\":\"white\",\"linecolor\":\"white\",\"ticks\":\"\",\"title\":{\"standoff\":15},\"zerolinecolor\":\"white\",\"automargin\":true,\"zerolinewidth\":2},\"yaxis\":{\"gridcolor\":\"white\",\"linecolor\":\"white\",\"ticks\":\"\",\"title\":{\"standoff\":15},\"zerolinecolor\":\"white\",\"automargin\":true,\"zerolinewidth\":2},\"scene\":{\"xaxis\":{\"backgroundcolor\":\"#E5ECF6\",\"gridcolor\":\"white\",\"linecolor\":\"white\",\"showbackground\":true,\"ticks\":\"\",\"zerolinecolor\":\"white\",\"gridwidth\":2},\"yaxis\":{\"backgroundcolor\":\"#E5ECF6\",\"gridcolor\":\"white\",\"linecolor\":\"white\",\"showbackground\":true,\"ticks\":\"\",\"zerolinecolor\":\"white\",\"gridwidth\":2},\"zaxis\":{\"backgroundcolor\":\"#E5ECF6\",\"gridcolor\":\"white\",\"linecolor\":\"white\",\"showbackground\":true,\"ticks\":\"\",\"zerolinecolor\":\"white\",\"gridwidth\":2}},\"shapedefaults\":{\"line\":{\"color\":\"#2a3f5f\"}},\"annotationdefaults\":{\"arrowcolor\":\"#2a3f5f\",\"arrowhead\":0,\"arrowwidth\":1},\"geo\":{\"bgcolor\":\"white\",\"landcolor\":\"#E5ECF6\",\"subunitcolor\":\"white\",\"showland\":true,\"showlakes\":true,\"lakecolor\":\"white\"},\"title\":{\"x\":0.05},\"mapbox\":{\"style\":\"light\"}}},\"xaxis\":{\"anchor\":\"y\",\"domain\":[0.0,0.1388888888888889],\"title\":{\"text\":\"criterion\"},\"type\":\"category\",\"categoryorder\":\"array\",\"categoryarray\":[\"mse\",\"mae\"]},\"yaxis\":{\"anchor\":\"x\",\"domain\":[0.0,1.0],\"title\":{\"text\":\"Objective Value\"}},\"xaxis2\":{\"anchor\":\"y2\",\"domain\":[0.17222222222222222,0.3111111111111111],\"title\":{\"text\":\"max_depth\"}},\"yaxis2\":{\"anchor\":\"x2\",\"domain\":[0.0,1.0],\"matches\":\"y\",\"showticklabels\":false},\"xaxis3\":{\"anchor\":\"y3\",\"domain\":[0.34444444444444444,0.48333333333333334],\"title\":{\"text\":\"max_features\"},\"type\":\"category\",\"categoryorder\":\"array\",\"categoryarray\":[\"auto\",\"sqrt\",\"log2\"]},\"yaxis3\":{\"anchor\":\"x3\",\"domain\":[0.0,1.0],\"matches\":\"y\",\"showticklabels\":false},\"xaxis4\":{\"anchor\":\"y4\",\"domain\":[0.5166666666666667,0.6555555555555557],\"title\":{\"text\":\"min_samples_leaf\"}},\"yaxis4\":{\"anchor\":\"x4\",\"domain\":[0.0,1.0],\"matches\":\"y\",\"showticklabels\":false},\"xaxis5\":{\"anchor\":\"y5\",\"domain\":[0.6888888888888889,0.8277777777777777],\"title\":{\"text\":\"min_samples_split\"}},\"yaxis5\":{\"anchor\":\"x5\",\"domain\":[0.0,1.0],\"matches\":\"y\",\"showticklabels\":false},\"xaxis6\":{\"anchor\":\"y6\",\"domain\":[0.861111111111111,1.0],\"title\":{\"text\":\"n_estimators\"}},\"yaxis6\":{\"anchor\":\"x6\",\"domain\":[0.0,1.0],\"matches\":\"y\",\"showticklabels\":false},\"title\":{\"text\":\"Slice Plot\"},\"width\":1800},                        {\"responsive\": true}                    ).then(function(){\n",
       "                            \n",
       "var gd = document.getElementById('710143d9-ae00-4a8c-b686-d2980837c04c');\n",
       "var x = new MutationObserver(function (mutations, observer) {{\n",
       "        var display = window.getComputedStyle(gd).display;\n",
       "        if (!display || display === 'none') {{\n",
       "            console.log([gd, 'removed!']);\n",
       "            Plotly.purge(gd);\n",
       "            observer.disconnect();\n",
       "        }}\n",
       "}});\n",
       "\n",
       "// Listen for the removal of the full notebook cells\n",
       "var notebookContainer = gd.closest('#notebook-container');\n",
       "if (notebookContainer) {{\n",
       "    x.observe(notebookContainer, {childList: true});\n",
       "}}\n",
       "\n",
       "// Listen for the clearing of the current output cell\n",
       "var outputEl = gd.closest('.output');\n",
       "if (outputEl) {{\n",
       "    x.observe(outputEl, {childList: true});\n",
       "}}\n",
       "\n",
       "                        })                };                });            </script>        </div>"
      ]
     },
     "metadata": {},
     "output_type": "display_data"
    }
   ],
   "source": [
    "optuna.visualization.plot_slice(study, params = ['n_estimators',\n",
    "                                                 'max_depth',\n",
    "                                                 'min_samples_split',\n",
    "                                                 'min_samples_leaf',\n",
    "                                                 'max_features',\n",
    "                                                 'criterion',])"
   ]
  },
  {
   "cell_type": "markdown",
   "id": "23cbf6f9",
   "metadata": {},
   "source": [
    "### Hyperparameter Importances"
   ]
  },
  {
   "cell_type": "markdown",
   "id": "efff888e",
   "metadata": {},
   "source": [
    "This plot can provide valuable insights into **which hyperparameters had the most significant impact on the objective function** and the overall model performance. "
   ]
  },
  {
   "cell_type": "code",
   "execution_count": 141,
   "id": "01b89e4b",
   "metadata": {},
   "outputs": [
    {
     "data": {
      "application/vnd.plotly.v1+json": {
       "config": {
        "plotlyServerURL": "https://plot.ly"
       },
       "data": [
        {
         "cliponaxis": false,
         "hovertemplate": [
          "criterion (CategoricalDistribution): 2.0920021439173556e-05<extra></extra>",
          "max_depth (IntDistribution): 0.00010494690820780457<extra></extra>",
          "n_estimators (IntDistribution): 0.0001810373312864689<extra></extra>",
          "min_samples_split (IntDistribution): 0.0021789460133924033<extra></extra>",
          "max_features (CategoricalDistribution): 0.1521506863247208<extra></extra>",
          "min_samples_leaf (IntDistribution): 0.8453634634009531<extra></extra>"
         ],
         "name": "Objective Value",
         "orientation": "h",
         "text": [
          "<0.01",
          "<0.01",
          "<0.01",
          "<0.01",
          "0.15",
          "0.85"
         ],
         "textposition": "outside",
         "type": "bar",
         "x": [
          2.0920021439173556e-05,
          0.00010494690820780457,
          0.0001810373312864689,
          0.0021789460133924033,
          0.1521506863247208,
          0.8453634634009531
         ],
         "y": [
          "criterion",
          "max_depth",
          "n_estimators",
          "min_samples_split",
          "max_features",
          "min_samples_leaf"
         ]
        }
       ],
       "layout": {
        "template": {
         "data": {
          "bar": [
           {
            "error_x": {
             "color": "#2a3f5f"
            },
            "error_y": {
             "color": "#2a3f5f"
            },
            "marker": {
             "line": {
              "color": "#E5ECF6",
              "width": 0.5
             },
             "pattern": {
              "fillmode": "overlay",
              "size": 10,
              "solidity": 0.2
             }
            },
            "type": "bar"
           }
          ],
          "barpolar": [
           {
            "marker": {
             "line": {
              "color": "#E5ECF6",
              "width": 0.5
             },
             "pattern": {
              "fillmode": "overlay",
              "size": 10,
              "solidity": 0.2
             }
            },
            "type": "barpolar"
           }
          ],
          "carpet": [
           {
            "aaxis": {
             "endlinecolor": "#2a3f5f",
             "gridcolor": "white",
             "linecolor": "white",
             "minorgridcolor": "white",
             "startlinecolor": "#2a3f5f"
            },
            "baxis": {
             "endlinecolor": "#2a3f5f",
             "gridcolor": "white",
             "linecolor": "white",
             "minorgridcolor": "white",
             "startlinecolor": "#2a3f5f"
            },
            "type": "carpet"
           }
          ],
          "choropleth": [
           {
            "colorbar": {
             "outlinewidth": 0,
             "ticks": ""
            },
            "type": "choropleth"
           }
          ],
          "contour": [
           {
            "colorbar": {
             "outlinewidth": 0,
             "ticks": ""
            },
            "colorscale": [
             [
              0,
              "#0d0887"
             ],
             [
              0.1111111111111111,
              "#46039f"
             ],
             [
              0.2222222222222222,
              "#7201a8"
             ],
             [
              0.3333333333333333,
              "#9c179e"
             ],
             [
              0.4444444444444444,
              "#bd3786"
             ],
             [
              0.5555555555555556,
              "#d8576b"
             ],
             [
              0.6666666666666666,
              "#ed7953"
             ],
             [
              0.7777777777777778,
              "#fb9f3a"
             ],
             [
              0.8888888888888888,
              "#fdca26"
             ],
             [
              1,
              "#f0f921"
             ]
            ],
            "type": "contour"
           }
          ],
          "contourcarpet": [
           {
            "colorbar": {
             "outlinewidth": 0,
             "ticks": ""
            },
            "type": "contourcarpet"
           }
          ],
          "heatmap": [
           {
            "colorbar": {
             "outlinewidth": 0,
             "ticks": ""
            },
            "colorscale": [
             [
              0,
              "#0d0887"
             ],
             [
              0.1111111111111111,
              "#46039f"
             ],
             [
              0.2222222222222222,
              "#7201a8"
             ],
             [
              0.3333333333333333,
              "#9c179e"
             ],
             [
              0.4444444444444444,
              "#bd3786"
             ],
             [
              0.5555555555555556,
              "#d8576b"
             ],
             [
              0.6666666666666666,
              "#ed7953"
             ],
             [
              0.7777777777777778,
              "#fb9f3a"
             ],
             [
              0.8888888888888888,
              "#fdca26"
             ],
             [
              1,
              "#f0f921"
             ]
            ],
            "type": "heatmap"
           }
          ],
          "heatmapgl": [
           {
            "colorbar": {
             "outlinewidth": 0,
             "ticks": ""
            },
            "colorscale": [
             [
              0,
              "#0d0887"
             ],
             [
              0.1111111111111111,
              "#46039f"
             ],
             [
              0.2222222222222222,
              "#7201a8"
             ],
             [
              0.3333333333333333,
              "#9c179e"
             ],
             [
              0.4444444444444444,
              "#bd3786"
             ],
             [
              0.5555555555555556,
              "#d8576b"
             ],
             [
              0.6666666666666666,
              "#ed7953"
             ],
             [
              0.7777777777777778,
              "#fb9f3a"
             ],
             [
              0.8888888888888888,
              "#fdca26"
             ],
             [
              1,
              "#f0f921"
             ]
            ],
            "type": "heatmapgl"
           }
          ],
          "histogram": [
           {
            "marker": {
             "pattern": {
              "fillmode": "overlay",
              "size": 10,
              "solidity": 0.2
             }
            },
            "type": "histogram"
           }
          ],
          "histogram2d": [
           {
            "colorbar": {
             "outlinewidth": 0,
             "ticks": ""
            },
            "colorscale": [
             [
              0,
              "#0d0887"
             ],
             [
              0.1111111111111111,
              "#46039f"
             ],
             [
              0.2222222222222222,
              "#7201a8"
             ],
             [
              0.3333333333333333,
              "#9c179e"
             ],
             [
              0.4444444444444444,
              "#bd3786"
             ],
             [
              0.5555555555555556,
              "#d8576b"
             ],
             [
              0.6666666666666666,
              "#ed7953"
             ],
             [
              0.7777777777777778,
              "#fb9f3a"
             ],
             [
              0.8888888888888888,
              "#fdca26"
             ],
             [
              1,
              "#f0f921"
             ]
            ],
            "type": "histogram2d"
           }
          ],
          "histogram2dcontour": [
           {
            "colorbar": {
             "outlinewidth": 0,
             "ticks": ""
            },
            "colorscale": [
             [
              0,
              "#0d0887"
             ],
             [
              0.1111111111111111,
              "#46039f"
             ],
             [
              0.2222222222222222,
              "#7201a8"
             ],
             [
              0.3333333333333333,
              "#9c179e"
             ],
             [
              0.4444444444444444,
              "#bd3786"
             ],
             [
              0.5555555555555556,
              "#d8576b"
             ],
             [
              0.6666666666666666,
              "#ed7953"
             ],
             [
              0.7777777777777778,
              "#fb9f3a"
             ],
             [
              0.8888888888888888,
              "#fdca26"
             ],
             [
              1,
              "#f0f921"
             ]
            ],
            "type": "histogram2dcontour"
           }
          ],
          "mesh3d": [
           {
            "colorbar": {
             "outlinewidth": 0,
             "ticks": ""
            },
            "type": "mesh3d"
           }
          ],
          "parcoords": [
           {
            "line": {
             "colorbar": {
              "outlinewidth": 0,
              "ticks": ""
             }
            },
            "type": "parcoords"
           }
          ],
          "pie": [
           {
            "automargin": true,
            "type": "pie"
           }
          ],
          "scatter": [
           {
            "fillpattern": {
             "fillmode": "overlay",
             "size": 10,
             "solidity": 0.2
            },
            "type": "scatter"
           }
          ],
          "scatter3d": [
           {
            "line": {
             "colorbar": {
              "outlinewidth": 0,
              "ticks": ""
             }
            },
            "marker": {
             "colorbar": {
              "outlinewidth": 0,
              "ticks": ""
             }
            },
            "type": "scatter3d"
           }
          ],
          "scattercarpet": [
           {
            "marker": {
             "colorbar": {
              "outlinewidth": 0,
              "ticks": ""
             }
            },
            "type": "scattercarpet"
           }
          ],
          "scattergeo": [
           {
            "marker": {
             "colorbar": {
              "outlinewidth": 0,
              "ticks": ""
             }
            },
            "type": "scattergeo"
           }
          ],
          "scattergl": [
           {
            "marker": {
             "colorbar": {
              "outlinewidth": 0,
              "ticks": ""
             }
            },
            "type": "scattergl"
           }
          ],
          "scattermapbox": [
           {
            "marker": {
             "colorbar": {
              "outlinewidth": 0,
              "ticks": ""
             }
            },
            "type": "scattermapbox"
           }
          ],
          "scatterpolar": [
           {
            "marker": {
             "colorbar": {
              "outlinewidth": 0,
              "ticks": ""
             }
            },
            "type": "scatterpolar"
           }
          ],
          "scatterpolargl": [
           {
            "marker": {
             "colorbar": {
              "outlinewidth": 0,
              "ticks": ""
             }
            },
            "type": "scatterpolargl"
           }
          ],
          "scatterternary": [
           {
            "marker": {
             "colorbar": {
              "outlinewidth": 0,
              "ticks": ""
             }
            },
            "type": "scatterternary"
           }
          ],
          "surface": [
           {
            "colorbar": {
             "outlinewidth": 0,
             "ticks": ""
            },
            "colorscale": [
             [
              0,
              "#0d0887"
             ],
             [
              0.1111111111111111,
              "#46039f"
             ],
             [
              0.2222222222222222,
              "#7201a8"
             ],
             [
              0.3333333333333333,
              "#9c179e"
             ],
             [
              0.4444444444444444,
              "#bd3786"
             ],
             [
              0.5555555555555556,
              "#d8576b"
             ],
             [
              0.6666666666666666,
              "#ed7953"
             ],
             [
              0.7777777777777778,
              "#fb9f3a"
             ],
             [
              0.8888888888888888,
              "#fdca26"
             ],
             [
              1,
              "#f0f921"
             ]
            ],
            "type": "surface"
           }
          ],
          "table": [
           {
            "cells": {
             "fill": {
              "color": "#EBF0F8"
             },
             "line": {
              "color": "white"
             }
            },
            "header": {
             "fill": {
              "color": "#C8D4E3"
             },
             "line": {
              "color": "white"
             }
            },
            "type": "table"
           }
          ]
         },
         "layout": {
          "annotationdefaults": {
           "arrowcolor": "#2a3f5f",
           "arrowhead": 0,
           "arrowwidth": 1
          },
          "autotypenumbers": "strict",
          "coloraxis": {
           "colorbar": {
            "outlinewidth": 0,
            "ticks": ""
           }
          },
          "colorscale": {
           "diverging": [
            [
             0,
             "#8e0152"
            ],
            [
             0.1,
             "#c51b7d"
            ],
            [
             0.2,
             "#de77ae"
            ],
            [
             0.3,
             "#f1b6da"
            ],
            [
             0.4,
             "#fde0ef"
            ],
            [
             0.5,
             "#f7f7f7"
            ],
            [
             0.6,
             "#e6f5d0"
            ],
            [
             0.7,
             "#b8e186"
            ],
            [
             0.8,
             "#7fbc41"
            ],
            [
             0.9,
             "#4d9221"
            ],
            [
             1,
             "#276419"
            ]
           ],
           "sequential": [
            [
             0,
             "#0d0887"
            ],
            [
             0.1111111111111111,
             "#46039f"
            ],
            [
             0.2222222222222222,
             "#7201a8"
            ],
            [
             0.3333333333333333,
             "#9c179e"
            ],
            [
             0.4444444444444444,
             "#bd3786"
            ],
            [
             0.5555555555555556,
             "#d8576b"
            ],
            [
             0.6666666666666666,
             "#ed7953"
            ],
            [
             0.7777777777777778,
             "#fb9f3a"
            ],
            [
             0.8888888888888888,
             "#fdca26"
            ],
            [
             1,
             "#f0f921"
            ]
           ],
           "sequentialminus": [
            [
             0,
             "#0d0887"
            ],
            [
             0.1111111111111111,
             "#46039f"
            ],
            [
             0.2222222222222222,
             "#7201a8"
            ],
            [
             0.3333333333333333,
             "#9c179e"
            ],
            [
             0.4444444444444444,
             "#bd3786"
            ],
            [
             0.5555555555555556,
             "#d8576b"
            ],
            [
             0.6666666666666666,
             "#ed7953"
            ],
            [
             0.7777777777777778,
             "#fb9f3a"
            ],
            [
             0.8888888888888888,
             "#fdca26"
            ],
            [
             1,
             "#f0f921"
            ]
           ]
          },
          "colorway": [
           "#636efa",
           "#EF553B",
           "#00cc96",
           "#ab63fa",
           "#FFA15A",
           "#19d3f3",
           "#FF6692",
           "#B6E880",
           "#FF97FF",
           "#FECB52"
          ],
          "font": {
           "color": "#2a3f5f"
          },
          "geo": {
           "bgcolor": "white",
           "lakecolor": "white",
           "landcolor": "#E5ECF6",
           "showlakes": true,
           "showland": true,
           "subunitcolor": "white"
          },
          "hoverlabel": {
           "align": "left"
          },
          "hovermode": "closest",
          "mapbox": {
           "style": "light"
          },
          "paper_bgcolor": "white",
          "plot_bgcolor": "#E5ECF6",
          "polar": {
           "angularaxis": {
            "gridcolor": "white",
            "linecolor": "white",
            "ticks": ""
           },
           "bgcolor": "#E5ECF6",
           "radialaxis": {
            "gridcolor": "white",
            "linecolor": "white",
            "ticks": ""
           }
          },
          "scene": {
           "xaxis": {
            "backgroundcolor": "#E5ECF6",
            "gridcolor": "white",
            "gridwidth": 2,
            "linecolor": "white",
            "showbackground": true,
            "ticks": "",
            "zerolinecolor": "white"
           },
           "yaxis": {
            "backgroundcolor": "#E5ECF6",
            "gridcolor": "white",
            "gridwidth": 2,
            "linecolor": "white",
            "showbackground": true,
            "ticks": "",
            "zerolinecolor": "white"
           },
           "zaxis": {
            "backgroundcolor": "#E5ECF6",
            "gridcolor": "white",
            "gridwidth": 2,
            "linecolor": "white",
            "showbackground": true,
            "ticks": "",
            "zerolinecolor": "white"
           }
          },
          "shapedefaults": {
           "line": {
            "color": "#2a3f5f"
           }
          },
          "ternary": {
           "aaxis": {
            "gridcolor": "white",
            "linecolor": "white",
            "ticks": ""
           },
           "baxis": {
            "gridcolor": "white",
            "linecolor": "white",
            "ticks": ""
           },
           "bgcolor": "#E5ECF6",
           "caxis": {
            "gridcolor": "white",
            "linecolor": "white",
            "ticks": ""
           }
          },
          "title": {
           "x": 0.05
          },
          "xaxis": {
           "automargin": true,
           "gridcolor": "white",
           "linecolor": "white",
           "ticks": "",
           "title": {
            "standoff": 15
           },
           "zerolinecolor": "white",
           "zerolinewidth": 2
          },
          "yaxis": {
           "automargin": true,
           "gridcolor": "white",
           "linecolor": "white",
           "ticks": "",
           "title": {
            "standoff": 15
           },
           "zerolinecolor": "white",
           "zerolinewidth": 2
          }
         }
        },
        "title": {
         "text": "Hyperparameter Importances"
        },
        "xaxis": {
         "title": {
          "text": "Hyperparameter Importance"
         }
        },
        "yaxis": {
         "title": {
          "text": "Hyperparameter"
         }
        }
       }
      },
      "text/html": [
       "<div>                            <div id=\"83250823-3b99-4df5-b347-8102bb21acc2\" class=\"plotly-graph-div\" style=\"height:525px; width:100%;\"></div>            <script type=\"text/javascript\">                require([\"plotly\"], function(Plotly) {                    window.PLOTLYENV=window.PLOTLYENV || {};                                    if (document.getElementById(\"83250823-3b99-4df5-b347-8102bb21acc2\")) {                    Plotly.newPlot(                        \"83250823-3b99-4df5-b347-8102bb21acc2\",                        [{\"cliponaxis\":false,\"hovertemplate\":[\"criterion (CategoricalDistribution): 2.0920021439173556e-05\\u003cextra\\u003e\\u003c\\u002fextra\\u003e\",\"max_depth (IntDistribution): 0.00010494690820780457\\u003cextra\\u003e\\u003c\\u002fextra\\u003e\",\"n_estimators (IntDistribution): 0.0001810373312864689\\u003cextra\\u003e\\u003c\\u002fextra\\u003e\",\"min_samples_split (IntDistribution): 0.0021789460133924033\\u003cextra\\u003e\\u003c\\u002fextra\\u003e\",\"max_features (CategoricalDistribution): 0.1521506863247208\\u003cextra\\u003e\\u003c\\u002fextra\\u003e\",\"min_samples_leaf (IntDistribution): 0.8453634634009531\\u003cextra\\u003e\\u003c\\u002fextra\\u003e\"],\"name\":\"Objective Value\",\"orientation\":\"h\",\"text\":[\"\\u003c0.01\",\"\\u003c0.01\",\"\\u003c0.01\",\"\\u003c0.01\",\"0.15\",\"0.85\"],\"textposition\":\"outside\",\"x\":[2.0920021439173556e-05,0.00010494690820780457,0.0001810373312864689,0.0021789460133924033,0.1521506863247208,0.8453634634009531],\"y\":[\"criterion\",\"max_depth\",\"n_estimators\",\"min_samples_split\",\"max_features\",\"min_samples_leaf\"],\"type\":\"bar\"}],                        {\"title\":{\"text\":\"Hyperparameter Importances\"},\"xaxis\":{\"title\":{\"text\":\"Hyperparameter Importance\"}},\"yaxis\":{\"title\":{\"text\":\"Hyperparameter\"}},\"template\":{\"data\":{\"histogram2dcontour\":[{\"type\":\"histogram2dcontour\",\"colorbar\":{\"outlinewidth\":0,\"ticks\":\"\"},\"colorscale\":[[0.0,\"#0d0887\"],[0.1111111111111111,\"#46039f\"],[0.2222222222222222,\"#7201a8\"],[0.3333333333333333,\"#9c179e\"],[0.4444444444444444,\"#bd3786\"],[0.5555555555555556,\"#d8576b\"],[0.6666666666666666,\"#ed7953\"],[0.7777777777777778,\"#fb9f3a\"],[0.8888888888888888,\"#fdca26\"],[1.0,\"#f0f921\"]]}],\"choropleth\":[{\"type\":\"choropleth\",\"colorbar\":{\"outlinewidth\":0,\"ticks\":\"\"}}],\"histogram2d\":[{\"type\":\"histogram2d\",\"colorbar\":{\"outlinewidth\":0,\"ticks\":\"\"},\"colorscale\":[[0.0,\"#0d0887\"],[0.1111111111111111,\"#46039f\"],[0.2222222222222222,\"#7201a8\"],[0.3333333333333333,\"#9c179e\"],[0.4444444444444444,\"#bd3786\"],[0.5555555555555556,\"#d8576b\"],[0.6666666666666666,\"#ed7953\"],[0.7777777777777778,\"#fb9f3a\"],[0.8888888888888888,\"#fdca26\"],[1.0,\"#f0f921\"]]}],\"heatmap\":[{\"type\":\"heatmap\",\"colorbar\":{\"outlinewidth\":0,\"ticks\":\"\"},\"colorscale\":[[0.0,\"#0d0887\"],[0.1111111111111111,\"#46039f\"],[0.2222222222222222,\"#7201a8\"],[0.3333333333333333,\"#9c179e\"],[0.4444444444444444,\"#bd3786\"],[0.5555555555555556,\"#d8576b\"],[0.6666666666666666,\"#ed7953\"],[0.7777777777777778,\"#fb9f3a\"],[0.8888888888888888,\"#fdca26\"],[1.0,\"#f0f921\"]]}],\"heatmapgl\":[{\"type\":\"heatmapgl\",\"colorbar\":{\"outlinewidth\":0,\"ticks\":\"\"},\"colorscale\":[[0.0,\"#0d0887\"],[0.1111111111111111,\"#46039f\"],[0.2222222222222222,\"#7201a8\"],[0.3333333333333333,\"#9c179e\"],[0.4444444444444444,\"#bd3786\"],[0.5555555555555556,\"#d8576b\"],[0.6666666666666666,\"#ed7953\"],[0.7777777777777778,\"#fb9f3a\"],[0.8888888888888888,\"#fdca26\"],[1.0,\"#f0f921\"]]}],\"contourcarpet\":[{\"type\":\"contourcarpet\",\"colorbar\":{\"outlinewidth\":0,\"ticks\":\"\"}}],\"contour\":[{\"type\":\"contour\",\"colorbar\":{\"outlinewidth\":0,\"ticks\":\"\"},\"colorscale\":[[0.0,\"#0d0887\"],[0.1111111111111111,\"#46039f\"],[0.2222222222222222,\"#7201a8\"],[0.3333333333333333,\"#9c179e\"],[0.4444444444444444,\"#bd3786\"],[0.5555555555555556,\"#d8576b\"],[0.6666666666666666,\"#ed7953\"],[0.7777777777777778,\"#fb9f3a\"],[0.8888888888888888,\"#fdca26\"],[1.0,\"#f0f921\"]]}],\"surface\":[{\"type\":\"surface\",\"colorbar\":{\"outlinewidth\":0,\"ticks\":\"\"},\"colorscale\":[[0.0,\"#0d0887\"],[0.1111111111111111,\"#46039f\"],[0.2222222222222222,\"#7201a8\"],[0.3333333333333333,\"#9c179e\"],[0.4444444444444444,\"#bd3786\"],[0.5555555555555556,\"#d8576b\"],[0.6666666666666666,\"#ed7953\"],[0.7777777777777778,\"#fb9f3a\"],[0.8888888888888888,\"#fdca26\"],[1.0,\"#f0f921\"]]}],\"mesh3d\":[{\"type\":\"mesh3d\",\"colorbar\":{\"outlinewidth\":0,\"ticks\":\"\"}}],\"scatter\":[{\"fillpattern\":{\"fillmode\":\"overlay\",\"size\":10,\"solidity\":0.2},\"type\":\"scatter\"}],\"parcoords\":[{\"type\":\"parcoords\",\"line\":{\"colorbar\":{\"outlinewidth\":0,\"ticks\":\"\"}}}],\"scatterpolargl\":[{\"type\":\"scatterpolargl\",\"marker\":{\"colorbar\":{\"outlinewidth\":0,\"ticks\":\"\"}}}],\"bar\":[{\"error_x\":{\"color\":\"#2a3f5f\"},\"error_y\":{\"color\":\"#2a3f5f\"},\"marker\":{\"line\":{\"color\":\"#E5ECF6\",\"width\":0.5},\"pattern\":{\"fillmode\":\"overlay\",\"size\":10,\"solidity\":0.2}},\"type\":\"bar\"}],\"scattergeo\":[{\"type\":\"scattergeo\",\"marker\":{\"colorbar\":{\"outlinewidth\":0,\"ticks\":\"\"}}}],\"scatterpolar\":[{\"type\":\"scatterpolar\",\"marker\":{\"colorbar\":{\"outlinewidth\":0,\"ticks\":\"\"}}}],\"histogram\":[{\"marker\":{\"pattern\":{\"fillmode\":\"overlay\",\"size\":10,\"solidity\":0.2}},\"type\":\"histogram\"}],\"scattergl\":[{\"type\":\"scattergl\",\"marker\":{\"colorbar\":{\"outlinewidth\":0,\"ticks\":\"\"}}}],\"scatter3d\":[{\"type\":\"scatter3d\",\"line\":{\"colorbar\":{\"outlinewidth\":0,\"ticks\":\"\"}},\"marker\":{\"colorbar\":{\"outlinewidth\":0,\"ticks\":\"\"}}}],\"scattermapbox\":[{\"type\":\"scattermapbox\",\"marker\":{\"colorbar\":{\"outlinewidth\":0,\"ticks\":\"\"}}}],\"scatterternary\":[{\"type\":\"scatterternary\",\"marker\":{\"colorbar\":{\"outlinewidth\":0,\"ticks\":\"\"}}}],\"scattercarpet\":[{\"type\":\"scattercarpet\",\"marker\":{\"colorbar\":{\"outlinewidth\":0,\"ticks\":\"\"}}}],\"carpet\":[{\"aaxis\":{\"endlinecolor\":\"#2a3f5f\",\"gridcolor\":\"white\",\"linecolor\":\"white\",\"minorgridcolor\":\"white\",\"startlinecolor\":\"#2a3f5f\"},\"baxis\":{\"endlinecolor\":\"#2a3f5f\",\"gridcolor\":\"white\",\"linecolor\":\"white\",\"minorgridcolor\":\"white\",\"startlinecolor\":\"#2a3f5f\"},\"type\":\"carpet\"}],\"table\":[{\"cells\":{\"fill\":{\"color\":\"#EBF0F8\"},\"line\":{\"color\":\"white\"}},\"header\":{\"fill\":{\"color\":\"#C8D4E3\"},\"line\":{\"color\":\"white\"}},\"type\":\"table\"}],\"barpolar\":[{\"marker\":{\"line\":{\"color\":\"#E5ECF6\",\"width\":0.5},\"pattern\":{\"fillmode\":\"overlay\",\"size\":10,\"solidity\":0.2}},\"type\":\"barpolar\"}],\"pie\":[{\"automargin\":true,\"type\":\"pie\"}]},\"layout\":{\"autotypenumbers\":\"strict\",\"colorway\":[\"#636efa\",\"#EF553B\",\"#00cc96\",\"#ab63fa\",\"#FFA15A\",\"#19d3f3\",\"#FF6692\",\"#B6E880\",\"#FF97FF\",\"#FECB52\"],\"font\":{\"color\":\"#2a3f5f\"},\"hovermode\":\"closest\",\"hoverlabel\":{\"align\":\"left\"},\"paper_bgcolor\":\"white\",\"plot_bgcolor\":\"#E5ECF6\",\"polar\":{\"bgcolor\":\"#E5ECF6\",\"angularaxis\":{\"gridcolor\":\"white\",\"linecolor\":\"white\",\"ticks\":\"\"},\"radialaxis\":{\"gridcolor\":\"white\",\"linecolor\":\"white\",\"ticks\":\"\"}},\"ternary\":{\"bgcolor\":\"#E5ECF6\",\"aaxis\":{\"gridcolor\":\"white\",\"linecolor\":\"white\",\"ticks\":\"\"},\"baxis\":{\"gridcolor\":\"white\",\"linecolor\":\"white\",\"ticks\":\"\"},\"caxis\":{\"gridcolor\":\"white\",\"linecolor\":\"white\",\"ticks\":\"\"}},\"coloraxis\":{\"colorbar\":{\"outlinewidth\":0,\"ticks\":\"\"}},\"colorscale\":{\"sequential\":[[0.0,\"#0d0887\"],[0.1111111111111111,\"#46039f\"],[0.2222222222222222,\"#7201a8\"],[0.3333333333333333,\"#9c179e\"],[0.4444444444444444,\"#bd3786\"],[0.5555555555555556,\"#d8576b\"],[0.6666666666666666,\"#ed7953\"],[0.7777777777777778,\"#fb9f3a\"],[0.8888888888888888,\"#fdca26\"],[1.0,\"#f0f921\"]],\"sequentialminus\":[[0.0,\"#0d0887\"],[0.1111111111111111,\"#46039f\"],[0.2222222222222222,\"#7201a8\"],[0.3333333333333333,\"#9c179e\"],[0.4444444444444444,\"#bd3786\"],[0.5555555555555556,\"#d8576b\"],[0.6666666666666666,\"#ed7953\"],[0.7777777777777778,\"#fb9f3a\"],[0.8888888888888888,\"#fdca26\"],[1.0,\"#f0f921\"]],\"diverging\":[[0,\"#8e0152\"],[0.1,\"#c51b7d\"],[0.2,\"#de77ae\"],[0.3,\"#f1b6da\"],[0.4,\"#fde0ef\"],[0.5,\"#f7f7f7\"],[0.6,\"#e6f5d0\"],[0.7,\"#b8e186\"],[0.8,\"#7fbc41\"],[0.9,\"#4d9221\"],[1,\"#276419\"]]},\"xaxis\":{\"gridcolor\":\"white\",\"linecolor\":\"white\",\"ticks\":\"\",\"title\":{\"standoff\":15},\"zerolinecolor\":\"white\",\"automargin\":true,\"zerolinewidth\":2},\"yaxis\":{\"gridcolor\":\"white\",\"linecolor\":\"white\",\"ticks\":\"\",\"title\":{\"standoff\":15},\"zerolinecolor\":\"white\",\"automargin\":true,\"zerolinewidth\":2},\"scene\":{\"xaxis\":{\"backgroundcolor\":\"#E5ECF6\",\"gridcolor\":\"white\",\"linecolor\":\"white\",\"showbackground\":true,\"ticks\":\"\",\"zerolinecolor\":\"white\",\"gridwidth\":2},\"yaxis\":{\"backgroundcolor\":\"#E5ECF6\",\"gridcolor\":\"white\",\"linecolor\":\"white\",\"showbackground\":true,\"ticks\":\"\",\"zerolinecolor\":\"white\",\"gridwidth\":2},\"zaxis\":{\"backgroundcolor\":\"#E5ECF6\",\"gridcolor\":\"white\",\"linecolor\":\"white\",\"showbackground\":true,\"ticks\":\"\",\"zerolinecolor\":\"white\",\"gridwidth\":2}},\"shapedefaults\":{\"line\":{\"color\":\"#2a3f5f\"}},\"annotationdefaults\":{\"arrowcolor\":\"#2a3f5f\",\"arrowhead\":0,\"arrowwidth\":1},\"geo\":{\"bgcolor\":\"white\",\"landcolor\":\"#E5ECF6\",\"subunitcolor\":\"white\",\"showland\":true,\"showlakes\":true,\"lakecolor\":\"white\"},\"title\":{\"x\":0.05},\"mapbox\":{\"style\":\"light\"}}}},                        {\"responsive\": true}                    ).then(function(){\n",
       "                            \n",
       "var gd = document.getElementById('83250823-3b99-4df5-b347-8102bb21acc2');\n",
       "var x = new MutationObserver(function (mutations, observer) {{\n",
       "        var display = window.getComputedStyle(gd).display;\n",
       "        if (!display || display === 'none') {{\n",
       "            console.log([gd, 'removed!']);\n",
       "            Plotly.purge(gd);\n",
       "            observer.disconnect();\n",
       "        }}\n",
       "}});\n",
       "\n",
       "// Listen for the removal of the full notebook cells\n",
       "var notebookContainer = gd.closest('#notebook-container');\n",
       "if (notebookContainer) {{\n",
       "    x.observe(notebookContainer, {childList: true});\n",
       "}}\n",
       "\n",
       "// Listen for the clearing of the current output cell\n",
       "var outputEl = gd.closest('.output');\n",
       "if (outputEl) {{\n",
       "    x.observe(outputEl, {childList: true});\n",
       "}}\n",
       "\n",
       "                        })                };                });            </script>        </div>"
      ]
     },
     "metadata": {},
     "output_type": "display_data"
    }
   ],
   "source": [
    "optuna.visualization.plot_param_importances(study)"
   ]
  },
  {
   "cell_type": "markdown",
   "id": "292d752e",
   "metadata": {},
   "source": [
    "### Assigning the Best Hyperparameters"
   ]
  },
  {
   "cell_type": "code",
   "execution_count": 142,
   "id": "7ddf43a6",
   "metadata": {},
   "outputs": [
    {
     "data": {
      "text/plain": [
       "358"
      ]
     },
     "execution_count": 142,
     "metadata": {},
     "output_type": "execute_result"
    }
   ],
   "source": [
    "best_n_estimators = best_params['n_estimators']\n",
    "best_n_estimators"
   ]
  },
  {
   "cell_type": "code",
   "execution_count": 143,
   "id": "3b7741fb",
   "metadata": {},
   "outputs": [
    {
     "data": {
      "text/plain": [
       "34"
      ]
     },
     "execution_count": 143,
     "metadata": {},
     "output_type": "execute_result"
    }
   ],
   "source": [
    "best_max_depth = best_params['max_depth']\n",
    "best_max_depth\n"
   ]
  },
  {
   "cell_type": "code",
   "execution_count": 144,
   "id": "56f854ee",
   "metadata": {},
   "outputs": [
    {
     "data": {
      "text/plain": [
       "2"
      ]
     },
     "execution_count": 144,
     "metadata": {},
     "output_type": "execute_result"
    }
   ],
   "source": [
    "best_min_samples_split = best_params['min_samples_split']\n",
    "best_min_samples_split"
   ]
  },
  {
   "cell_type": "code",
   "execution_count": 145,
   "id": "6a30309c",
   "metadata": {},
   "outputs": [
    {
     "data": {
      "text/plain": [
       "2"
      ]
     },
     "execution_count": 145,
     "metadata": {},
     "output_type": "execute_result"
    }
   ],
   "source": [
    "best_min_samples_leaf = best_params['min_samples_leaf']\n",
    "best_min_samples_leaf"
   ]
  },
  {
   "cell_type": "code",
   "execution_count": 146,
   "id": "655dae0b",
   "metadata": {},
   "outputs": [
    {
     "data": {
      "text/plain": [
       "'auto'"
      ]
     },
     "execution_count": 146,
     "metadata": {},
     "output_type": "execute_result"
    }
   ],
   "source": [
    "best_max_features = best_params['max_features']\n",
    "best_max_features"
   ]
  },
  {
   "cell_type": "code",
   "execution_count": 147,
   "id": "a560f7f8",
   "metadata": {},
   "outputs": [
    {
     "data": {
      "text/plain": [
       "'mae'"
      ]
     },
     "execution_count": 147,
     "metadata": {},
     "output_type": "execute_result"
    }
   ],
   "source": [
    "best_criterion = best_params['criterion']\n",
    "best_criterion"
   ]
  },
  {
   "cell_type": "markdown",
   "id": "7ca8f8e7",
   "metadata": {},
   "source": [
    "## Ramdom Forest Model with The Best HyperParatmeters"
   ]
  },
  {
   "cell_type": "code",
   "execution_count": 148,
   "id": "5c48f932",
   "metadata": {},
   "outputs": [],
   "source": [
    "best_model = RandomForestRegressor( n_estimators = best_n_estimators,\n",
    "                                  max_depth = best_max_depth,\n",
    "                                  min_samples_split = best_min_samples_split,\n",
    "                                  min_samples_leaf =  best_min_samples_leaf,\n",
    "                                  )"
   ]
  },
  {
   "cell_type": "code",
   "execution_count": 149,
   "id": "b6743a26",
   "metadata": {},
   "outputs": [
    {
     "name": "stdout",
     "output_type": "stream",
     "text": [
      "Wall time: 377 ms\n"
     ]
    },
    {
     "data": {
      "text/plain": [
       "RandomForestRegressor(max_depth=34, min_samples_leaf=2, n_estimators=358)"
      ]
     },
     "execution_count": 149,
     "metadata": {},
     "output_type": "execute_result"
    }
   ],
   "source": [
    "%%time\n",
    "best_model.fit(X_train, y_train)"
   ]
  },
  {
   "cell_type": "code",
   "execution_count": 150,
   "id": "771978de",
   "metadata": {},
   "outputs": [],
   "source": [
    "y_pred = best_model.predict(X_test)"
   ]
  },
  {
   "cell_type": "code",
   "execution_count": 151,
   "id": "6da8ac65",
   "metadata": {},
   "outputs": [
    {
     "name": "stdout",
     "output_type": "stream",
     "text": [
      "Mean absolute error on model is 0.3761\n",
      "\n",
      "Mean squared error on model is 0.2073\n",
      "\n",
      "The r2 score on model is 0.9781\n"
     ]
    }
   ],
   "source": [
    "modelresults(y_pred)"
   ]
  },
  {
   "cell_type": "markdown",
   "id": "b17e97f7",
   "metadata": {},
   "source": [
    "We achieved a better MAE & MSE scores by tuning our hyperparameters with the Optuna model. However, the r2 score is not as high as the previous models we used for this dataset."
   ]
  },
  {
   "cell_type": "code",
   "execution_count": null,
   "id": "e79263c5",
   "metadata": {},
   "outputs": [],
   "source": []
  }
 ],
 "metadata": {
  "kernelspec": {
   "display_name": "Python 3",
   "language": "python",
   "name": "python3"
  },
  "language_info": {
   "codemirror_mode": {
    "name": "ipython",
    "version": 3
   },
   "file_extension": ".py",
   "mimetype": "text/x-python",
   "name": "python",
   "nbconvert_exporter": "python",
   "pygments_lexer": "ipython3",
   "version": "3.8.8"
  }
 },
 "nbformat": 4,
 "nbformat_minor": 5
}
